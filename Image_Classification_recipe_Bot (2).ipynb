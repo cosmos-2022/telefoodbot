{
  "nbformat": 4,
  "nbformat_minor": 0,
  "metadata": {
    "colab": {
      "name": "Image Classification_recipe_Bot.ipynb",
      "provenance": [],
      "collapsed_sections": []
    },
    "kernelspec": {
      "name": "python3",
      "display_name": "Python 3"
    },
    "language_info": {
      "name": "python"
    },
    "gpuClass": "standard",
    "accelerator": "GPU"
  },
  "cells": [
    {
      "cell_type": "markdown",
      "source": [
        "#Image classification for grocery images to list recipes"
      ],
      "metadata": {
        "id": "igH6ltuSrNFP"
      }
    },
    {
      "cell_type": "code",
      "execution_count": null,
      "metadata": {
        "colab": {
          "base_uri": "https://localhost:8080/"
        },
        "id": "62TWW7ufrIDG",
        "outputId": "05d6f900-d50e-4229-d7c4-d59a42c2dcf8"
      },
      "outputs": [
        {
          "output_type": "stream",
          "name": "stdout",
          "text": [
            "Mounted at /content/gdrive\n"
          ]
        }
      ],
      "source": [
        "from google.colab import drive\n",
        "drive.mount('/content/gdrive')"
      ]
    },
    {
      "cell_type": "code",
      "source": [
        "## set train, validation, and test paths \n",
        "train_path = '/content/gdrive/MyDrive/GroceryDataset/data/dataset/train' \n",
        "validation_path = '/content/gdrive/MyDrive/GroceryDataset/data/dataset/val'\n",
        "test_path = '/content/gdrive/MyDrive/GroceryDataset/data/dataset/test'"
      ],
      "metadata": {
        "id": "F8ghEVDOJrWZ"
      },
      "execution_count": null,
      "outputs": []
    },
    {
      "cell_type": "code",
      "source": [
        "!pip3 install keras"
      ],
      "metadata": {
        "colab": {
          "base_uri": "https://localhost:8080/"
        },
        "id": "FSiFLQkQKnzv",
        "outputId": "b68c3652-86c8-4c03-95ad-bf30ce0d16e7"
      },
      "execution_count": null,
      "outputs": [
        {
          "output_type": "stream",
          "name": "stdout",
          "text": [
            "Looking in indexes: https://pypi.org/simple, https://us-python.pkg.dev/colab-wheels/public/simple/\n",
            "Requirement already satisfied: keras in /usr/local/lib/python3.7/dist-packages (2.9.0)\n"
          ]
        }
      ]
    },
    {
      "cell_type": "code",
      "source": [
        "!pip uinstall tensorflow"
      ],
      "metadata": {
        "colab": {
          "base_uri": "https://localhost:8080/"
        },
        "id": "Xko5m5bUZq1v",
        "outputId": "6752c629-d6dc-40a1-873a-a469e6fb4e7b"
      },
      "execution_count": null,
      "outputs": [
        {
          "output_type": "stream",
          "name": "stdout",
          "text": [
            "ERROR: unknown command \"uinstall\" - maybe you meant \"uninstall\"\n"
          ]
        }
      ]
    },
    {
      "cell_type": "code",
      "source": [
        "# !pip uninstall Keras\n",
        "# !pip install Keras==2.1.5"
      ],
      "metadata": {
        "colab": {
          "base_uri": "https://localhost:8080/"
        },
        "id": "-lJUE12TZ7z4",
        "outputId": "e6259fe8-196a-47af-c3d3-64c689e904b6"
      },
      "execution_count": null,
      "outputs": [
        {
          "output_type": "stream",
          "name": "stdout",
          "text": [
            "Found existing installation: keras 2.8.0\n",
            "Uninstalling keras-2.8.0:\n",
            "  Would remove:\n",
            "    /usr/local/lib/python3.7/dist-packages/keras-2.8.0.dist-info/*\n",
            "    /usr/local/lib/python3.7/dist-packages/keras/*\n",
            "Proceed (y/n)? y\n",
            "  Successfully uninstalled keras-2.8.0\n",
            "Looking in indexes: https://pypi.org/simple, https://us-python.pkg.dev/colab-wheels/public/simple/\n",
            "Collecting Keras==2.1.5\n",
            "  Downloading Keras-2.1.5-py2.py3-none-any.whl (334 kB)\n",
            "\u001b[K     |████████████████████████████████| 334 kB 9.0 MB/s \n",
            "\u001b[?25hRequirement already satisfied: numpy>=1.9.1 in /usr/local/lib/python3.7/dist-packages (from Keras==2.1.5) (1.21.6)\n",
            "Requirement already satisfied: pyyaml in /usr/local/lib/python3.7/dist-packages (from Keras==2.1.5) (3.13)\n",
            "Requirement already satisfied: scipy>=0.14 in /usr/local/lib/python3.7/dist-packages (from Keras==2.1.5) (1.4.1)\n",
            "Requirement already satisfied: six>=1.9.0 in /usr/local/lib/python3.7/dist-packages (from Keras==2.1.5) (1.15.0)\n",
            "Installing collected packages: Keras\n",
            "\u001b[31mERROR: pip's dependency resolver does not currently take into account all the packages that are installed. This behaviour is the source of the following dependency conflicts.\n",
            "tensorflow 2.8.2+zzzcolab20220527125636 requires keras<2.9,>=2.8.0rc0, but you have keras 2.1.5 which is incompatible.\u001b[0m\n",
            "Successfully installed Keras-2.1.5\n"
          ]
        }
      ]
    },
    {
      "cell_type": "code",
      "source": [
        "#from keras.applications.resnet50 import ResNet50\n",
        "from keras.preprocessing.image import ImageDataGenerator\n"
      ],
      "metadata": {
        "id": "KkZ3BPzNKbF6"
      },
      "execution_count": null,
      "outputs": []
    },
    {
      "cell_type": "code",
      "source": [
        "Classes = ['Zucchini', #Soy-Milk, Sour-Milk, plume, papaya, Nectarine, garlic\n",
        "           'Yoghurt',\n",
        "           'Tomato',\n",
        "           'Soyghurt',\n",
        "           'Soy-Milk',\n",
        "           'Sour-Milk',\n",
        "           'Sour-Cream',\n",
        "           'Satsumas',\n",
        "           'Red-Grapfruit',\n",
        "           'Red-Beet',\n",
        "           'Potato',\n",
        "           'Pomegranate',\n",
        "           'Plum',\n",
        "           'Pineapple',\n",
        "           'Pepper',\n",
        "           'Pear',\n",
        "           'Peach',\n",
        "           'Passion-Fruit',\n",
        "           'Pappaya',\n",
        "           'Orange',\n",
        "           'Onion',\n",
        "           'Oatghurt',\n",
        "           'Oat-Milk',\n",
        "           'Nectarine',\n",
        "           'Milk',\n",
        "           'Melon',\n",
        "           'Mango',\n",
        "           'Lime',\n",
        "           'Lemon',\n",
        "           'Leek',\n",
        "           'Kiwi',\n",
        "           'Juice',\n",
        "           'Ginger',\n",
        "           'Garlic',\n",
        "           'Cucumber',\n",
        "           'Carrots',\n",
        "           'Cabbage',\n",
        "           'Brown-Cap-Mushroom',\n",
        "           'Banana',\n",
        "           'Avocado',\n",
        "           'Aubergine',\n",
        "           'Asparagus',\n",
        "           'Apple'\n",
        "           ]\n",
        "\n",
        "train_batches  = ImageDataGenerator().flow_from_directory(\n",
        "    train_path, target_size=(256,256),  batch_size = 32)\n",
        "\n",
        "validation_batches  = ImageDataGenerator().flow_from_directory(\n",
        "    validation_path, target_size=(256,256),  batch_size = 32)\n",
        "\n",
        "test_batches  = ImageDataGenerator().flow_from_directory(\n",
        "    test_path, target_size=(256,256),  batch_size = 32)"
      ],
      "metadata": {
        "colab": {
          "base_uri": "https://localhost:8080/"
        },
        "id": "TyRcKZFxKSZP",
        "outputId": "deb359ae-36bb-4e37-d022-174ca7fe5dee"
      },
      "execution_count": null,
      "outputs": [
        {
          "output_type": "stream",
          "name": "stdout",
          "text": [
            "Found 2680 images belonging to 43 classes.\n",
            "Found 334 images belonging to 43 classes.\n",
            "Found 2495 images belonging to 43 classes.\n"
          ]
        }
      ]
    },
    {
      "cell_type": "code",
      "source": [
        "train_batches.class_indices"
      ],
      "metadata": {
        "colab": {
          "base_uri": "https://localhost:8080/"
        },
        "id": "FyZfZZ47LFkG",
        "outputId": "9c3cb2cb-4db5-46dd-b3f5-bdd810bec95c"
      },
      "execution_count": null,
      "outputs": [
        {
          "output_type": "execute_result",
          "data": {
            "text/plain": [
              "{'Apple': 0,\n",
              " 'Asparagus': 1,\n",
              " 'Aubergine': 2,\n",
              " 'Avocado': 3,\n",
              " 'Banana': 4,\n",
              " 'Brown-Cap-Mushroom': 5,\n",
              " 'Cabbage': 6,\n",
              " 'Carrots': 7,\n",
              " 'Cucumber': 8,\n",
              " 'Garlic': 9,\n",
              " 'Ginger': 10,\n",
              " 'Juice': 11,\n",
              " 'Kiwi': 12,\n",
              " 'Leek': 13,\n",
              " 'Lemon': 14,\n",
              " 'Lime': 15,\n",
              " 'Mango': 16,\n",
              " 'Melon': 17,\n",
              " 'Milk': 18,\n",
              " 'Nectarine': 19,\n",
              " 'Oat-Milk': 20,\n",
              " 'Oatghurt': 21,\n",
              " 'Onion': 22,\n",
              " 'Orange': 23,\n",
              " 'Papaya': 24,\n",
              " 'Passion-Fruit': 25,\n",
              " 'Peach': 26,\n",
              " 'Pear': 27,\n",
              " 'Pepper': 28,\n",
              " 'Pineapple': 29,\n",
              " 'Plum': 30,\n",
              " 'Pomegranate': 31,\n",
              " 'Potato': 32,\n",
              " 'Red-Beet': 33,\n",
              " 'Red-Grapefruit': 34,\n",
              " 'Satsumas': 35,\n",
              " 'Sour-Cream': 36,\n",
              " 'Sour-Milk': 37,\n",
              " 'Soy-Milk': 38,\n",
              " 'Soyghurt': 39,\n",
              " 'Tomato': 40,\n",
              " 'Yoghurt': 41,\n",
              " 'Zucchini': 42}"
            ]
          },
          "metadata": {},
          "execution_count": 13
        }
      ]
    },
    {
      "cell_type": "code",
      "source": [
        "validation_batches.class_indices"
      ],
      "metadata": {
        "colab": {
          "base_uri": "https://localhost:8080/"
        },
        "id": "-G7iLcE7NHrH",
        "outputId": "352a1379-31fd-4072-c539-6a5bbd8b5555"
      },
      "execution_count": null,
      "outputs": [
        {
          "output_type": "execute_result",
          "data": {
            "text/plain": [
              "{'Apple': 0,\n",
              " 'Asparagus': 1,\n",
              " 'Aubergine': 2,\n",
              " 'Avocado': 3,\n",
              " 'Banana': 4,\n",
              " 'Brown-Cap-Mushroom': 5,\n",
              " 'Cabbage': 6,\n",
              " 'Carrots': 7,\n",
              " 'Cucumber': 8,\n",
              " 'Garlic': 9,\n",
              " 'Ginger': 10,\n",
              " 'Juice': 11,\n",
              " 'Kiwi': 12,\n",
              " 'Leek': 13,\n",
              " 'Lemon': 14,\n",
              " 'Lime': 15,\n",
              " 'Mango': 16,\n",
              " 'Melon': 17,\n",
              " 'Milk': 18,\n",
              " 'Nectarine': 19,\n",
              " 'Oat-Milk': 20,\n",
              " 'Oatghurt': 21,\n",
              " 'Onion': 22,\n",
              " 'Orange': 23,\n",
              " 'Papaya': 24,\n",
              " 'Passion-Fruit': 25,\n",
              " 'Peach': 26,\n",
              " 'Pear': 27,\n",
              " 'Pepper': 28,\n",
              " 'Pineapple': 29,\n",
              " 'Plum': 30,\n",
              " 'Pomegranate': 31,\n",
              " 'Potato': 32,\n",
              " 'Red-Beet': 33,\n",
              " 'Red-Grapefruit': 34,\n",
              " 'Satsumas': 35,\n",
              " 'Sour-Cream': 36,\n",
              " 'Sour-Milk': 37,\n",
              " 'Soy-Milk': 38,\n",
              " 'Soyghurt': 39,\n",
              " 'Tomato': 40,\n",
              " 'Yoghurt': 41,\n",
              " 'Zucchini': 42}"
            ]
          },
          "metadata": {},
          "execution_count": 14
        }
      ]
    },
    {
      "cell_type": "code",
      "source": [
        "test_batches.class_indices"
      ],
      "metadata": {
        "colab": {
          "base_uri": "https://localhost:8080/"
        },
        "id": "0zXQywSUOEGG",
        "outputId": "be68a854-17cc-4688-ceb4-cd470b1604db"
      },
      "execution_count": null,
      "outputs": [
        {
          "output_type": "execute_result",
          "data": {
            "text/plain": [
              "{'Apple': 0,\n",
              " 'Asparagus': 1,\n",
              " 'Aubergine': 2,\n",
              " 'Avocado': 3,\n",
              " 'Banana': 4,\n",
              " 'Cabbage': 5,\n",
              " 'Carrots': 6,\n",
              " 'Cucumber': 7,\n",
              " 'Garlic': 8,\n",
              " 'Ginger': 9,\n",
              " 'Juice': 10,\n",
              " 'Kiwi': 11,\n",
              " 'Leek': 12,\n",
              " 'Lemon': 13,\n",
              " 'Lime': 14,\n",
              " 'Mango': 15,\n",
              " 'Melon': 16,\n",
              " 'Milk': 17,\n",
              " 'Mushroom': 18,\n",
              " 'Nectarine': 19,\n",
              " 'Oat-Milk': 20,\n",
              " 'Oatghurt': 21,\n",
              " 'Onion': 22,\n",
              " 'Orange': 23,\n",
              " 'Papaya': 24,\n",
              " 'Passion-Fruit': 25,\n",
              " 'Peach': 26,\n",
              " 'Pear': 27,\n",
              " 'Pepper': 28,\n",
              " 'Pineapple': 29,\n",
              " 'Plum': 30,\n",
              " 'Pomegranate': 31,\n",
              " 'Potato': 32,\n",
              " 'Red-Beet': 33,\n",
              " 'Red-Grapefruit': 34,\n",
              " 'Satsumas': 35,\n",
              " 'Sour-Cream': 36,\n",
              " 'Sour-Milk': 37,\n",
              " 'Soy-Milk': 38,\n",
              " 'Soyghurt': 39,\n",
              " 'Tomato': 40,\n",
              " 'Yoghurt': 41,\n",
              " 'Zucchini': 42}"
            ]
          },
          "metadata": {},
          "execution_count": 15
        }
      ]
    },
    {
      "cell_type": "code",
      "source": [
        "#take a look at output of the generators\n",
        "\n",
        "for data_batch, labels_batch in train_batches:\n",
        "    print('data batch shape:', data_batch.shape)\n",
        "    print('labels batch shape:', labels_batch.shape)\n",
        "    break"
      ],
      "metadata": {
        "colab": {
          "base_uri": "https://localhost:8080/"
        },
        "id": "7HX62KCeYOiL",
        "outputId": "fdb62840-4f48-4afe-8b97-835d324ae4cf"
      },
      "execution_count": null,
      "outputs": [
        {
          "output_type": "stream",
          "name": "stdout",
          "text": [
            "data batch shape: (32, 256, 256, 3)\n",
            "labels batch shape: (32, 43)\n"
          ]
        }
      ]
    },
    {
      "cell_type": "code",
      "source": [
        "from tensorflow.python.client import device_lib \n",
        "print(device_lib.list_local_devices()) "
      ],
      "metadata": {
        "colab": {
          "base_uri": "https://localhost:8080/"
        },
        "id": "LQ1K_796YfrY",
        "outputId": "8949f5f9-19e8-463f-f7d4-1e4f79ef9f69"
      },
      "execution_count": null,
      "outputs": [
        {
          "output_type": "stream",
          "name": "stdout",
          "text": [
            "[name: \"/device:CPU:0\"\n",
            "device_type: \"CPU\"\n",
            "memory_limit: 268435456\n",
            "locality {\n",
            "}\n",
            "incarnation: 490796262516138381\n",
            "xla_global_id: -1\n",
            ", name: \"/device:GPU:0\"\n",
            "device_type: \"GPU\"\n",
            "memory_limit: 14444920832\n",
            "locality {\n",
            "  bus_id: 1\n",
            "  links {\n",
            "  }\n",
            "}\n",
            "incarnation: 17607664415429656508\n",
            "physical_device_desc: \"device: 0, name: Tesla T4, pci bus id: 0000:00:04.0, compute capability: 7.5\"\n",
            "xla_global_id: 416903419\n",
            "]\n"
          ]
        }
      ]
    },
    {
      "cell_type": "code",
      "source": [
        "\n",
        "\n",
        "# !pip uninstall Keras-Applications\n",
        "#!pip install Keras-Applications \n",
        "\n",
        "# !pip uninstall Keras-Preprocessing\n",
        "# !pip install Keras-Preprocessing==1.1.0"
      ],
      "metadata": {
        "id": "bVTXb3SSZKUF"
      },
      "execution_count": null,
      "outputs": []
    },
    {
      "cell_type": "code",
      "source": [
        "#from keras.applications.resnet import ResNet50"
      ],
      "metadata": {
        "id": "7bA5_2_AY9N3"
      },
      "execution_count": null,
      "outputs": []
    },
    {
      "cell_type": "code",
      "source": [
        "#resnet50_base_model = ResNet50(weights='imagenet', include_top=False)"
      ],
      "metadata": {
        "id": "fMyUDPq9cXWM"
      },
      "execution_count": null,
      "outputs": []
    },
    {
      "cell_type": "code",
      "source": [
        "#resnet50_base_model.summary()"
      ],
      "metadata": {
        "id": "8y6pgABHcf6v"
      },
      "execution_count": null,
      "outputs": []
    },
    {
      "cell_type": "markdown",
      "source": [
        "#Building Model 1"
      ],
      "metadata": {
        "id": "POHNKrRbksw8"
      }
    },
    {
      "cell_type": "code",
      "source": [
        "from keras.layers import Dense, GlobalAveragePooling2D, BatchNormalization, Dropout, Flatten"
      ],
      "metadata": {
        "id": "FgT2aH8plgQq"
      },
      "execution_count": null,
      "outputs": []
    },
    {
      "cell_type": "code",
      "source": [
        "from tensorflow.keras.models import Sequential\n",
        "from tensorflow.keras.layers import Conv2D, MaxPool2D, Dropout, Flatten, Dense \n",
        "#Model development\n",
        "\n",
        "model = Sequential()\n",
        "\n",
        "#Stack 1\n",
        "#convolution\n",
        "model.add(Conv2D(filters=128, kernel_size=3, padding=\"same\", activation=\"relu\", input_shape=(224,224,3)))\n",
        "model.add(Conv2D(filters=128, kernel_size=3, padding=\"same\", activation=\"relu\"))\n",
        "#pooling\n",
        "model.add(MaxPool2D(pool_size=2, strides=2))\n",
        "#dropout \n",
        "model.add(Dropout(0.2))\n",
        "\n",
        "#Stack 2\n",
        "#convolution\n",
        "model.add(Conv2D(filters=256, kernel_size=3, padding=\"same\", activation=\"relu\"))\n",
        "model.add(Conv2D(filters=256, kernel_size=3, padding=\"same\", activation=\"relu\"))\n",
        "#pooling\n",
        "model.add(MaxPool2D(pool_size=2, strides=2))\n",
        "#dropout \n",
        "model.add(Dropout(0.5))\n",
        "\n",
        "#Stack 3\n",
        "#convolution\n",
        "model.add(Conv2D(filters=512, kernel_size=3, padding=\"same\", activation=\"relu\"))\n",
        "model.add(Conv2D(filters=512, kernel_size=3, padding=\"same\", activation=\"relu\"))\n",
        "#pooling\n",
        "model.add(MaxPool2D(pool_size=2, strides=2))\n",
        "#dropout \n",
        "model.add(Dropout(0.5))\n",
        "\n",
        "#flattening\n",
        "model.add(Flatten())\n",
        "\n",
        "#full connection\n",
        "model.add(Dense(units=1000, activation=\"relu\"))\n",
        "#dropout \n",
        "model.add(Dropout(0.5))\n",
        "\n",
        "#full connection\n",
        "model.add(Dense(units=1000, activation=\"relu\"))\n",
        "#dropout \n",
        "model.add(Dropout(0.5))\n",
        "\n",
        "#full connection\n",
        "model.add(Dense(units=512, activation=\"relu\"))\n",
        "\n",
        "#output layer\n",
        "model.add(Dense(units=43, activation=\"softmax\"))"
      ],
      "metadata": {
        "id": "glpDt0pskjPa"
      },
      "execution_count": null,
      "outputs": []
    },
    {
      "cell_type": "code",
      "source": [
        "model.summary()"
      ],
      "metadata": {
        "id": "QJfJd8nDlX8f",
        "colab": {
          "base_uri": "https://localhost:8080/"
        },
        "outputId": "0a469351-3bb7-461c-ad05-8b87fab0ebc3"
      },
      "execution_count": null,
      "outputs": [
        {
          "output_type": "stream",
          "name": "stdout",
          "text": [
            "Model: \"sequential\"\n",
            "_________________________________________________________________\n",
            " Layer (type)                Output Shape              Param #   \n",
            "=================================================================\n",
            " conv2d (Conv2D)             (None, 224, 224, 128)     3584      \n",
            "                                                                 \n",
            " conv2d_1 (Conv2D)           (None, 224, 224, 128)     147584    \n",
            "                                                                 \n",
            " max_pooling2d (MaxPooling2D  (None, 112, 112, 128)    0         \n",
            " )                                                               \n",
            "                                                                 \n",
            " dropout (Dropout)           (None, 112, 112, 128)     0         \n",
            "                                                                 \n",
            " conv2d_2 (Conv2D)           (None, 112, 112, 256)     295168    \n",
            "                                                                 \n",
            " conv2d_3 (Conv2D)           (None, 112, 112, 256)     590080    \n",
            "                                                                 \n",
            " max_pooling2d_1 (MaxPooling  (None, 56, 56, 256)      0         \n",
            " 2D)                                                             \n",
            "                                                                 \n",
            " dropout_1 (Dropout)         (None, 56, 56, 256)       0         \n",
            "                                                                 \n",
            " conv2d_4 (Conv2D)           (None, 56, 56, 512)       1180160   \n",
            "                                                                 \n",
            " conv2d_5 (Conv2D)           (None, 56, 56, 512)       2359808   \n",
            "                                                                 \n",
            " max_pooling2d_2 (MaxPooling  (None, 28, 28, 512)      0         \n",
            " 2D)                                                             \n",
            "                                                                 \n",
            " dropout_2 (Dropout)         (None, 28, 28, 512)       0         \n",
            "                                                                 \n",
            " flatten (Flatten)           (None, 401408)            0         \n",
            "                                                                 \n",
            " dense (Dense)               (None, 1000)              401409000 \n",
            "                                                                 \n",
            " dropout_3 (Dropout)         (None, 1000)              0         \n",
            "                                                                 \n",
            " dense_1 (Dense)             (None, 1000)              1001000   \n",
            "                                                                 \n",
            " dropout_4 (Dropout)         (None, 1000)              0         \n",
            "                                                                 \n",
            " dense_2 (Dense)             (None, 512)               512512    \n",
            "                                                                 \n",
            " dense_3 (Dense)             (None, 43)                22059     \n",
            "                                                                 \n",
            "=================================================================\n",
            "Total params: 407,520,955\n",
            "Trainable params: 407,520,955\n",
            "Non-trainable params: 0\n",
            "_________________________________________________________________\n"
          ]
        }
      ]
    },
    {
      "cell_type": "code",
      "source": [
        "# base_x = resnet50_base_model.output\n",
        "# global_pooling_x = GlobalAveragePooling2D()(base_x)\n",
        "# #add dense layer\n",
        "# dense_layer = Dense(512, activation='relu')(global_pooling_x)\n",
        "# #add final output layer\n",
        "# base_prediction = Dense(43, activation = 'softmax')(dense_layer)\n",
        "\n",
        "# #create the whole network\n",
        "# resnet_transfer_model_1 = Model(inputs=resnet50_base_model.input, outputs=base_prediction)\n",
        "\n",
        "# resnet_transfer_model_1.summary()"
      ],
      "metadata": {
        "id": "Kz0FIbh2cle4"
      },
      "execution_count": null,
      "outputs": []
    },
    {
      "cell_type": "code",
      "source": [
        "train_datagen = ImageDataGenerator(\n",
        "        rotation_range=40,\n",
        "        width_shift_range=0.2,\n",
        "        height_shift_range=0.2,\n",
        "        fill_mode='nearest',\n",
        "        rescale=1./255,\n",
        "        shear_range=0.2,\n",
        "        zoom_range=0.2,\n",
        "        horizontal_flip=True)\n",
        "\n",
        "test_datagen = ImageDataGenerator(rescale=1./255)\n",
        "\n",
        "train_generator = train_datagen.flow_from_directory(\n",
        "        train_path,\n",
        "        target_size=(256, 256),\n",
        "        batch_size=32,\n",
        "        class_mode='categorical')\n",
        "\n",
        "validation_generator = test_datagen.flow_from_directory(\n",
        "        validation_path,\n",
        "        target_size=(256, 256),\n",
        "        batch_size=32,\n",
        "        class_mode='categorical')\n",
        "\n",
        "test_generator = test_datagen.flow_from_directory(test_path,\n",
        "        target_size=(256, 256),\n",
        "        batch_size=32,\n",
        "        class_mode='categorical')\n",
        "\n",
        "## set steps per epoch for train\n",
        "train_filenames_res = train_generator.filenames\n",
        "steps_train_res = len(train_filenames_res)/train_generator.batch_size\n",
        "\n",
        "## set steps per epoch for validation\n",
        "validation_filenames_res = validation_generator.filenames\n",
        "steps_valid_res = len(validation_filenames_res)/validation_generator.batch_size\n",
        "\n",
        "##set steps of test \n",
        "test_res_filenames = test_generator.filenames\n",
        "step_test_res = len(test_res_filenames) /test_generator.batch_size\n",
        "\n",
        "print(len(validation_filenames_res), \" \", steps_valid_res)"
      ],
      "metadata": {
        "colab": {
          "base_uri": "https://localhost:8080/"
        },
        "id": "_DYnq30edGY6",
        "outputId": "04617465-5b8c-44ef-de2c-b49a491b54cc"
      },
      "execution_count": null,
      "outputs": [
        {
          "output_type": "stream",
          "name": "stdout",
          "text": [
            "Found 2680 images belonging to 43 classes.\n",
            "Found 334 images belonging to 43 classes.\n",
            "Found 2495 images belonging to 43 classes.\n",
            "334   10.4375\n"
          ]
        }
      ]
    },
    {
      "cell_type": "code",
      "source": [
        "from tensorflow.keras import optimizers"
      ],
      "metadata": {
        "id": "6uwnwGFRm0ja"
      },
      "execution_count": null,
      "outputs": []
    },
    {
      "cell_type": "code",
      "source": [
        "opt = optimizers.Adam(learning_rate=0.0001)\n",
        "\n",
        "model.compile(loss='categorical_crossentropy', optimizer=opt,metrics=['accuracy'])\n",
        "\n"
      ],
      "metadata": {
        "id": "8rNLtGMsdTQP"
      },
      "execution_count": null,
      "outputs": []
    },
    {
      "cell_type": "code",
      "source": [
        "from tensorflow.keras.callbacks import Callback, EarlyStopping, ModelCheckpoint\n",
        "#from tensorflow.keras import optimizers\n",
        "\n",
        "#early stopping to monitor the validation loss and avoid overfitting\n",
        "min_stop = EarlyStopping(monitor='val_loss', mode='min', verbose=1, patience=20)\n",
        "\n",
        "#saving the model checkpoint for the best model\n",
        "model_check = ModelCheckpoint('/content/gdrive/MyDrive/GroceryDataset/data/dataset/best_model.h5', monitor='val_loss', mode='min', save_best_only=True, verbose=1)"
      ],
      "metadata": {
        "id": "B0OEeE2sm-Dw"
      },
      "execution_count": null,
      "outputs": []
    },
    {
      "cell_type": "code",
      "source": [
        "model_hist = model.fit_generator(train_generator,\n",
        "                          steps_per_epoch=steps_train_res,\n",
        "                          validation_data=validation_generator,\n",
        "                          validation_steps=steps_valid_res,\n",
        "                          callbacks=[min_stop,model_check],\n",
        "                          verbose=1,\n",
        "                          epochs=30)"
      ],
      "metadata": {
        "colab": {
          "base_uri": "https://localhost:8080/"
        },
        "id": "yg9FHfUunaWX",
        "outputId": "d25ea140-07df-41dc-d94f-03aff1f6b85a"
      },
      "execution_count": null,
      "outputs": [
        {
          "output_type": "stream",
          "name": "stderr",
          "text": [
            "/usr/local/lib/python3.7/dist-packages/ipykernel_launcher.py:7: UserWarning: `Model.fit_generator` is deprecated and will be removed in a future version. Please use `Model.fit`, which supports generators.\n",
            "  import sys\n"
          ]
        },
        {
          "output_type": "stream",
          "name": "stdout",
          "text": [
            "Epoch 1/30\n",
            "83/82 [==============================] - ETA: -4s - loss: 3.5168 - accuracy: 0.0898\n",
            "Epoch 1: val_loss improved from inf to 3.65668, saving model to /content/gdrive/MyDrive/GroceryDataset/data/dataset/best_model.h5\n",
            "82/82 [==============================] - 893s 11s/step - loss: 3.5168 - accuracy: 0.0898 - val_loss: 3.6567 - val_accuracy: 0.0926\n",
            "Epoch 2/30\n",
            "83/82 [==============================] - ETA: 0s - loss: 3.2681 - accuracy: 0.1341\n",
            "Epoch 2: val_loss improved from 3.65668 to 3.36354, saving model to /content/gdrive/MyDrive/GroceryDataset/data/dataset/best_model.h5\n",
            "82/82 [==============================] - 137s 2s/step - loss: 3.2681 - accuracy: 0.1341 - val_loss: 3.3635 - val_accuracy: 0.1821\n",
            "Epoch 3/30\n",
            "83/82 [==============================] - ETA: 0s - loss: 2.9612 - accuracy: 0.1970\n",
            "Epoch 3: val_loss improved from 3.36354 to 3.11327, saving model to /content/gdrive/MyDrive/GroceryDataset/data/dataset/best_model.h5\n",
            "82/82 [==============================] - 137s 2s/step - loss: 2.9612 - accuracy: 0.1970 - val_loss: 3.1133 - val_accuracy: 0.2222\n",
            "Epoch 4/30\n",
            "83/82 [==============================] - ETA: 0s - loss: 2.8349 - accuracy: 0.2163\n",
            "Epoch 4: val_loss improved from 3.11327 to 3.00640, saving model to /content/gdrive/MyDrive/GroceryDataset/data/dataset/best_model.h5\n",
            "82/82 [==============================] - 132s 2s/step - loss: 2.8349 - accuracy: 0.2163 - val_loss: 3.0064 - val_accuracy: 0.2006\n",
            "Epoch 5/30\n",
            "83/82 [==============================] - ETA: 0s - loss: 2.6797 - accuracy: 0.2303\n",
            "Epoch 5: val_loss improved from 3.00640 to 3.00007, saving model to /content/gdrive/MyDrive/GroceryDataset/data/dataset/best_model.h5\n",
            "82/82 [==============================] - 133s 2s/step - loss: 2.6797 - accuracy: 0.2303 - val_loss: 3.0001 - val_accuracy: 0.2160\n",
            "Epoch 6/30\n",
            "83/82 [==============================] - ETA: 0s - loss: 2.5497 - accuracy: 0.2720\n",
            "Epoch 6: val_loss improved from 3.00007 to 2.87450, saving model to /content/gdrive/MyDrive/GroceryDataset/data/dataset/best_model.h5\n",
            "82/82 [==============================] - 113s 1s/step - loss: 2.5497 - accuracy: 0.2720 - val_loss: 2.8745 - val_accuracy: 0.2068\n",
            "Epoch 7/30\n",
            "83/82 [==============================] - ETA: 0s - loss: 2.4065 - accuracy: 0.3049\n",
            "Epoch 7: val_loss improved from 2.87450 to 2.67159, saving model to /content/gdrive/MyDrive/GroceryDataset/data/dataset/best_model.h5\n",
            "82/82 [==============================] - 116s 1s/step - loss: 2.4065 - accuracy: 0.3049 - val_loss: 2.6716 - val_accuracy: 0.2315\n",
            "Epoch 8/30\n",
            "83/82 [==============================] - ETA: 0s - loss: 2.2177 - accuracy: 0.3492\n",
            "Epoch 8: val_loss improved from 2.67159 to 2.50269, saving model to /content/gdrive/MyDrive/GroceryDataset/data/dataset/best_model.h5\n",
            "82/82 [==============================] - 118s 1s/step - loss: 2.2177 - accuracy: 0.3492 - val_loss: 2.5027 - val_accuracy: 0.2932\n",
            "Epoch 9/30\n",
            "83/82 [==============================] - ETA: 0s - loss: 2.1087 - accuracy: 0.3678\n",
            "Epoch 9: val_loss improved from 2.50269 to 2.41533, saving model to /content/gdrive/MyDrive/GroceryDataset/data/dataset/best_model.h5\n",
            "82/82 [==============================] - 119s 1s/step - loss: 2.1087 - accuracy: 0.3678 - val_loss: 2.4153 - val_accuracy: 0.3117\n",
            "Epoch 10/30\n",
            "83/82 [==============================] - ETA: 0s - loss: 1.9867 - accuracy: 0.3939\n",
            "Epoch 10: val_loss improved from 2.41533 to 2.34017, saving model to /content/gdrive/MyDrive/GroceryDataset/data/dataset/best_model.h5\n",
            "82/82 [==============================] - 130s 2s/step - loss: 1.9867 - accuracy: 0.3939 - val_loss: 2.3402 - val_accuracy: 0.2778\n",
            "Epoch 11/30\n",
            "83/82 [==============================] - ETA: 0s - loss: 1.8739 - accuracy: 0.4280\n",
            "Epoch 11: val_loss improved from 2.34017 to 2.12181, saving model to /content/gdrive/MyDrive/GroceryDataset/data/dataset/best_model.h5\n",
            "82/82 [==============================] - 129s 2s/step - loss: 1.8739 - accuracy: 0.4280 - val_loss: 2.1218 - val_accuracy: 0.3889\n",
            "Epoch 12/30\n",
            "83/82 [==============================] - ETA: 0s - loss: 1.7471 - accuracy: 0.4545\n",
            "Epoch 12: val_loss improved from 2.12181 to 1.98403, saving model to /content/gdrive/MyDrive/GroceryDataset/data/dataset/best_model.h5\n",
            "82/82 [==============================] - 139s 2s/step - loss: 1.7471 - accuracy: 0.4545 - val_loss: 1.9840 - val_accuracy: 0.3827\n",
            "Epoch 13/30\n",
            "83/82 [==============================] - ETA: 0s - loss: 1.5958 - accuracy: 0.4867\n",
            "Epoch 13: val_loss improved from 1.98403 to 1.81230, saving model to /content/gdrive/MyDrive/GroceryDataset/data/dataset/best_model.h5\n",
            "82/82 [==============================] - 128s 2s/step - loss: 1.5958 - accuracy: 0.4867 - val_loss: 1.8123 - val_accuracy: 0.4167\n",
            "Epoch 14/30\n",
            "83/82 [==============================] - ETA: 0s - loss: 1.5211 - accuracy: 0.5042\n",
            "Epoch 14: val_loss did not improve from 1.81230\n",
            "82/82 [==============================] - 81s 977ms/step - loss: 1.5211 - accuracy: 0.5042 - val_loss: 1.9729 - val_accuracy: 0.3920\n",
            "Epoch 15/30\n",
            "83/82 [==============================] - ETA: 0s - loss: 1.4350 - accuracy: 0.5292\n",
            "Epoch 15: val_loss did not improve from 1.81230\n",
            "82/82 [==============================] - 76s 913ms/step - loss: 1.4350 - accuracy: 0.5292 - val_loss: 1.9262 - val_accuracy: 0.4074\n",
            "Epoch 16/30\n",
            "83/82 [==============================] - ETA: 0s - loss: 1.3711 - accuracy: 0.5439\n",
            "Epoch 16: val_loss improved from 1.81230 to 1.70089, saving model to /content/gdrive/MyDrive/GroceryDataset/data/dataset/best_model.h5\n",
            "82/82 [==============================] - 142s 2s/step - loss: 1.3711 - accuracy: 0.5439 - val_loss: 1.7009 - val_accuracy: 0.4414\n",
            "Epoch 17/30\n",
            "83/82 [==============================] - ETA: 0s - loss: 1.2753 - accuracy: 0.5780\n",
            "Epoch 17: val_loss improved from 1.70089 to 1.67290, saving model to /content/gdrive/MyDrive/GroceryDataset/data/dataset/best_model.h5\n",
            "82/82 [==============================] - 135s 2s/step - loss: 1.2753 - accuracy: 0.5780 - val_loss: 1.6729 - val_accuracy: 0.4691\n",
            "Epoch 18/30\n",
            "83/82 [==============================] - ETA: 0s - loss: 1.2401 - accuracy: 0.5860\n",
            "Epoch 18: val_loss did not improve from 1.67290\n",
            "82/82 [==============================] - 78s 937ms/step - loss: 1.2401 - accuracy: 0.5860 - val_loss: 1.8687 - val_accuracy: 0.4167\n",
            "Epoch 19/30\n",
            "83/82 [==============================] - ETA: 0s - loss: 1.1596 - accuracy: 0.6136\n",
            "Epoch 19: val_loss improved from 1.67290 to 1.55658, saving model to /content/gdrive/MyDrive/GroceryDataset/data/dataset/best_model.h5\n",
            "82/82 [==============================] - 120s 1s/step - loss: 1.1596 - accuracy: 0.6136 - val_loss: 1.5566 - val_accuracy: 0.4907\n",
            "Epoch 20/30\n",
            "83/82 [==============================] - ETA: 0s - loss: 1.1179 - accuracy: 0.6284\n",
            "Epoch 20: val_loss improved from 1.55658 to 1.41959, saving model to /content/gdrive/MyDrive/GroceryDataset/data/dataset/best_model.h5\n",
            "82/82 [==============================] - 114s 1s/step - loss: 1.1179 - accuracy: 0.6284 - val_loss: 1.4196 - val_accuracy: 0.5494\n",
            "Epoch 21/30\n",
            "83/82 [==============================] - ETA: 0s - loss: 1.0989 - accuracy: 0.6443\n",
            "Epoch 21: val_loss did not improve from 1.41959\n",
            "82/82 [==============================] - 79s 950ms/step - loss: 1.0989 - accuracy: 0.6443 - val_loss: 1.8793 - val_accuracy: 0.4722\n",
            "Epoch 22/30\n",
            "83/82 [==============================] - ETA: 0s - loss: 1.0367 - accuracy: 0.6648\n",
            "Epoch 22: val_loss did not improve from 1.41959\n",
            "82/82 [==============================] - 75s 911ms/step - loss: 1.0367 - accuracy: 0.6648 - val_loss: 1.5685 - val_accuracy: 0.4846\n",
            "Epoch 23/30\n",
            "83/82 [==============================] - ETA: 0s - loss: 0.9800 - accuracy: 0.6818\n",
            "Epoch 23: val_loss did not improve from 1.41959\n",
            "82/82 [==============================] - 75s 908ms/step - loss: 0.9800 - accuracy: 0.6818 - val_loss: 1.5244 - val_accuracy: 0.5525\n",
            "Epoch 24/30\n",
            "83/82 [==============================] - ETA: 0s - loss: 0.9295 - accuracy: 0.6864\n",
            "Epoch 24: val_loss did not improve from 1.41959\n",
            "82/82 [==============================] - 75s 905ms/step - loss: 0.9295 - accuracy: 0.6864 - val_loss: 1.7512 - val_accuracy: 0.4877\n",
            "Epoch 25/30\n",
            "83/82 [==============================] - ETA: 0s - loss: 0.9032 - accuracy: 0.6992\n",
            "Epoch 25: val_loss did not improve from 1.41959\n",
            "82/82 [==============================] - 75s 905ms/step - loss: 0.9032 - accuracy: 0.6992 - val_loss: 1.5861 - val_accuracy: 0.5247\n",
            "Epoch 26/30\n",
            "83/82 [==============================] - ETA: 0s - loss: 0.8382 - accuracy: 0.7189\n",
            "Epoch 26: val_loss did not improve from 1.41959\n",
            "82/82 [==============================] - 75s 910ms/step - loss: 0.8382 - accuracy: 0.7189 - val_loss: 1.9066 - val_accuracy: 0.4846\n",
            "Epoch 27/30\n",
            "83/82 [==============================] - ETA: 0s - loss: 0.8421 - accuracy: 0.7231\n",
            "Epoch 27: val_loss did not improve from 1.41959\n",
            "82/82 [==============================] - 75s 906ms/step - loss: 0.8421 - accuracy: 0.7231 - val_loss: 1.6781 - val_accuracy: 0.5123\n",
            "Epoch 28/30\n",
            "83/82 [==============================] - ETA: 0s - loss: 0.7990 - accuracy: 0.7303\n",
            "Epoch 28: val_loss did not improve from 1.41959\n",
            "82/82 [==============================] - 75s 908ms/step - loss: 0.7990 - accuracy: 0.7303 - val_loss: 1.5486 - val_accuracy: 0.5340\n",
            "Epoch 29/30\n",
            "83/82 [==============================] - ETA: 0s - loss: 0.7778 - accuracy: 0.7398\n",
            "Epoch 29: val_loss did not improve from 1.41959\n",
            "82/82 [==============================] - 75s 906ms/step - loss: 0.7778 - accuracy: 0.7398 - val_loss: 1.5482 - val_accuracy: 0.5586\n",
            "Epoch 30/30\n",
            "83/82 [==============================] - ETA: 0s - loss: 0.7740 - accuracy: 0.7398\n",
            "Epoch 30: val_loss did not improve from 1.41959\n",
            "82/82 [==============================] - 75s 907ms/step - loss: 0.7740 - accuracy: 0.7398 - val_loss: 1.8590 - val_accuracy: 0.4907\n"
          ]
        }
      ]
    },
    {
      "cell_type": "code",
      "source": [
        "# model_fit_generator = model.fit(\n",
        "#         res_train_generator,\n",
        "#         steps_per_epoch=steps_train_res,\n",
        "#         epochs=30,\n",
        "#         validation_data=res_validation_generator,\n",
        "#         validation_steps=steps_valid_res)"
      ],
      "metadata": {
        "id": "okjWnT1RmF5u"
      },
      "execution_count": null,
      "outputs": []
    },
    {
      "cell_type": "code",
      "source": [
        "#resnet_transfer_model_1.save('/content/gdrive/MyDrive/GroceryDataset/data/dataset/restnet50_model')"
      ],
      "metadata": {
        "id": "34gOdEE0ei40"
      },
      "execution_count": null,
      "outputs": []
    },
    {
      "cell_type": "code",
      "source": [
        "#model.save('/content/gdrive/MyDrive/GroceryDataset/data/dataset/best_model.h5')"
      ],
      "metadata": {
        "id": "xcygLZ3U2hqD"
      },
      "execution_count": null,
      "outputs": []
    },
    {
      "cell_type": "code",
      "source": [
        "# from tensorflow.keras.models import load_model"
      ],
      "metadata": {
        "id": "Kv4meGh3Ry-e"
      },
      "execution_count": null,
      "outputs": []
    },
    {
      "cell_type": "code",
      "source": [
        "# best_model = load_model('/content/gdrive/MyDrive/GroceryDataset/data/dataset/best_model')"
      ],
      "metadata": {
        "id": "1Ie2dtUu3lhH"
      },
      "execution_count": null,
      "outputs": []
    },
    {
      "cell_type": "code",
      "source": [
        "# import tensorflow as tf\n",
        "# converter = tf.lite.TFLiteConverter.from_keras_model(best_model.h5)\n",
        "# tflite_model = converter.convert()\n",
        "# # Save the model.\n",
        "# with open('model.tflite', 'wb') as f:\n",
        "#   f.write(tflite_model)"
      ],
      "metadata": {
        "id": "VoWtOBZM3akR"
      },
      "execution_count": null,
      "outputs": []
    },
    {
      "cell_type": "code",
      "source": [
        ""
      ],
      "metadata": {
        "id": "y7CV22B54bbs"
      },
      "execution_count": null,
      "outputs": []
    },
    {
      "cell_type": "code",
      "source": [
        "import tensorflow as tf\n",
        "import h5py\n"
      ],
      "metadata": {
        "id": "mWEGyV717Go7"
      },
      "execution_count": null,
      "outputs": []
    },
    {
      "cell_type": "code",
      "source": [
        "from keras.models import load_model"
      ],
      "metadata": {
        "id": "wYUJ7Tm47pbv"
      },
      "execution_count": null,
      "outputs": []
    },
    {
      "cell_type": "code",
      "source": [
        "#load_model = load_model('/content/gdrive/MyDrive/GroceryDataset/data/dataset/best')"
      ],
      "metadata": {
        "id": "2Z8bDvfT6k7O"
      },
      "execution_count": null,
      "outputs": []
    },
    {
      "cell_type": "markdown",
      "source": [
        "#Accuracy"
      ],
      "metadata": {
        "id": "ze3o121tUkfd"
      }
    },
    {
      "cell_type": "code",
      "source": [
        "#Model Evaluation\n",
        "valid_loss, valid_accuracy = model.evaluate_generator(generator=validation_generator, steps=steps_valid_res)\n",
        "test_loss, test_accuracy = model.evaluate_generator(test_generator,steps=step_test_res)\n",
        "train_loss ,train_accuracy = model.evaluate_generator(generator=train_generator, steps=steps_train_res)\n",
        "print('Validation Accuracy: ', round((valid_accuracy * 100), 2), \"%\")\n",
        "print('Test Accuracy: ', round((test_accuracy * 100), 2), \"%\")\n",
        "print(\" \")\n",
        "print('Validation Loss: ', round(valid_loss, 2))\n",
        "print('Test Loss: ', round(test_loss, 2))\n",
        "print(\" \")\n",
        "print('Train Accuracy: ', round((train_accuracy * 100), 2), \"%\")\n",
        "print('Train Loss: ', round(train_loss, 2))"
      ],
      "metadata": {
        "colab": {
          "base_uri": "https://localhost:8080/"
        },
        "id": "muIJURalSPq6",
        "outputId": "06416fe4-6a2a-4084-a861-ac44b008d6e9"
      },
      "execution_count": null,
      "outputs": [
        {
          "output_type": "stream",
          "name": "stderr",
          "text": [
            "/usr/local/lib/python3.7/dist-packages/ipykernel_launcher.py:2: UserWarning: `Model.evaluate_generator` is deprecated and will be removed in a future version. Please use `Model.evaluate`, which supports generators.\n",
            "  \n",
            "/usr/local/lib/python3.7/dist-packages/ipykernel_launcher.py:3: UserWarning: `Model.evaluate_generator` is deprecated and will be removed in a future version. Please use `Model.evaluate`, which supports generators.\n",
            "  This is separate from the ipykernel package so we can avoid doing imports until\n",
            "/usr/local/lib/python3.7/dist-packages/ipykernel_launcher.py:4: UserWarning: `Model.evaluate_generator` is deprecated and will be removed in a future version. Please use `Model.evaluate`, which supports generators.\n",
            "  after removing the cwd from sys.path.\n"
          ]
        },
        {
          "output_type": "stream",
          "name": "stdout",
          "text": [
            "Validation Accuracy:  49.07 %\n",
            "Test Accuracy:  36.42 %\n",
            " \n",
            "Validation Loss:  1.86\n",
            "Test Loss:  5.98\n",
            " \n",
            "Train Accuracy:  81.93 %\n",
            "Train Loss:  0.59\n"
          ]
        }
      ]
    },
    {
      "cell_type": "code",
      "source": [
        "import matplotlib.pyplot as plt\n",
        "\n",
        "acc = model.history.history['accuracy']\n",
        "val_acc = model.history.history['val_accuracy']\n",
        "loss = model.history.history['loss']\n",
        "val_loss = model.history.history['val_loss']\n",
        "\n",
        "epochs = range(len(acc))\n",
        "\n",
        "plt.plot(epochs, acc, 'bo', label='Training acc')\n",
        "plt.plot(epochs, val_acc, 'b', label='Validation acc', color = 'r')\n",
        "plt.title('Training and validation accuracy')\n",
        "plt.legend()\n",
        "\n",
        "plt.figure()\n",
        "\n",
        "plt.plot(epochs, loss, 'bo', label='Training loss')\n",
        "plt.plot(epochs, val_loss, 'b', label='Validation loss', color = 'r')\n",
        "plt.title('Training and validation loss')\n",
        "plt.legend()\n",
        "\n",
        "plt.show()"
      ],
      "metadata": {
        "colab": {
          "base_uri": "https://localhost:8080/",
          "height": 244
        },
        "id": "6nppx9NR4MkA",
        "outputId": "922ef718-6c40-44c4-edcf-7c9ed92f00de"
      },
      "execution_count": null,
      "outputs": [
        {
          "output_type": "error",
          "ename": "KeyError",
          "evalue": "ignored",
          "traceback": [
            "\u001b[0;31m---------------------------------------------------------------------------\u001b[0m",
            "\u001b[0;31mKeyError\u001b[0m                                  Traceback (most recent call last)",
            "\u001b[0;32m<ipython-input-34-9a5cfa1301a8>\u001b[0m in \u001b[0;36m<module>\u001b[0;34m()\u001b[0m\n\u001b[1;32m      1\u001b[0m \u001b[0;32mimport\u001b[0m \u001b[0mmatplotlib\u001b[0m\u001b[0;34m.\u001b[0m\u001b[0mpyplot\u001b[0m \u001b[0;32mas\u001b[0m \u001b[0mplt\u001b[0m\u001b[0;34m\u001b[0m\u001b[0;34m\u001b[0m\u001b[0m\n\u001b[1;32m      2\u001b[0m \u001b[0;34m\u001b[0m\u001b[0m\n\u001b[0;32m----> 3\u001b[0;31m \u001b[0macc\u001b[0m \u001b[0;34m=\u001b[0m \u001b[0mmodel\u001b[0m\u001b[0;34m.\u001b[0m\u001b[0mhistory\u001b[0m\u001b[0;34m.\u001b[0m\u001b[0mhistory\u001b[0m\u001b[0;34m[\u001b[0m\u001b[0;34m'accuracy'\u001b[0m\u001b[0;34m]\u001b[0m\u001b[0;34m\u001b[0m\u001b[0;34m\u001b[0m\u001b[0m\n\u001b[0m\u001b[1;32m      4\u001b[0m \u001b[0mval_acc\u001b[0m \u001b[0;34m=\u001b[0m \u001b[0mmodel\u001b[0m\u001b[0;34m.\u001b[0m\u001b[0mhistory\u001b[0m\u001b[0;34m.\u001b[0m\u001b[0mhistory\u001b[0m\u001b[0;34m[\u001b[0m\u001b[0;34m'val_accuracy'\u001b[0m\u001b[0;34m]\u001b[0m\u001b[0;34m\u001b[0m\u001b[0;34m\u001b[0m\u001b[0m\n\u001b[1;32m      5\u001b[0m \u001b[0mloss\u001b[0m \u001b[0;34m=\u001b[0m \u001b[0mmodel\u001b[0m\u001b[0;34m.\u001b[0m\u001b[0mhistory\u001b[0m\u001b[0;34m.\u001b[0m\u001b[0mhistory\u001b[0m\u001b[0;34m[\u001b[0m\u001b[0;34m'loss'\u001b[0m\u001b[0;34m]\u001b[0m\u001b[0;34m\u001b[0m\u001b[0;34m\u001b[0m\u001b[0m\n",
            "\u001b[0;31mKeyError\u001b[0m: 'accuracy'"
          ]
        }
      ]
    },
    {
      "cell_type": "markdown",
      "source": [
        "##Model 2"
      ],
      "metadata": {
        "id": "p3uQtAdk_Mfj"
      }
    },
    {
      "cell_type": "code",
      "source": [
        "from tensorflow.keras.models import Sequential\n",
        "from tensorflow.keras.layers import Conv2D, MaxPool2D, Flatten, Dense,Dropout"
      ],
      "metadata": {
        "id": "Sxq8Z-TY_ORW"
      },
      "execution_count": null,
      "outputs": []
    },
    {
      "cell_type": "code",
      "source": [
        "model = Sequential()\n",
        "model.add(Conv2D(filters=32,kernel_size = (2,2),activation='relu',input_shape = (256,256,3)))\n",
        "model.add(MaxPool2D())\n",
        "model.add(Conv2D(filters=64,kernel_size=(2,2),activation='relu'))\n",
        "model.add(MaxPool2D())\n",
        "model.add(Conv2D(filters=128,kernel_size=(2,2),activation='relu'))\n",
        "model.add(Conv2D(filters=256,kernel_size=(2,2),activation='relu'))\n",
        "model.add(MaxPool2D())\n",
        "model.add(Dropout(0.1))\n",
        "model.add(Conv2D(filters=512,kernel_size=(2,2),activation='relu'))\n",
        "model.add(MaxPool2D())\n",
        "model.add(Dropout(0.1))\n",
        "model.add(Flatten())\n",
        "model.add(Dense(512,activation='relu'))\n",
        "model.add(Dense(256,activation='relu'))\n",
        "model.add(Dense(64,activation = 'relu'))\n",
        "model.add(Dense(43,activation = 'sigmoid'))"
      ],
      "metadata": {
        "id": "H2g1AIHN_QMD"
      },
      "execution_count": null,
      "outputs": []
    },
    {
      "cell_type": "code",
      "source": [
        "model.summary()"
      ],
      "metadata": {
        "colab": {
          "base_uri": "https://localhost:8080/"
        },
        "id": "KFKKK1Ec_UD5",
        "outputId": "e1ad0b7e-35c6-42f1-c0ab-be51d7152d2f"
      },
      "execution_count": null,
      "outputs": [
        {
          "output_type": "stream",
          "name": "stdout",
          "text": [
            "Model: \"sequential_12\"\n",
            "_________________________________________________________________\n",
            " Layer (type)                Output Shape              Param #   \n",
            "=================================================================\n",
            " conv2d_40 (Conv2D)          (None, 255, 255, 32)      416       \n",
            "                                                                 \n",
            " max_pooling2d_39 (MaxPoolin  (None, 127, 127, 32)     0         \n",
            " g2D)                                                            \n",
            "                                                                 \n",
            " conv2d_41 (Conv2D)          (None, 126, 126, 64)      8256      \n",
            "                                                                 \n",
            " max_pooling2d_40 (MaxPoolin  (None, 63, 63, 64)       0         \n",
            " g2D)                                                            \n",
            "                                                                 \n",
            " conv2d_42 (Conv2D)          (None, 62, 62, 128)       32896     \n",
            "                                                                 \n",
            " conv2d_43 (Conv2D)          (None, 61, 61, 256)       131328    \n",
            "                                                                 \n",
            " max_pooling2d_41 (MaxPoolin  (None, 30, 30, 256)      0         \n",
            " g2D)                                                            \n",
            "                                                                 \n",
            " dropout_18 (Dropout)        (None, 30, 30, 256)       0         \n",
            "                                                                 \n",
            " conv2d_44 (Conv2D)          (None, 29, 29, 512)       524800    \n",
            "                                                                 \n",
            " max_pooling2d_42 (MaxPoolin  (None, 14, 14, 512)      0         \n",
            " g2D)                                                            \n",
            "                                                                 \n",
            " dropout_19 (Dropout)        (None, 14, 14, 512)       0         \n",
            "                                                                 \n",
            " flatten_11 (Flatten)        (None, 100352)            0         \n",
            "                                                                 \n",
            " dense_33 (Dense)            (None, 512)               51380736  \n",
            "                                                                 \n",
            " dense_34 (Dense)            (None, 256)               131328    \n",
            "                                                                 \n",
            " dense_35 (Dense)            (None, 64)                16448     \n",
            "                                                                 \n",
            " dense_36 (Dense)            (None, 43)                2795      \n",
            "                                                                 \n",
            "=================================================================\n",
            "Total params: 52,229,003\n",
            "Trainable params: 52,229,003\n",
            "Non-trainable params: 0\n",
            "_________________________________________________________________\n"
          ]
        }
      ]
    },
    {
      "cell_type": "code",
      "source": [
        "from tensorflow.keras.metrics import Recall,AUC\n",
        "from tensorflow.keras.utils import plot_model"
      ],
      "metadata": {
        "id": "xAfTz-9u_W32"
      },
      "execution_count": null,
      "outputs": []
    },
    {
      "cell_type": "code",
      "source": [
        "from tensorflow.keras.callbacks import Callback, EarlyStopping, ModelCheckpoint\n",
        "from tensorflow.keras import optimizers\n",
        "\n",
        "#early stopping to monitor the validation loss and avoid overfitting\n",
        "min_stop = EarlyStopping(monitor='val_loss', mode='min', verbose=1, patience=20)\n",
        "\n",
        "#saving the model checkpoint for the best model\n",
        "model_check = ModelCheckpoint('best_model.h5', monitor='val_loss', mode='min', save_best_only=True, verbose=1)"
      ],
      "metadata": {
        "id": "eYpNVpbmC0ZY"
      },
      "execution_count": null,
      "outputs": []
    },
    {
      "cell_type": "code",
      "source": [
        "opt = optimizers.Adam(learning_rate=0.001)\n",
        "\n",
        "model.compile(loss='categorical_crossentropy', optimizer=opt,metrics=['accuracy'])\n",
        "\n"
      ],
      "metadata": {
        "id": "alLExPkbCiJk"
      },
      "execution_count": null,
      "outputs": []
    },
    {
      "cell_type": "code",
      "source": [
        "model_hist = model.fit_generator(train_generator,\n",
        "                          steps_per_epoch=steps_train_res,\n",
        "                          validation_data=validation_generator,\n",
        "                          validation_steps=steps_valid_res,\n",
        "                          callbacks=[min_stop,model_check],\n",
        "                          verbose=1,\n",
        "                          epochs=75)"
      ],
      "metadata": {
        "colab": {
          "base_uri": "https://localhost:8080/"
        },
        "id": "Rd7bIkh0_gyF",
        "outputId": "7fb48707-67ad-487d-f32c-6031eb0aa0ce"
      },
      "execution_count": null,
      "outputs": [
        {
          "metadata": {
            "tags": null
          },
          "name": "stderr",
          "output_type": "stream",
          "text": [
            "/usr/local/lib/python3.7/dist-packages/ipykernel_launcher.py:7: UserWarning: `Model.fit_generator` is deprecated and will be removed in a future version. Please use `Model.fit`, which supports generators.\n",
            "  import sys\n"
          ]
        },
        {
          "output_type": "stream",
          "name": "stdout",
          "text": [
            "Epoch 1/75\n",
            "84/83 [==============================] - ETA: 0s - loss: 3.1758 - accuracy: 0.1802\n",
            "Epoch 1: val_loss improved from inf to 2.97919, saving model to best_model.h5\n",
            "83/83 [==============================] - 57s 665ms/step - loss: 3.1758 - accuracy: 0.1802 - val_loss: 2.9792 - val_accuracy: 0.1946\n",
            "Epoch 2/75\n",
            "84/83 [==============================] - ETA: 0s - loss: 2.6413 - accuracy: 0.2582\n",
            "Epoch 2: val_loss improved from 2.97919 to 2.76916, saving model to best_model.h5\n",
            "83/83 [==============================] - 53s 625ms/step - loss: 2.6413 - accuracy: 0.2582 - val_loss: 2.7692 - val_accuracy: 0.2126\n",
            "Epoch 3/75\n",
            "84/83 [==============================] - ETA: 0s - loss: 2.3723 - accuracy: 0.3022\n",
            "Epoch 3: val_loss improved from 2.76916 to 2.41277, saving model to best_model.h5\n",
            "83/83 [==============================] - 54s 643ms/step - loss: 2.3723 - accuracy: 0.3022 - val_loss: 2.4128 - val_accuracy: 0.3114\n",
            "Epoch 4/75\n",
            "84/83 [==============================] - ETA: 0s - loss: 2.1588 - accuracy: 0.3642\n",
            "Epoch 4: val_loss improved from 2.41277 to 2.40490, saving model to best_model.h5\n",
            "83/83 [==============================] - 54s 641ms/step - loss: 2.1588 - accuracy: 0.3642 - val_loss: 2.4049 - val_accuracy: 0.3323\n",
            "Epoch 5/75\n",
            "84/83 [==============================] - ETA: 0s - loss: 1.8565 - accuracy: 0.4328\n",
            "Epoch 5: val_loss improved from 2.40490 to 2.18995, saving model to best_model.h5\n",
            "83/83 [==============================] - 54s 642ms/step - loss: 1.8565 - accuracy: 0.4328 - val_loss: 2.1899 - val_accuracy: 0.3413\n",
            "Epoch 6/75\n",
            "84/83 [==============================] - ETA: 0s - loss: 1.6639 - accuracy: 0.4832\n",
            "Epoch 6: val_loss improved from 2.18995 to 2.06624, saving model to best_model.h5\n",
            "83/83 [==============================] - 55s 651ms/step - loss: 1.6639 - accuracy: 0.4832 - val_loss: 2.0662 - val_accuracy: 0.4012\n",
            "Epoch 7/75\n",
            "84/83 [==============================] - ETA: 0s - loss: 1.4990 - accuracy: 0.5265\n",
            "Epoch 7: val_loss did not improve from 2.06624\n",
            "83/83 [==============================] - 52s 619ms/step - loss: 1.4990 - accuracy: 0.5265 - val_loss: 2.1776 - val_accuracy: 0.3952\n",
            "Epoch 8/75\n",
            "84/83 [==============================] - ETA: 0s - loss: 1.3752 - accuracy: 0.5623\n",
            "Epoch 8: val_loss improved from 2.06624 to 1.80894, saving model to best_model.h5\n",
            "83/83 [==============================] - 55s 654ms/step - loss: 1.3752 - accuracy: 0.5623 - val_loss: 1.8089 - val_accuracy: 0.4341\n",
            "Epoch 9/75\n",
            "84/83 [==============================] - ETA: 0s - loss: 1.2555 - accuracy: 0.5836\n",
            "Epoch 9: val_loss did not improve from 1.80894\n",
            "83/83 [==============================] - 53s 627ms/step - loss: 1.2555 - accuracy: 0.5836 - val_loss: 2.0451 - val_accuracy: 0.3862\n",
            "Epoch 10/75\n",
            "84/83 [==============================] - ETA: 0s - loss: 1.1821 - accuracy: 0.6116\n",
            "Epoch 10: val_loss improved from 1.80894 to 1.68971, saving model to best_model.h5\n",
            "83/83 [==============================] - 54s 646ms/step - loss: 1.1821 - accuracy: 0.6116 - val_loss: 1.6897 - val_accuracy: 0.4820\n",
            "Epoch 11/75\n",
            "84/83 [==============================] - ETA: 0s - loss: 1.0803 - accuracy: 0.6414\n",
            "Epoch 11: val_loss did not improve from 1.68971\n",
            "83/83 [==============================] - 51s 609ms/step - loss: 1.0803 - accuracy: 0.6414 - val_loss: 1.8355 - val_accuracy: 0.4371\n",
            "Epoch 12/75\n",
            "84/83 [==============================] - ETA: 0s - loss: 0.9863 - accuracy: 0.6795\n",
            "Epoch 12: val_loss did not improve from 1.68971\n",
            "83/83 [==============================] - 52s 617ms/step - loss: 0.9863 - accuracy: 0.6795 - val_loss: 1.8790 - val_accuracy: 0.4671\n",
            "Epoch 13/75\n",
            "84/83 [==============================] - ETA: 0s - loss: 0.9734 - accuracy: 0.6739\n",
            "Epoch 13: val_loss did not improve from 1.68971\n",
            "83/83 [==============================] - 52s 618ms/step - loss: 0.9734 - accuracy: 0.6739 - val_loss: 1.8660 - val_accuracy: 0.4641\n",
            "Epoch 14/75\n",
            "84/83 [==============================] - ETA: 0s - loss: 0.8453 - accuracy: 0.7257\n",
            "Epoch 14: val_loss did not improve from 1.68971\n",
            "83/83 [==============================] - 51s 613ms/step - loss: 0.8453 - accuracy: 0.7257 - val_loss: 1.8343 - val_accuracy: 0.4611\n",
            "Epoch 15/75\n",
            "84/83 [==============================] - ETA: 0s - loss: 0.8620 - accuracy: 0.7123\n",
            "Epoch 15: val_loss did not improve from 1.68971\n",
            "83/83 [==============================] - 53s 626ms/step - loss: 0.8620 - accuracy: 0.7123 - val_loss: 1.7903 - val_accuracy: 0.4731\n",
            "Epoch 16/75\n",
            "84/83 [==============================] - ETA: 0s - loss: 0.7373 - accuracy: 0.7515\n",
            "Epoch 16: val_loss did not improve from 1.68971\n",
            "83/83 [==============================] - 52s 615ms/step - loss: 0.7373 - accuracy: 0.7515 - val_loss: 1.7501 - val_accuracy: 0.5090\n",
            "Epoch 17/75\n",
            "84/83 [==============================] - ETA: 0s - loss: 0.8201 - accuracy: 0.7272\n",
            "Epoch 17: val_loss improved from 1.68971 to 1.53334, saving model to best_model.h5\n",
            "83/83 [==============================] - 54s 640ms/step - loss: 0.8201 - accuracy: 0.7272 - val_loss: 1.5333 - val_accuracy: 0.5299\n",
            "Epoch 18/75\n",
            "84/83 [==============================] - ETA: 0s - loss: 0.6701 - accuracy: 0.7743\n",
            "Epoch 18: val_loss did not improve from 1.53334\n",
            "83/83 [==============================] - 51s 607ms/step - loss: 0.6701 - accuracy: 0.7743 - val_loss: 2.0828 - val_accuracy: 0.4641\n",
            "Epoch 19/75\n",
            "84/83 [==============================] - ETA: 0s - loss: 0.6922 - accuracy: 0.7716\n",
            "Epoch 19: val_loss did not improve from 1.53334\n",
            "83/83 [==============================] - 52s 617ms/step - loss: 0.6922 - accuracy: 0.7716 - val_loss: 1.6713 - val_accuracy: 0.5689\n",
            "Epoch 20/75\n",
            "84/83 [==============================] - ETA: 0s - loss: 0.5862 - accuracy: 0.8022\n",
            "Epoch 20: val_loss did not improve from 1.53334\n",
            "83/83 [==============================] - 53s 628ms/step - loss: 0.5862 - accuracy: 0.8022 - val_loss: 1.7550 - val_accuracy: 0.5090\n",
            "Epoch 21/75\n",
            "84/83 [==============================] - ETA: 0s - loss: 0.5736 - accuracy: 0.8019\n",
            "Epoch 21: val_loss did not improve from 1.53334\n",
            "83/83 [==============================] - 51s 612ms/step - loss: 0.5736 - accuracy: 0.8019 - val_loss: 1.8012 - val_accuracy: 0.5240\n",
            "Epoch 22/75\n",
            "84/83 [==============================] - ETA: 0s - loss: 0.5884 - accuracy: 0.8075\n",
            "Epoch 22: val_loss did not improve from 1.53334\n",
            "83/83 [==============================] - 52s 615ms/step - loss: 0.5884 - accuracy: 0.8075 - val_loss: 2.1006 - val_accuracy: 0.5269\n",
            "Epoch 23/75\n",
            "84/83 [==============================] - ETA: 0s - loss: 0.5458 - accuracy: 0.8175\n",
            "Epoch 23: val_loss did not improve from 1.53334\n",
            "83/83 [==============================] - 51s 613ms/step - loss: 0.5458 - accuracy: 0.8175 - val_loss: 1.5507 - val_accuracy: 0.5868\n",
            "Epoch 24/75\n",
            "84/83 [==============================] - ETA: 0s - loss: 0.5266 - accuracy: 0.8261\n",
            "Epoch 24: val_loss did not improve from 1.53334\n",
            "83/83 [==============================] - 52s 619ms/step - loss: 0.5266 - accuracy: 0.8261 - val_loss: 1.7930 - val_accuracy: 0.5060\n",
            "Epoch 25/75\n",
            "84/83 [==============================] - ETA: 0s - loss: 0.4579 - accuracy: 0.8478\n",
            "Epoch 25: val_loss did not improve from 1.53334\n",
            "83/83 [==============================] - 51s 603ms/step - loss: 0.4579 - accuracy: 0.8478 - val_loss: 1.7844 - val_accuracy: 0.5689\n",
            "Epoch 26/75\n",
            "84/83 [==============================] - ETA: 0s - loss: 0.5047 - accuracy: 0.8257\n",
            "Epoch 26: val_loss did not improve from 1.53334\n",
            "83/83 [==============================] - 52s 622ms/step - loss: 0.5047 - accuracy: 0.8257 - val_loss: 1.8433 - val_accuracy: 0.5299\n",
            "Epoch 27/75\n",
            "84/83 [==============================] - ETA: 0s - loss: 0.4676 - accuracy: 0.8440\n",
            "Epoch 27: val_loss did not improve from 1.53334\n",
            "83/83 [==============================] - 52s 614ms/step - loss: 0.4676 - accuracy: 0.8440 - val_loss: 1.6565 - val_accuracy: 0.5808\n",
            "Epoch 28/75\n",
            "84/83 [==============================] - ETA: 0s - loss: 0.4313 - accuracy: 0.8634\n",
            "Epoch 28: val_loss did not improve from 1.53334\n",
            "83/83 [==============================] - 51s 613ms/step - loss: 0.4313 - accuracy: 0.8634 - val_loss: 1.7289 - val_accuracy: 0.5778\n",
            "Epoch 29/75\n",
            "84/83 [==============================] - ETA: 0s - loss: 0.4396 - accuracy: 0.8646\n",
            "Epoch 29: val_loss improved from 1.53334 to 1.35317, saving model to best_model.h5\n",
            "83/83 [==============================] - 53s 638ms/step - loss: 0.4396 - accuracy: 0.8646 - val_loss: 1.3532 - val_accuracy: 0.6108\n",
            "Epoch 30/75\n",
            "84/83 [==============================] - ETA: 0s - loss: 0.4039 - accuracy: 0.8552\n",
            "Epoch 30: val_loss did not improve from 1.35317\n",
            "83/83 [==============================] - 53s 627ms/step - loss: 0.4039 - accuracy: 0.8552 - val_loss: 2.2036 - val_accuracy: 0.5269\n",
            "Epoch 31/75\n",
            "84/83 [==============================] - ETA: 0s - loss: 0.4013 - accuracy: 0.8690\n",
            "Epoch 31: val_loss did not improve from 1.35317\n",
            "83/83 [==============================] - 53s 633ms/step - loss: 0.4013 - accuracy: 0.8690 - val_loss: 1.8535 - val_accuracy: 0.5868\n",
            "Epoch 32/75\n",
            "84/83 [==============================] - ETA: 0s - loss: 0.3481 - accuracy: 0.8836\n",
            "Epoch 32: val_loss did not improve from 1.35317\n",
            "83/83 [==============================] - 51s 605ms/step - loss: 0.3481 - accuracy: 0.8836 - val_loss: 1.7520 - val_accuracy: 0.5808\n",
            "Epoch 33/75\n",
            "84/83 [==============================] - ETA: 0s - loss: 0.3749 - accuracy: 0.8743\n",
            "Epoch 33: val_loss did not improve from 1.35317\n",
            "83/83 [==============================] - 51s 608ms/step - loss: 0.3749 - accuracy: 0.8743 - val_loss: 1.9511 - val_accuracy: 0.5569\n",
            "Epoch 34/75\n",
            "84/83 [==============================] - ETA: 0s - loss: 0.3848 - accuracy: 0.8731\n",
            "Epoch 34: val_loss did not improve from 1.35317\n",
            "83/83 [==============================] - 51s 614ms/step - loss: 0.3848 - accuracy: 0.8731 - val_loss: 2.4802 - val_accuracy: 0.5749\n",
            "Epoch 35/75\n",
            "84/83 [==============================] - ETA: 0s - loss: 0.3069 - accuracy: 0.8933\n",
            "Epoch 35: val_loss did not improve from 1.35317\n",
            "83/83 [==============================] - 52s 617ms/step - loss: 0.3069 - accuracy: 0.8933 - val_loss: 1.7216 - val_accuracy: 0.5958\n",
            "Epoch 36/75\n",
            "84/83 [==============================] - ETA: 0s - loss: 0.3140 - accuracy: 0.8899\n",
            "Epoch 36: val_loss did not improve from 1.35317\n",
            "83/83 [==============================] - 53s 628ms/step - loss: 0.3140 - accuracy: 0.8899 - val_loss: 1.7353 - val_accuracy: 0.6138\n",
            "Epoch 37/75\n",
            "84/83 [==============================] - ETA: 0s - loss: 0.3626 - accuracy: 0.8757\n",
            "Epoch 37: val_loss did not improve from 1.35317\n",
            "83/83 [==============================] - 51s 608ms/step - loss: 0.3626 - accuracy: 0.8757 - val_loss: 2.2588 - val_accuracy: 0.5000\n",
            "Epoch 38/75\n",
            "84/83 [==============================] - ETA: 0s - loss: 0.2938 - accuracy: 0.8985\n",
            "Epoch 38: val_loss did not improve from 1.35317\n",
            "83/83 [==============================] - 51s 607ms/step - loss: 0.2938 - accuracy: 0.8985 - val_loss: 2.0464 - val_accuracy: 0.5329\n",
            "Epoch 39/75\n",
            "84/83 [==============================] - ETA: 0s - loss: 0.3303 - accuracy: 0.8858\n",
            "Epoch 39: val_loss did not improve from 1.35317\n",
            "83/83 [==============================] - 52s 615ms/step - loss: 0.3303 - accuracy: 0.8858 - val_loss: 2.1441 - val_accuracy: 0.5629\n",
            "Epoch 40/75\n",
            "84/83 [==============================] - ETA: 0s - loss: 0.3010 - accuracy: 0.9026\n",
            "Epoch 40: val_loss did not improve from 1.35317\n",
            "83/83 [==============================] - 52s 617ms/step - loss: 0.3010 - accuracy: 0.9026 - val_loss: 1.7707 - val_accuracy: 0.6018\n",
            "Epoch 41/75\n",
            "84/83 [==============================] - ETA: 0s - loss: 0.2926 - accuracy: 0.8989\n",
            "Epoch 41: val_loss did not improve from 1.35317\n",
            "83/83 [==============================] - 52s 624ms/step - loss: 0.2926 - accuracy: 0.8989 - val_loss: 2.0829 - val_accuracy: 0.5659\n",
            "Epoch 42/75\n",
            "84/83 [==============================] - ETA: 0s - loss: 0.2929 - accuracy: 0.9037\n",
            "Epoch 42: val_loss did not improve from 1.35317\n",
            "83/83 [==============================] - 53s 630ms/step - loss: 0.2929 - accuracy: 0.9037 - val_loss: 1.7163 - val_accuracy: 0.6228\n",
            "Epoch 43/75\n",
            "84/83 [==============================] - ETA: 0s - loss: 0.2974 - accuracy: 0.9015\n",
            "Epoch 43: val_loss did not improve from 1.35317\n",
            "83/83 [==============================] - 51s 614ms/step - loss: 0.2974 - accuracy: 0.9015 - val_loss: 2.1066 - val_accuracy: 0.5749\n",
            "Epoch 44/75\n",
            "84/83 [==============================] - ETA: 0s - loss: 0.3155 - accuracy: 0.8888\n",
            "Epoch 44: val_loss did not improve from 1.35317\n",
            "83/83 [==============================] - 50s 602ms/step - loss: 0.3155 - accuracy: 0.8888 - val_loss: 1.9894 - val_accuracy: 0.5898\n",
            "Epoch 45/75\n",
            "84/83 [==============================] - ETA: 0s - loss: 0.2532 - accuracy: 0.9198\n",
            "Epoch 45: val_loss did not improve from 1.35317\n",
            "83/83 [==============================] - 52s 618ms/step - loss: 0.2532 - accuracy: 0.9198 - val_loss: 1.7625 - val_accuracy: 0.6078\n",
            "Epoch 46/75\n",
            "84/83 [==============================] - ETA: 0s - loss: 0.2461 - accuracy: 0.9220\n",
            "Epoch 46: val_loss did not improve from 1.35317\n",
            "83/83 [==============================] - 52s 617ms/step - loss: 0.2461 - accuracy: 0.9220 - val_loss: 1.6953 - val_accuracy: 0.6168\n",
            "Epoch 47/75\n",
            "84/83 [==============================] - ETA: 0s - loss: 0.2728 - accuracy: 0.9037\n",
            "Epoch 47: val_loss did not improve from 1.35317\n",
            "83/83 [==============================] - 52s 623ms/step - loss: 0.2728 - accuracy: 0.9037 - val_loss: 1.6344 - val_accuracy: 0.6557\n",
            "Epoch 48/75\n",
            "84/83 [==============================] - ETA: 0s - loss: 0.2401 - accuracy: 0.9198\n",
            "Epoch 48: val_loss did not improve from 1.35317\n",
            "83/83 [==============================] - 52s 621ms/step - loss: 0.2401 - accuracy: 0.9198 - val_loss: 2.0896 - val_accuracy: 0.5419\n",
            "Epoch 49/75\n",
            "84/83 [==============================] - ETA: 0s - loss: 0.3441 - accuracy: 0.8922\n",
            "Epoch 49: val_loss did not improve from 1.35317\n",
            "83/83 [==============================] - 51s 613ms/step - loss: 0.3441 - accuracy: 0.8922 - val_loss: 1.6488 - val_accuracy: 0.6287\n",
            "Epoch 49: early stopping\n"
          ]
        }
      ]
    },
    {
      "cell_type": "code",
      "source": [
        "from keras.models import load_model\n",
        "model_best = load_model('best_model.h5')"
      ],
      "metadata": {
        "id": "2jaO83PjcC3I"
      },
      "execution_count": null,
      "outputs": []
    },
    {
      "cell_type": "code",
      "source": [
        " model_best"
      ],
      "metadata": {
        "colab": {
          "base_uri": "https://localhost:8080/"
        },
        "id": "3I89wXboaxoC",
        "outputId": "b7034386-4d77-4e79-c179-3953464d8132"
      },
      "execution_count": null,
      "outputs": [
        {
          "output_type": "execute_result",
          "data": {
            "text/plain": [
              "<keras.engine.sequential.Sequential at 0x7f42ac15ec10>"
            ]
          },
          "metadata": {},
          "execution_count": 119
        }
      ]
    },
    {
      "cell_type": "code",
      "source": [
        "#Model Evaluation\n",
        "valid_loss, valid_accuracy = model_best.evaluate_generator(generator=validation_generator, steps=steps_valid_res)\n",
        "test_loss, test_accuracy = model_best.evaluate_generator(test_generator,steps=step_test_res)\n",
        "train_loss ,train_accuracy = model_best.evaluate_generator(generator=train_generator, steps=steps_train_res)\n",
        "print('Validation Accuracy: ', round((valid_accuracy * 100), 2), \"%\")\n",
        "print('Validation Loss: ', round(valid_loss, 2))\n",
        "print('Train Accuracy: ', round((train_accuracy * 100), 2), \"%\")\n",
        "print('Train Loss: ', round(train_loss, 2))"
      ],
      "metadata": {
        "colab": {
          "base_uri": "https://localhost:8080/"
        },
        "id": "aApG2jjzcwR0",
        "outputId": "90325a88-73ed-4a94-b532-a3c42d903016"
      },
      "execution_count": null,
      "outputs": [
        {
          "output_type": "stream",
          "name": "stderr",
          "text": [
            "/usr/local/lib/python3.7/dist-packages/ipykernel_launcher.py:2: UserWarning: `Model.evaluate_generator` is deprecated and will be removed in a future version. Please use `Model.evaluate`, which supports generators.\n",
            "  \n",
            "/usr/local/lib/python3.7/dist-packages/ipykernel_launcher.py:3: UserWarning: `Model.evaluate_generator` is deprecated and will be removed in a future version. Please use `Model.evaluate`, which supports generators.\n",
            "  This is separate from the ipykernel package so we can avoid doing imports until\n",
            "/usr/local/lib/python3.7/dist-packages/ipykernel_launcher.py:4: UserWarning: `Model.evaluate_generator` is deprecated and will be removed in a future version. Please use `Model.evaluate`, which supports generators.\n",
            "  after removing the cwd from sys.path.\n"
          ]
        },
        {
          "output_type": "stream",
          "name": "stdout",
          "text": [
            "Validation Accuracy:  61.08 %\n",
            "Validation Loss:  1.35\n",
            "Train Accuracy:  86.34 %\n",
            "Train Loss:  0.4\n"
          ]
        }
      ]
    },
    {
      "cell_type": "code",
      "source": [
        ""
      ],
      "metadata": {
        "colab": {
          "base_uri": "https://localhost:8080/"
        },
        "id": "zOl7TvLOdx_0",
        "outputId": "5d62f19c-9e21-474f-b491-8668b77bc953"
      },
      "execution_count": null,
      "outputs": [
        {
          "output_type": "execute_result",
          "data": {
            "text/plain": [
              "dict_keys([])"
            ]
          },
          "metadata": {},
          "execution_count": 73
        }
      ]
    },
    {
      "cell_type": "code",
      "source": [
        "import matplotlib.pyplot as plt\n",
        "\n",
        "acc = model_hist.history['accuracy']\n",
        "val_acc = model_hist.history['val_accuracy']\n",
        "loss = model_hist.history['loss']\n",
        "val_loss = model_hist.history['val_loss']\n",
        "\n",
        "epochs = range(len(acc))\n",
        "\n",
        "plt.plot(epochs, acc, 'bo', label='Training acc')\n",
        "plt.plot(epochs, val_acc, 'b', label='Validation acc', color = 'r')\n",
        "plt.title('Training and validation accuracy')\n",
        "plt.legend()\n",
        "\n",
        "plt.figure()\n",
        "\n",
        "plt.plot(epochs, loss, 'bo', label='Training loss')\n",
        "plt.plot(epochs, val_loss, 'b', label='Validation loss', color = 'r')\n",
        "plt.title('Training and validation loss')\n",
        "plt.legend()\n",
        "\n",
        "plt.show()"
      ],
      "metadata": {
        "colab": {
          "base_uri": "https://localhost:8080/",
          "height": 545
        },
        "id": "7mUqxwE6XZOF",
        "outputId": "fa64b520-748e-4dc0-b7c7-da9d2ebcd99a"
      },
      "execution_count": null,
      "outputs": [
        {
          "output_type": "display_data",
          "data": {
            "text/plain": [
              "<Figure size 432x288 with 1 Axes>"
            ],
            "image/png": "[encoded data removed]"
          },
          "metadata": {
            "needs_background": "light"
          }
        },
        {
          "output_type": "display_data",
          "data": {
            "text/plain": [
              "<Figure size 432x288 with 1 Axes>"
            ],
            "image/png": "[encoded data removed]"
          },
          "metadata": {
            "needs_background": "light"
          }
        }
      ]
    }
  ]
}