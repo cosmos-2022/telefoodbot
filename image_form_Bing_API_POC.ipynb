{
  "nbformat": 4,
  "nbformat_minor": 0,
  "metadata": {
    "colab": {
      "name": "image form Bing API_POC.ipynb",
      "provenance": [],
      "collapsed_sections": []
    },
    "kernelspec": {
      "name": "python3",
      "display_name": "Python 3"
    },
    "language_info": {
      "name": "python"
    }
  },
  "cells": [
    {
      "cell_type": "code",
      "execution_count": null,
      "metadata": {
        "colab": {
          "base_uri": "https://localhost:8080/"
        },
        "id": "1LaDZTlCb8uj",
        "outputId": "28fa2262-815f-4d90-9cbe-ebeffb5deaaf"
      },
      "outputs": [
        {
          "output_type": "stream",
          "name": "stdout",
          "text": [
            "Looking in indexes: https://pypi.org/simple, https://us-python.pkg.dev/colab-wheels/public/simple/\n",
            "Collecting bing-image-downloader\n",
            "  Downloading bing_image_downloader-1.1.2-py3-none-any.whl (5.9 kB)\n",
            "Installing collected packages: bing-image-downloader\n",
            "Successfully installed bing-image-downloader-1.1.2\n"
          ]
        }
      ],
      "source": [
        "pip install bing-image-downloader"
      ]
    },
    {
      "cell_type": "code",
      "source": [
        "from google.colab import drive\n",
        "drive.mount('/content/drive')"
      ],
      "metadata": {
        "colab": {
          "base_uri": "https://localhost:8080/"
        },
        "id": "z8lFloqnYU9q",
        "outputId": "0b7d576e-47cd-4375-8a2d-d1cbc581f8c7"
      },
      "execution_count": null,
      "outputs": [
        {
          "output_type": "stream",
          "name": "stdout",
          "text": [
            "Drive already mounted at /content/drive; to attempt to forcibly remount, call drive.mount(\"/content/drive\", force_remount=True).\n"
          ]
        }
      ]
    },
    {
      "cell_type": "code",
      "source": [
        "from bing_image_downloader import downloader\n",
        "downloader.download(\"Neilson 2% Milk\", limit=10,  output_dir='/content/drive/MyDrive/GroceryDataset/data/dataset/test/Milk/', adult_filter_off=True, force_replace=False, timeout=100)\n",
        "downloader.download(\"Neilson 2% Milk\", limit=10,  output_dir='/content/drive/MyDrive/GroceryDataset/data/dataset/val/Milk/', adult_filter_off=True, force_replace=False, timeout=100)"
      ],
      "metadata": {
        "colab": {
          "base_uri": "https://localhost:8080/"
        },
        "id": "cXzB0Gl0cU2t",
        "outputId": "8447805e-33bb-4697-913d-2ad5c2497279"
      },
      "execution_count": null,
      "outputs": [
        {
          "output_type": "stream",
          "name": "stdout",
          "text": [
            "[%] Downloading Images to /content/drive/MyDrive/GroceryDataset/data/dataset/test/Milk/Neilson 2% Milk\n",
            "\n",
            "\n",
            "[!!]Indexing page: 1\n",
            "\n",
            "[%] Indexed 9 Images on Page 1.\n",
            "\n",
            "===============================================\n",
            "\n",
            "[%] Downloading Image #1 from https://i5.walmartimages.ca/images/Large/rim/ary/155015_primary.jpg?odnBound=460\n",
            "[Error]Invalid image, not saving https://i5.walmartimages.ca/images/Large/rim/ary/155015_primary.jpg?odnBound=460\n",
            "\n",
            "[!] Issue getting: https://i5.walmartimages.ca/images/Large/rim/ary/155015_primary.jpg?odnBound=460\n",
            "[!] Error:: Invalid image, not saving https://i5.walmartimages.ca/images/Large/rim/ary/155015_primary.jpg?odnBound=460\n",
            "\n",
            "[%] Downloading Image #1 from https://dontai.com/wp/wp-content/uploads/2017/04/neilson-choco-milk-4-600.jpg\n",
            "[%] File Downloaded !\n",
            "\n",
            "[%] Downloading Image #2 from http://www.countylive.ca/wp-content/uploads/2012/01/milk.jpg\n",
            "[%] File Downloaded !\n",
            "\n",
            "[%] Downloading Image #3 from http://i5.walmartimages.ca/images/Large/502/1_1/155021_1.jpg?odnBound=460\n",
            "[Error]Invalid image, not saving http://i5.walmartimages.ca/images/Large/502/1_1/155021_1.jpg?odnBound=460\n",
            "\n",
            "[!] Issue getting: http://i5.walmartimages.ca/images/Large/502/1_1/155021_1.jpg?odnBound=460\n",
            "[!] Error:: Invalid image, not saving http://i5.walmartimages.ca/images/Large/502/1_1/155021_1.jpg?odnBound=460\n",
            "\n",
            "[%] Downloading Image #3 from https://www.pngfind.com/pngs/m/4-44574_milk-237ml-neilson-chocolate-milk-small-hd-png.png\n",
            "[%] File Downloaded !\n",
            "\n",
            "[%] Downloading Image #4 from https://i5.walmartimages.ca/images/Enlarge/807/365/807365.jpg\n",
            "[%] File Downloaded !\n",
            "\n",
            "[%] Downloading Image #5 from https://v.dam-img.rfdcontent.com/offers/011/747/012/600x600_smart_fit.jpg\n",
            "[%] File Downloaded !\n",
            "\n",
            "[%] Downloading Image #6 from https://i5.walmartimages.ca/images/Enlarge/505/0_1/155050_1.jpg\n",
            "[%] File Downloaded !\n",
            "\n",
            "[%] Downloading Image #7 from https://www.pointbleudesign.com/wp-content/uploads/2019/02/03_FEB_DAIRY_BLOG.jpg\n",
            "[%] File Downloaded !\n",
            "\n",
            "\n",
            "\n",
            "[!!]Indexing page: 2\n",
            "\n",
            "[%] Indexed 9 Images on Page 2.\n",
            "\n",
            "===============================================\n",
            "\n",
            "\n",
            "\n",
            "[!!]Indexing page: 3\n",
            "\n",
            "[%] Indexed 8 Images on Page 3.\n",
            "\n",
            "===============================================\n",
            "\n",
            "\n",
            "\n",
            "[!!]Indexing page: 4\n",
            "\n",
            "[%] Indexed 7 Images on Page 4.\n",
            "\n",
            "===============================================\n",
            "\n",
            "[%] Downloading Image #8 from https://powellsnl.ca/media/uploads/gs1/.thumbnails/06680000865_1.png/06680000865_1-650x0-padded-%23fff.png\n",
            "[%] File Downloaded !\n",
            "\n",
            "[%] Downloading Image #9 from http://dontai.com/wp/wp-content/uploads/2017/04/neilson-choco-milk-2-600.jpg\n",
            "[%] File Downloaded !\n",
            "\n",
            "[%] Downloading Image #10 from https://i5.walmartimages.ca/images/Large/807/362/807362.jpg\n",
            "[%] File Downloaded !\n",
            "\n",
            "\n",
            "\n",
            "[%] Done. Downloaded 10 images.\n",
            "[%] Downloading Images to /content/drive/MyDrive/GroceryDataset/data/dataset/val/Milk/Neilson 2% Milk\n",
            "\n",
            "\n",
            "[!!]Indexing page: 1\n",
            "\n",
            "[%] Indexed 10 Images on Page 1.\n",
            "\n",
            "===============================================\n",
            "\n",
            "[%] Downloading Image #1 from https://i5.walmartimages.ca/images/Large/rim/ary/155015_primary.jpg?odnBound=460\n",
            "[Error]Invalid image, not saving https://i5.walmartimages.ca/images/Large/rim/ary/155015_primary.jpg?odnBound=460\n",
            "\n",
            "[!] Issue getting: https://i5.walmartimages.ca/images/Large/rim/ary/155015_primary.jpg?odnBound=460\n",
            "[!] Error:: Invalid image, not saving https://i5.walmartimages.ca/images/Large/rim/ary/155015_primary.jpg?odnBound=460\n",
            "\n",
            "[%] Downloading Image #1 from http://i5.walmartimages.ca/images/Large/010/048/999999-6680010048.jpg?odnBound=460\n",
            "[Error]Invalid image, not saving http://i5.walmartimages.ca/images/Large/010/048/999999-6680010048.jpg?odnBound=460\n",
            "\n",
            "[!] Issue getting: http://i5.walmartimages.ca/images/Large/010/048/999999-6680010048.jpg?odnBound=460\n",
            "[!] Error:: Invalid image, not saving http://i5.walmartimages.ca/images/Large/010/048/999999-6680010048.jpg?odnBound=460\n",
            "\n",
            "[%] Downloading Image #1 from https://shop.muldoonscoffee.com/wp-content/uploads/2020/04/neilson-2-fresh-partly-skimmed-milk-1l-1-muldoons-225x300.jpg\n",
            "[%] File Downloaded !\n",
            "\n",
            "[%] Downloading Image #2 from http://i5.walmartimages.ca/images/Large/010/068/999999-6680010068.jpg\n",
            "[%] File Downloaded !\n",
            "\n",
            "[%] Downloading Image #3 from https://images.squarespace-cdn.com/content/v1/5716b9cfb6aa603ffe76a080/1519924571698-L30W0U0KC1QICKC3V8F5/ke17ZwdGBToddI8pDm48kBUDAxm-FLUF-OJf9moK1kV7gQa3H78H3Y0txjaiv_0fDoOvxcdMmMKkDsyUqMSsMWxHk725yiiHCCLfrh8O1z5QPOohDIaIeljMHgDF5CVlOqpeNLcJ80NK65_fV7S1UT_TXfTUFcrrnRvtinoH4JYxq5g0UB9t65pVePltZrd1IKYY7Qu0iTZQJ-GJ4dsqLQ/Neilson_Side1.jpg\n",
            "[%] File Downloaded !\n",
            "\n",
            "[%] Downloading Image #4 from https://projects.thestar.com/organic-milk/images/Neilson-Front.png\n",
            "[%] File Downloaded !\n",
            "\n",
            "[%] Downloading Image #5 from http://www.goodfoods.ca/img/neilson_473_white_milk.jpg\n",
            "[%] File Downloaded !\n",
            "\n",
            "[%] Downloading Image #6 from https://smartshoppingdemo.files.wordpress.com/2015/04/milk-neilson-chocolate-1l.png?w=187\n",
            "[Error]Invalid image, not saving https://smartshoppingdemo.files.wordpress.com/2015/04/milk-neilson-chocolate-1l.png?w=187\n",
            "\n",
            "[!] Issue getting: https://smartshoppingdemo.files.wordpress.com/2015/04/milk-neilson-chocolate-1l.png?w=187\n",
            "[!] Error:: Invalid image, not saving https://smartshoppingdemo.files.wordpress.com/2015/04/milk-neilson-chocolate-1l.png?w=187\n",
            "\n",
            "[%] Downloading Image #6 from https://i5.walmartimages.ca/images/Thumbnails/769/522/769522.jpg?odnBound=200\n",
            "[Error]Invalid image, not saving https://i5.walmartimages.ca/images/Thumbnails/769/522/769522.jpg?odnBound=200\n",
            "\n",
            "[!] Issue getting: https://i5.walmartimages.ca/images/Thumbnails/769/522/769522.jpg?odnBound=200\n",
            "[!] Error:: Invalid image, not saving https://i5.walmartimages.ca/images/Thumbnails/769/522/769522.jpg?odnBound=200\n",
            "\n",
            "[%] Downloading Image #6 from https://www.imperialcoffee.com/wp-content/uploads/2020/10/IMG_1527-1152x1536.jpg\n",
            "[%] File Downloaded !\n",
            "\n",
            "\n",
            "\n",
            "[!!]Indexing page: 2\n",
            "\n",
            "[%] Indexed 17 Images on Page 2.\n",
            "\n",
            "===============================================\n",
            "\n",
            "[%] Downloading Image #7 from https://d3uzb2xkdr3e0f.cloudfront.net/osns/images/products/Neilson__2__White__4L-4r1ex8vw-144349240_large.png\n",
            "[%] File Downloaded !\n",
            "\n",
            "[%] Downloading Image #8 from https://dontai.com/wp/wp-content/uploads/2017/04/neilson-choco-milk-4-600.jpg\n",
            "[%] File Downloaded !\n",
            "\n",
            "[%] Downloading Image #9 from http://www.countylive.ca/wp-content/uploads/2012/01/milk.jpg\n",
            "[%] File Downloaded !\n",
            "\n",
            "[%] Downloading Image #10 from https://cdn.shopify.com/s/files/1/1873/1607/products/Neilson_2_Milkette_250x.jpg?v=1494422109\n",
            "[%] File Downloaded !\n",
            "\n",
            "\n",
            "\n",
            "[%] Done. Downloaded 10 images.\n"
          ]
        }
      ]
    }
  ]
}