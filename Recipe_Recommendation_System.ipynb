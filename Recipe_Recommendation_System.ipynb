{
  "nbformat": 4,
  "nbformat_minor": 0,
  "metadata": {
    "colab": {
      "name": "Recipe Recommendation System.ipynb",
      "provenance": [],
      "collapsed_sections": []
    },
    "kernelspec": {
      "name": "python3",
      "display_name": "Python 3"
    },
    "language_info": {
      "name": "python"
    }
  },
  "cells": [
    {
      "cell_type": "markdown",
      "metadata": {
        "id": "oTfSrTlxELtP"
      },
      "source": [
        "#1. Load Dataset"
      ]
    },
    {
      "cell_type": "code",
      "metadata": {
        "id": "beUfpL1zFI6i"
      },
      "source": [
        "import pandas as pd\n",
        "import numpy as np\n"
      ],
      "execution_count": null,
      "outputs": []
    },
    {
      "cell_type": "code",
      "metadata": {
        "colab": {
          "base_uri": "https://localhost:8080/"
        },
        "id": "pooxEuYEEQkV",
        "outputId": "f93ad62c-00ac-4228-e3fb-0a0d8d33bb01"
      },
      "source": [
        "from google.colab import drive\n",
        "drive.mount('/content/drive')"
      ],
      "execution_count": null,
      "outputs": [
        {
          "output_type": "stream",
          "name": "stdout",
          "text": [
            "Mounted at /content/drive\n"
          ]
        }
      ]
    },
    {
      "cell_type": "markdown",
      "metadata": {
        "id": "xBAOe2AyG7T3"
      },
      "source": [
        "##1.1 Recipes Main Dataset\n",
        "\n",
        "###The Recipe datset is collected from RecipeBox. https://eightportions.com/datasets/Recipes/#fn:1  \n",
        "###It contains 125,000 recipes from various food websites."
      ]
    },
    {
      "cell_type": "code",
      "metadata": {
        "id": "YxmPsYPVHDYg"
      },
      "source": [
        "df_ar = pd.read_json('/content/drive/MyDrive/my_data/recipes_raw/recipes_raw_nosource_ar.json',orient='index')"
      ],
      "execution_count": null,
      "outputs": []
    },
    {
      "cell_type": "code",
      "metadata": {
        "colab": {
          "base_uri": "https://localhost:8080/",
          "height": 206
        },
        "id": "hSU3evptH6lS",
        "outputId": "d8d79ae0-e2a9-4e48-b2dd-8f5fb5056ddf"
      },
      "source": [
        "df_ar.head()"
      ],
      "execution_count": null,
      "outputs": [
        {
          "output_type": "execute_result",
          "data": {
            "text/html": [
              "<div>\n",
              "<style scoped>\n",
              "    .dataframe tbody tr th:only-of-type {\n",
              "        vertical-align: middle;\n",
              "    }\n",
              "\n",
              "    .dataframe tbody tr th {\n",
              "        vertical-align: top;\n",
              "    }\n",
              "\n",
              "    .dataframe thead th {\n",
              "        text-align: right;\n",
              "    }\n",
              "</style>\n",
              "<table border=\"1\" class=\"dataframe\">\n",
              "  <thead>\n",
              "    <tr style=\"text-align: right;\">\n",
              "      <th></th>\n",
              "      <th>title</th>\n",
              "      <th>ingredients</th>\n",
              "      <th>instructions</th>\n",
              "      <th>picture_link</th>\n",
              "    </tr>\n",
              "  </thead>\n",
              "  <tbody>\n",
              "    <tr>\n",
              "      <th>rmK12Uau.ntP510KeImX506H6Mr6jTu</th>\n",
              "      <td>Slow Cooker Chicken and Dumplings</td>\n",
              "      <td>[4 skinless, boneless chicken breast halves AD...</td>\n",
              "      <td>Place the chicken, butter, soup, and onion in ...</td>\n",
              "      <td>55lznCYBbs2mT8BTx6BTkLhynGHzM.S</td>\n",
              "    </tr>\n",
              "    <tr>\n",
              "      <th>5ZpZE8hSVdPk2ZXo1mZTyoPWJRSCPSm</th>\n",
              "      <td>Awesome Slow Cooker Pot Roast</td>\n",
              "      <td>[2 (10.75 ounce) cans condensed cream of mushr...</td>\n",
              "      <td>In a slow cooker, mix cream of mushroom soup, ...</td>\n",
              "      <td>QyrvGdGNMBA2lDdciY0FjKu.77MM0Oe</td>\n",
              "    </tr>\n",
              "    <tr>\n",
              "      <th>clyYQv.CplpwJtjNaFGhx0VilNYqRxu</th>\n",
              "      <td>Brown Sugar Meatloaf</td>\n",
              "      <td>[1/2 cup packed brown sugar ADVERTISEMENT, 1/2...</td>\n",
              "      <td>Preheat oven to 350 degrees F (175 degrees C)....</td>\n",
              "      <td>LVW1DI0vtlCrpAhNSEQysE9i/7rJG56</td>\n",
              "    </tr>\n",
              "    <tr>\n",
              "      <th>BmqFAmCrDHiKNwX.IQzb0U/v0mLlxFu</th>\n",
              "      <td>Best Chocolate Chip Cookies</td>\n",
              "      <td>[1 cup butter, softened ADVERTISEMENT, 1 cup w...</td>\n",
              "      <td>Preheat oven to 350 degrees F (175 degrees C)....</td>\n",
              "      <td>0SO5kdWOV94j6EfAVwMMYRM3yNN8eRi</td>\n",
              "    </tr>\n",
              "    <tr>\n",
              "      <th>N.jCksRjB4MFwbgPFQU8Kg.yF.XCtOi</th>\n",
              "      <td>Homemade Mac and Cheese Casserole</td>\n",
              "      <td>[8 ounces whole wheat rotini pasta ADVERTISEME...</td>\n",
              "      <td>Preheat oven to 350 degrees F. Line a 2-quart ...</td>\n",
              "      <td>YCnbhplMgiraW4rUXcybgSEZinSgljm</td>\n",
              "    </tr>\n",
              "  </tbody>\n",
              "</table>\n",
              "</div>"
            ],
            "text/plain": [
              "                                                             title  ...                     picture_link\n",
              "rmK12Uau.ntP510KeImX506H6Mr6jTu  Slow Cooker Chicken and Dumplings  ...  55lznCYBbs2mT8BTx6BTkLhynGHzM.S\n",
              "5ZpZE8hSVdPk2ZXo1mZTyoPWJRSCPSm      Awesome Slow Cooker Pot Roast  ...  QyrvGdGNMBA2lDdciY0FjKu.77MM0Oe\n",
              "clyYQv.CplpwJtjNaFGhx0VilNYqRxu               Brown Sugar Meatloaf  ...  LVW1DI0vtlCrpAhNSEQysE9i/7rJG56\n",
              "BmqFAmCrDHiKNwX.IQzb0U/v0mLlxFu        Best Chocolate Chip Cookies  ...  0SO5kdWOV94j6EfAVwMMYRM3yNN8eRi\n",
              "N.jCksRjB4MFwbgPFQU8Kg.yF.XCtOi  Homemade Mac and Cheese Casserole  ...  YCnbhplMgiraW4rUXcybgSEZinSgljm\n",
              "\n",
              "[5 rows x 4 columns]"
            ]
          },
          "metadata": {},
          "execution_count": 176
        }
      ]
    },
    {
      "cell_type": "code",
      "metadata": {
        "colab": {
          "base_uri": "https://localhost:8080/"
        },
        "id": "ADrX2eD8JNk_",
        "outputId": "6a610fcd-86c9-40cf-82d5-cc1a0a7b2125"
      },
      "source": [
        "df_ar.shape # The dataset contains 4 rows and 39802 columns."
      ],
      "execution_count": null,
      "outputs": [
        {
          "output_type": "execute_result",
          "data": {
            "text/plain": [
              "(39522, 4)"
            ]
          },
          "metadata": {},
          "execution_count": 177
        }
      ]
    },
    {
      "cell_type": "code",
      "metadata": {
        "id": "fDHM2NG6JRZO"
      },
      "source": [
        "df_epi = pd.read_json('/content/drive/MyDrive/my_data/recipes_raw/recipes_raw_nosource_epi.json',orient='index')"
      ],
      "execution_count": null,
      "outputs": []
    },
    {
      "cell_type": "code",
      "metadata": {
        "colab": {
          "base_uri": "https://localhost:8080/",
          "height": 206
        },
        "id": "LtmjW_0HXsBj",
        "outputId": "78b7fb19-2b98-484c-e084-01a904e9e667"
      },
      "source": [
        "df_epi.head()"
      ],
      "execution_count": null,
      "outputs": [
        {
          "output_type": "execute_result",
          "data": {
            "text/html": [
              "<div>\n",
              "<style scoped>\n",
              "    .dataframe tbody tr th:only-of-type {\n",
              "        vertical-align: middle;\n",
              "    }\n",
              "\n",
              "    .dataframe tbody tr th {\n",
              "        vertical-align: top;\n",
              "    }\n",
              "\n",
              "    .dataframe thead th {\n",
              "        text-align: right;\n",
              "    }\n",
              "</style>\n",
              "<table border=\"1\" class=\"dataframe\">\n",
              "  <thead>\n",
              "    <tr style=\"text-align: right;\">\n",
              "      <th></th>\n",
              "      <th>ingredients</th>\n",
              "      <th>picture_link</th>\n",
              "      <th>instructions</th>\n",
              "      <th>title</th>\n",
              "    </tr>\n",
              "  </thead>\n",
              "  <tbody>\n",
              "    <tr>\n",
              "      <th>05zEpbSqcs9E0rcnCJWyZ9OgdH0MLby</th>\n",
              "      <td>[12 egg whites, 12 egg yolks, 1 1/2 cups sugar...</td>\n",
              "      <td>None</td>\n",
              "      <td>Beat the egg whites until stiff, gradually add...</td>\n",
              "      <td>Christmas Eggnog</td>\n",
              "    </tr>\n",
              "    <tr>\n",
              "      <th>mF5SZmoqxF4WtIlhLRvzuKk.z6s7P2S</th>\n",
              "      <td>[18 fresh chestnuts, 2 1/2 pounds veal stew me...</td>\n",
              "      <td>None</td>\n",
              "      <td>Preheat oven to 400°F. Using small sharp knife...</td>\n",
              "      <td>Veal, Carrot and Chestnut Ragoût</td>\n",
              "    </tr>\n",
              "    <tr>\n",
              "      <th>oQV5D7cVbCFwmrDs3pBUv2y.AG0WV26</th>\n",
              "      <td>[2 tablespoons unsalted butter, softened, 4 or...</td>\n",
              "      <td>3xjktRst3I5lDZ2Z5kTOtqQyzZFFN9u</td>\n",
              "      <td>Preheat the oven to 350°F. Spread the softened...</td>\n",
              "      <td>Caramelized Bread Pudding with Chocolate and C...</td>\n",
              "    </tr>\n",
              "    <tr>\n",
              "      <th>Z9seBJWaB5NkSp4DQHDnCAUBTwov/1u</th>\n",
              "      <td>[3/4 pound Stilton, crumbled (about 3 cups) an...</td>\n",
              "      <td>None</td>\n",
              "      <td>In a food processor blend the Stilton, the cre...</td>\n",
              "      <td>Sherried Stilton and Green Peppercorn Spread</td>\n",
              "    </tr>\n",
              "    <tr>\n",
              "      <th>bB3GxoAplVZeoX3fzWNWyeECtQFxw6G</th>\n",
              "      <td>[2 cups (about 9 1/2 ounces) whole almonds, to...</td>\n",
              "      <td>None</td>\n",
              "      <td>Position rack in center of oven and preheat to...</td>\n",
              "      <td>Almond-Chocolate Macaroons</td>\n",
              "    </tr>\n",
              "  </tbody>\n",
              "</table>\n",
              "</div>"
            ],
            "text/plain": [
              "                                                                       ingredients  ...                                              title\n",
              "05zEpbSqcs9E0rcnCJWyZ9OgdH0MLby  [12 egg whites, 12 egg yolks, 1 1/2 cups sugar...  ...                                  Christmas Eggnog \n",
              "mF5SZmoqxF4WtIlhLRvzuKk.z6s7P2S  [18 fresh chestnuts, 2 1/2 pounds veal stew me...  ...                  Veal, Carrot and Chestnut Ragoût \n",
              "oQV5D7cVbCFwmrDs3pBUv2y.AG0WV26  [2 tablespoons unsalted butter, softened, 4 or...  ...  Caramelized Bread Pudding with Chocolate and C...\n",
              "Z9seBJWaB5NkSp4DQHDnCAUBTwov/1u  [3/4 pound Stilton, crumbled (about 3 cups) an...  ...      Sherried Stilton and Green Peppercorn Spread \n",
              "bB3GxoAplVZeoX3fzWNWyeECtQFxw6G  [2 cups (about 9 1/2 ounces) whole almonds, to...  ...                        Almond-Chocolate Macaroons \n",
              "\n",
              "[5 rows x 4 columns]"
            ]
          },
          "metadata": {},
          "execution_count": 179
        }
      ]
    },
    {
      "cell_type": "code",
      "metadata": {
        "id": "lYL2bkwQXwBY"
      },
      "source": [
        "df_fn = pd.read_json('/content/drive/MyDrive/my_data/recipes_raw/recipes_raw_nosource_fn.json',orient='index')"
      ],
      "execution_count": null,
      "outputs": []
    },
    {
      "cell_type": "code",
      "metadata": {
        "colab": {
          "base_uri": "https://localhost:8080/",
          "height": 206
        },
        "id": "CXQip4vlYAY4",
        "outputId": "ff5dcbc2-d40d-40a1-c898-d22169b0c73c"
      },
      "source": [
        "df_fn.head()"
      ],
      "execution_count": null,
      "outputs": [
        {
          "output_type": "execute_result",
          "data": {
            "text/html": [
              "<div>\n",
              "<style scoped>\n",
              "    .dataframe tbody tr th:only-of-type {\n",
              "        vertical-align: middle;\n",
              "    }\n",
              "\n",
              "    .dataframe tbody tr th {\n",
              "        vertical-align: top;\n",
              "    }\n",
              "\n",
              "    .dataframe thead th {\n",
              "        text-align: right;\n",
              "    }\n",
              "</style>\n",
              "<table border=\"1\" class=\"dataframe\">\n",
              "  <thead>\n",
              "    <tr style=\"text-align: right;\">\n",
              "      <th></th>\n",
              "      <th>instructions</th>\n",
              "      <th>ingredients</th>\n",
              "      <th>title</th>\n",
              "      <th>picture_link</th>\n",
              "    </tr>\n",
              "  </thead>\n",
              "  <tbody>\n",
              "    <tr>\n",
              "      <th>p3pKOD6jIHEcjf20CCXohP8uqkG5dGi</th>\n",
              "      <td>Toss ingredients lightly and spoon into a butt...</td>\n",
              "      <td>[1/2 cup celery, finely chopped, 1 small green...</td>\n",
              "      <td>Grammie Hamblet's Deviled Crab</td>\n",
              "      <td>None</td>\n",
              "    </tr>\n",
              "    <tr>\n",
              "      <th>S7aeOIrsrgT0jLP32jKGg4j.o9zi2DO</th>\n",
              "      <td>Watch how to make this recipe.\\nSprinkle the s...</td>\n",
              "      <td>[2 pounds skirt steak, cut into 1/2-inch dice,...</td>\n",
              "      <td>Infineon Raceway Baked Beans</td>\n",
              "      <td>Ja5uaD8Q7m7vvtWwk2.48dr1eCre/qi</td>\n",
              "    </tr>\n",
              "    <tr>\n",
              "      <th>o9MItV9txfoPsUQ4v8b0vh1.VdjwfsK</th>\n",
              "      <td>In a large saucepan, let the beans soak in eno...</td>\n",
              "      <td>[1 1/2 cups dried black beans, picked over and...</td>\n",
              "      <td>Southwestern Black Bean Dip</td>\n",
              "      <td>None</td>\n",
              "    </tr>\n",
              "    <tr>\n",
              "      <th>5l1yTSYFifF/M2dfbD6DX28WWQpLWNK</th>\n",
              "      <td>Watch how to make this recipe.\\nPreheat the ov...</td>\n",
              "      <td>[1 1/4 pounds ground chuck, One 15-ounce can t...</td>\n",
              "      <td>Sour Cream Noodle Bake</td>\n",
              "      <td>nm/WxalB.VjEZSa0iX9RuZ8xI51Y7bS</td>\n",
              "    </tr>\n",
              "    <tr>\n",
              "      <th>kRBQSWtqYWqtkb34FGeenBSbC32gIdO</th>\n",
              "      <td>Special equipment: sushi mat\\nCook the brown r...</td>\n",
              "      <td>[1 cup rice, brown, medium-grain, cooked, 1/2-...</td>\n",
              "      <td>Sushi Renovation</td>\n",
              "      <td>None</td>\n",
              "    </tr>\n",
              "  </tbody>\n",
              "</table>\n",
              "</div>"
            ],
            "text/plain": [
              "                                                                      instructions  ...                     picture_link\n",
              "p3pKOD6jIHEcjf20CCXohP8uqkG5dGi  Toss ingredients lightly and spoon into a butt...  ...                             None\n",
              "S7aeOIrsrgT0jLP32jKGg4j.o9zi2DO  Watch how to make this recipe.\\nSprinkle the s...  ...  Ja5uaD8Q7m7vvtWwk2.48dr1eCre/qi\n",
              "o9MItV9txfoPsUQ4v8b0vh1.VdjwfsK  In a large saucepan, let the beans soak in eno...  ...                             None\n",
              "5l1yTSYFifF/M2dfbD6DX28WWQpLWNK  Watch how to make this recipe.\\nPreheat the ov...  ...  nm/WxalB.VjEZSa0iX9RuZ8xI51Y7bS\n",
              "kRBQSWtqYWqtkb34FGeenBSbC32gIdO  Special equipment: sushi mat\\nCook the brown r...  ...                             None\n",
              "\n",
              "[5 rows x 4 columns]"
            ]
          },
          "metadata": {},
          "execution_count": 181
        }
      ]
    },
    {
      "cell_type": "code",
      "metadata": {
        "id": "u8blri30YGmw"
      },
      "source": [
        "    data =  pd.concat([df_ar,df_epi, df_fn])\n",
        "    data = data.reset_index()\n",
        "    data = data.drop(columns=['picture_link', 'index'])"
      ],
      "execution_count": null,
      "outputs": []
    },
    {
      "cell_type": "code",
      "metadata": {
        "colab": {
          "base_uri": "https://localhost:8080/",
          "height": 424
        },
        "id": "F3xYiXB9cMrc",
        "outputId": "ef35dbed-0499-4b32-9fee-5a3408278b93"
      },
      "source": [
        "data"
      ],
      "execution_count": null,
      "outputs": [
        {
          "output_type": "execute_result",
          "data": {
            "text/html": [
              "<div>\n",
              "<style scoped>\n",
              "    .dataframe tbody tr th:only-of-type {\n",
              "        vertical-align: middle;\n",
              "    }\n",
              "\n",
              "    .dataframe tbody tr th {\n",
              "        vertical-align: top;\n",
              "    }\n",
              "\n",
              "    .dataframe thead th {\n",
              "        text-align: right;\n",
              "    }\n",
              "</style>\n",
              "<table border=\"1\" class=\"dataframe\">\n",
              "  <thead>\n",
              "    <tr style=\"text-align: right;\">\n",
              "      <th></th>\n",
              "      <th>title</th>\n",
              "      <th>ingredients</th>\n",
              "      <th>instructions</th>\n",
              "    </tr>\n",
              "  </thead>\n",
              "  <tbody>\n",
              "    <tr>\n",
              "      <th>0</th>\n",
              "      <td>Slow Cooker Chicken and Dumplings</td>\n",
              "      <td>[4 skinless, boneless chicken breast halves AD...</td>\n",
              "      <td>Place the chicken, butter, soup, and onion in ...</td>\n",
              "    </tr>\n",
              "    <tr>\n",
              "      <th>1</th>\n",
              "      <td>Awesome Slow Cooker Pot Roast</td>\n",
              "      <td>[2 (10.75 ounce) cans condensed cream of mushr...</td>\n",
              "      <td>In a slow cooker, mix cream of mushroom soup, ...</td>\n",
              "    </tr>\n",
              "    <tr>\n",
              "      <th>2</th>\n",
              "      <td>Brown Sugar Meatloaf</td>\n",
              "      <td>[1/2 cup packed brown sugar ADVERTISEMENT, 1/2...</td>\n",
              "      <td>Preheat oven to 350 degrees F (175 degrees C)....</td>\n",
              "    </tr>\n",
              "    <tr>\n",
              "      <th>3</th>\n",
              "      <td>Best Chocolate Chip Cookies</td>\n",
              "      <td>[1 cup butter, softened ADVERTISEMENT, 1 cup w...</td>\n",
              "      <td>Preheat oven to 350 degrees F (175 degrees C)....</td>\n",
              "    </tr>\n",
              "    <tr>\n",
              "      <th>4</th>\n",
              "      <td>Homemade Mac and Cheese Casserole</td>\n",
              "      <td>[8 ounces whole wheat rotini pasta ADVERTISEME...</td>\n",
              "      <td>Preheat oven to 350 degrees F. Line a 2-quart ...</td>\n",
              "    </tr>\n",
              "    <tr>\n",
              "      <th>...</th>\n",
              "      <td>...</td>\n",
              "      <td>...</td>\n",
              "      <td>...</td>\n",
              "    </tr>\n",
              "    <tr>\n",
              "      <th>124642</th>\n",
              "      <td>Summer Corn Salad</td>\n",
              "      <td>[4 ears fresh corn, 2 heads Belgian endive, 2 ...</td>\n",
              "      <td>Watch how to make this recipe.\\nPreheat a gril...</td>\n",
              "    </tr>\n",
              "    <tr>\n",
              "      <th>124643</th>\n",
              "      <td>Zucchini Stuffed Tomatoes</td>\n",
              "      <td>[4 large plum tomatoes, Salt and sugar, 1 1/2 ...</td>\n",
              "      <td>Preheat the broiler. Cut the tomatoes in 1/2 c...</td>\n",
              "    </tr>\n",
              "    <tr>\n",
              "      <th>124644</th>\n",
              "      <td>Pepper Pasta Quick Cook</td>\n",
              "      <td>[3 tablespoons olive oil, 2 tablespoons unsalt...</td>\n",
              "      <td>Heat the oil and butter in a large skillet ove...</td>\n",
              "    </tr>\n",
              "    <tr>\n",
              "      <th>124645</th>\n",
              "      <td>Chocolate Cake with Armagnac Ice Cream</td>\n",
              "      <td>[8 ounces butter, 8 ounces bittersweet chocola...</td>\n",
              "      <td>Preheat oven to 350 degrees. On the top half o...</td>\n",
              "    </tr>\n",
              "    <tr>\n",
              "      <th>124646</th>\n",
              "      <td>Crabby Bisque</td>\n",
              "      <td>[3 (10.5-ounce) cans restaurant-style condense...</td>\n",
              "      <td>Watch how to make this recipe.\\nIn a medium sa...</td>\n",
              "    </tr>\n",
              "  </tbody>\n",
              "</table>\n",
              "<p>124647 rows × 3 columns</p>\n",
              "</div>"
            ],
            "text/plain": [
              "                                         title  ...                                       instructions\n",
              "0            Slow Cooker Chicken and Dumplings  ...  Place the chicken, butter, soup, and onion in ...\n",
              "1                Awesome Slow Cooker Pot Roast  ...  In a slow cooker, mix cream of mushroom soup, ...\n",
              "2                         Brown Sugar Meatloaf  ...  Preheat oven to 350 degrees F (175 degrees C)....\n",
              "3                  Best Chocolate Chip Cookies  ...  Preheat oven to 350 degrees F (175 degrees C)....\n",
              "4            Homemade Mac and Cheese Casserole  ...  Preheat oven to 350 degrees F. Line a 2-quart ...\n",
              "...                                        ...  ...                                                ...\n",
              "124642                       Summer Corn Salad  ...  Watch how to make this recipe.\\nPreheat a gril...\n",
              "124643               Zucchini Stuffed Tomatoes  ...  Preheat the broiler. Cut the tomatoes in 1/2 c...\n",
              "124644                 Pepper Pasta Quick Cook  ...  Heat the oil and butter in a large skillet ove...\n",
              "124645  Chocolate Cake with Armagnac Ice Cream  ...  Preheat oven to 350 degrees. On the top half o...\n",
              "124646                           Crabby Bisque  ...  Watch how to make this recipe.\\nIn a medium sa...\n",
              "\n",
              "[124647 rows x 3 columns]"
            ]
          },
          "metadata": {},
          "execution_count": 183
        }
      ]
    },
    {
      "cell_type": "code",
      "metadata": {
        "colab": {
          "base_uri": "https://localhost:8080/",
          "height": 175
        },
        "id": "Zzo9labxhbND",
        "outputId": "ae24bfe3-a06f-41ab-8d67-30f65178e048"
      },
      "source": [
        "data.head(4)"
      ],
      "execution_count": null,
      "outputs": [
        {
          "output_type": "execute_result",
          "data": {
            "text/html": [
              "<div>\n",
              "<style scoped>\n",
              "    .dataframe tbody tr th:only-of-type {\n",
              "        vertical-align: middle;\n",
              "    }\n",
              "\n",
              "    .dataframe tbody tr th {\n",
              "        vertical-align: top;\n",
              "    }\n",
              "\n",
              "    .dataframe thead th {\n",
              "        text-align: right;\n",
              "    }\n",
              "</style>\n",
              "<table border=\"1\" class=\"dataframe\">\n",
              "  <thead>\n",
              "    <tr style=\"text-align: right;\">\n",
              "      <th></th>\n",
              "      <th>title</th>\n",
              "      <th>ingredients</th>\n",
              "      <th>instructions</th>\n",
              "    </tr>\n",
              "  </thead>\n",
              "  <tbody>\n",
              "    <tr>\n",
              "      <th>0</th>\n",
              "      <td>Slow Cooker Chicken and Dumplings</td>\n",
              "      <td>[4 skinless, boneless chicken breast halves AD...</td>\n",
              "      <td>Place the chicken, butter, soup, and onion in ...</td>\n",
              "    </tr>\n",
              "    <tr>\n",
              "      <th>1</th>\n",
              "      <td>Awesome Slow Cooker Pot Roast</td>\n",
              "      <td>[2 (10.75 ounce) cans condensed cream of mushr...</td>\n",
              "      <td>In a slow cooker, mix cream of mushroom soup, ...</td>\n",
              "    </tr>\n",
              "    <tr>\n",
              "      <th>2</th>\n",
              "      <td>Brown Sugar Meatloaf</td>\n",
              "      <td>[1/2 cup packed brown sugar ADVERTISEMENT, 1/2...</td>\n",
              "      <td>Preheat oven to 350 degrees F (175 degrees C)....</td>\n",
              "    </tr>\n",
              "    <tr>\n",
              "      <th>3</th>\n",
              "      <td>Best Chocolate Chip Cookies</td>\n",
              "      <td>[1 cup butter, softened ADVERTISEMENT, 1 cup w...</td>\n",
              "      <td>Preheat oven to 350 degrees F (175 degrees C)....</td>\n",
              "    </tr>\n",
              "  </tbody>\n",
              "</table>\n",
              "</div>"
            ],
            "text/plain": [
              "                               title  ...                                       instructions\n",
              "0  Slow Cooker Chicken and Dumplings  ...  Place the chicken, butter, soup, and onion in ...\n",
              "1      Awesome Slow Cooker Pot Roast  ...  In a slow cooker, mix cream of mushroom soup, ...\n",
              "2               Brown Sugar Meatloaf  ...  Preheat oven to 350 degrees F (175 degrees C)....\n",
              "3        Best Chocolate Chip Cookies  ...  Preheat oven to 350 degrees F (175 degrees C)....\n",
              "\n",
              "[4 rows x 3 columns]"
            ]
          },
          "metadata": {},
          "execution_count": 184
        }
      ]
    },
    {
      "cell_type": "code",
      "metadata": {
        "colab": {
          "base_uri": "https://localhost:8080/"
        },
        "id": "MuCOrNVhcT9u",
        "outputId": "6a3c149b-c9c9-4b10-8884-b592de28248c"
      },
      "source": [
        "data.shape"
      ],
      "execution_count": null,
      "outputs": [
        {
          "output_type": "execute_result",
          "data": {
            "text/plain": [
              "(124647, 3)"
            ]
          },
          "metadata": {},
          "execution_count": 185
        }
      ]
    },
    {
      "cell_type": "markdown",
      "metadata": {
        "id": "i3M2aFq2JQ3N"
      },
      "source": [
        "##Remove Null rows"
      ]
    },
    {
      "cell_type": "code",
      "metadata": {
        "colab": {
          "base_uri": "https://localhost:8080/"
        },
        "id": "lqm_C4ZuhHGb",
        "outputId": "64737948-2ea7-43af-afdc-6a34f52e648a"
      },
      "source": [
        "data.isnull().sum()"
      ],
      "execution_count": null,
      "outputs": [
        {
          "output_type": "execute_result",
          "data": {
            "text/plain": [
              "title            52\n",
              "ingredients       0\n",
              "instructions    174\n",
              "dtype: int64"
            ]
          },
          "metadata": {},
          "execution_count": 186
        }
      ]
    },
    {
      "cell_type": "code",
      "metadata": {
        "id": "oKd0IYEuJFZ9"
      },
      "source": [
        "data.dropna(inplace=True)"
      ],
      "execution_count": null,
      "outputs": []
    },
    {
      "cell_type": "code",
      "metadata": {
        "colab": {
          "base_uri": "https://localhost:8080/"
        },
        "id": "psBWFw6EJN40",
        "outputId": "a081ac51-f0ea-4d83-c272-27bec232ed5a"
      },
      "source": [
        "data.isnull().sum()"
      ],
      "execution_count": null,
      "outputs": [
        {
          "output_type": "execute_result",
          "data": {
            "text/plain": [
              "title           0\n",
              "ingredients     0\n",
              "instructions    0\n",
              "dtype: int64"
            ]
          },
          "metadata": {},
          "execution_count": 188
        }
      ]
    },
    {
      "cell_type": "markdown",
      "metadata": {
        "id": "0IfqMr4SFvu6"
      },
      "source": [
        "##1.2 Load Cuisine and ingredients Dataset"
      ]
    },
    {
      "cell_type": "code",
      "metadata": {
        "id": "3smI1ShpEyXj"
      },
      "source": [
        "df_incredients_train = pd.read_json('/content/drive/MyDrive/my_data/ingredients/train.json')"
      ],
      "execution_count": null,
      "outputs": []
    },
    {
      "cell_type": "code",
      "metadata": {
        "colab": {
          "base_uri": "https://localhost:8080/",
          "height": 206
        },
        "id": "xI7Ah4mqFks5",
        "outputId": "d19f1f3c-c812-489b-d0fe-0d9902dd75c4"
      },
      "source": [
        "df_incredients_train.head()"
      ],
      "execution_count": null,
      "outputs": [
        {
          "output_type": "execute_result",
          "data": {
            "text/html": [
              "<div>\n",
              "<style scoped>\n",
              "    .dataframe tbody tr th:only-of-type {\n",
              "        vertical-align: middle;\n",
              "    }\n",
              "\n",
              "    .dataframe tbody tr th {\n",
              "        vertical-align: top;\n",
              "    }\n",
              "\n",
              "    .dataframe thead th {\n",
              "        text-align: right;\n",
              "    }\n",
              "</style>\n",
              "<table border=\"1\" class=\"dataframe\">\n",
              "  <thead>\n",
              "    <tr style=\"text-align: right;\">\n",
              "      <th></th>\n",
              "      <th>id</th>\n",
              "      <th>cuisine</th>\n",
              "      <th>ingredients</th>\n",
              "    </tr>\n",
              "  </thead>\n",
              "  <tbody>\n",
              "    <tr>\n",
              "      <th>0</th>\n",
              "      <td>10259</td>\n",
              "      <td>greek</td>\n",
              "      <td>[romaine lettuce, black olives, grape tomatoes...</td>\n",
              "    </tr>\n",
              "    <tr>\n",
              "      <th>1</th>\n",
              "      <td>25693</td>\n",
              "      <td>southern_us</td>\n",
              "      <td>[plain flour, ground pepper, salt, tomatoes, g...</td>\n",
              "    </tr>\n",
              "    <tr>\n",
              "      <th>2</th>\n",
              "      <td>20130</td>\n",
              "      <td>filipino</td>\n",
              "      <td>[eggs, pepper, salt, mayonaise, cooking oil, g...</td>\n",
              "    </tr>\n",
              "    <tr>\n",
              "      <th>3</th>\n",
              "      <td>22213</td>\n",
              "      <td>indian</td>\n",
              "      <td>[water, vegetable oil, wheat, salt]</td>\n",
              "    </tr>\n",
              "    <tr>\n",
              "      <th>4</th>\n",
              "      <td>13162</td>\n",
              "      <td>indian</td>\n",
              "      <td>[black pepper, shallots, cornflour, cayenne pe...</td>\n",
              "    </tr>\n",
              "  </tbody>\n",
              "</table>\n",
              "</div>"
            ],
            "text/plain": [
              "      id      cuisine                                        ingredients\n",
              "0  10259        greek  [romaine lettuce, black olives, grape tomatoes...\n",
              "1  25693  southern_us  [plain flour, ground pepper, salt, tomatoes, g...\n",
              "2  20130     filipino  [eggs, pepper, salt, mayonaise, cooking oil, g...\n",
              "3  22213       indian                [water, vegetable oil, wheat, salt]\n",
              "4  13162       indian  [black pepper, shallots, cornflour, cayenne pe..."
            ]
          },
          "metadata": {},
          "execution_count": 190
        }
      ]
    },
    {
      "cell_type": "code",
      "metadata": {
        "colab": {
          "base_uri": "https://localhost:8080/"
        },
        "id": "zCaKVatwGEGK",
        "outputId": "c218d168-1990-4199-9cde-dcf40d31fe81"
      },
      "source": [
        "df_incredients_train.shape\n",
        "\n",
        "#The Train datset contains 39774 rows and three features.\n",
        "#The features includes id,cuisine and ingredients."
      ],
      "execution_count": null,
      "outputs": [
        {
          "output_type": "execute_result",
          "data": {
            "text/plain": [
              "(39774, 3)"
            ]
          },
          "metadata": {},
          "execution_count": 191
        }
      ]
    },
    {
      "cell_type": "code",
      "metadata": {
        "id": "ib__4sXEGXfB"
      },
      "source": [
        "df_incredients_test = pd.read_json('/content/drive/MyDrive/my_data/ingredients/test.json')"
      ],
      "execution_count": null,
      "outputs": []
    },
    {
      "cell_type": "code",
      "metadata": {
        "colab": {
          "base_uri": "https://localhost:8080/",
          "height": 206
        },
        "id": "vZOnt0TpGeqR",
        "outputId": "fb96b108-a386-49cf-a18b-d72b70472194"
      },
      "source": [
        "df_incredients_test.head()"
      ],
      "execution_count": null,
      "outputs": [
        {
          "output_type": "execute_result",
          "data": {
            "text/html": [
              "<div>\n",
              "<style scoped>\n",
              "    .dataframe tbody tr th:only-of-type {\n",
              "        vertical-align: middle;\n",
              "    }\n",
              "\n",
              "    .dataframe tbody tr th {\n",
              "        vertical-align: top;\n",
              "    }\n",
              "\n",
              "    .dataframe thead th {\n",
              "        text-align: right;\n",
              "    }\n",
              "</style>\n",
              "<table border=\"1\" class=\"dataframe\">\n",
              "  <thead>\n",
              "    <tr style=\"text-align: right;\">\n",
              "      <th></th>\n",
              "      <th>id</th>\n",
              "      <th>ingredients</th>\n",
              "    </tr>\n",
              "  </thead>\n",
              "  <tbody>\n",
              "    <tr>\n",
              "      <th>0</th>\n",
              "      <td>18009</td>\n",
              "      <td>[baking powder, eggs, all-purpose flour, raisi...</td>\n",
              "    </tr>\n",
              "    <tr>\n",
              "      <th>1</th>\n",
              "      <td>28583</td>\n",
              "      <td>[sugar, egg yolks, corn starch, cream of tarta...</td>\n",
              "    </tr>\n",
              "    <tr>\n",
              "      <th>2</th>\n",
              "      <td>41580</td>\n",
              "      <td>[sausage links, fennel bulb, fronds, olive oil...</td>\n",
              "    </tr>\n",
              "    <tr>\n",
              "      <th>3</th>\n",
              "      <td>29752</td>\n",
              "      <td>[meat cuts, file powder, smoked sausage, okra,...</td>\n",
              "    </tr>\n",
              "    <tr>\n",
              "      <th>4</th>\n",
              "      <td>35687</td>\n",
              "      <td>[ground black pepper, salt, sausage casings, l...</td>\n",
              "    </tr>\n",
              "  </tbody>\n",
              "</table>\n",
              "</div>"
            ],
            "text/plain": [
              "      id                                        ingredients\n",
              "0  18009  [baking powder, eggs, all-purpose flour, raisi...\n",
              "1  28583  [sugar, egg yolks, corn starch, cream of tarta...\n",
              "2  41580  [sausage links, fennel bulb, fronds, olive oil...\n",
              "3  29752  [meat cuts, file powder, smoked sausage, okra,...\n",
              "4  35687  [ground black pepper, salt, sausage casings, l..."
            ]
          },
          "metadata": {},
          "execution_count": 193
        }
      ]
    },
    {
      "cell_type": "code",
      "metadata": {
        "colab": {
          "base_uri": "https://localhost:8080/"
        },
        "id": "J8EU77jrGg5J",
        "outputId": "0c0f311f-66a3-4b64-b9f8-80fe7044b533"
      },
      "source": [
        "df_incredients_test.shape\n",
        "#The Train datset contains upto 10000 rows and two features.\n",
        "#The features includes id and ingredients."
      ],
      "execution_count": null,
      "outputs": [
        {
          "output_type": "execute_result",
          "data": {
            "text/plain": [
              "(9944, 2)"
            ]
          },
          "metadata": {},
          "execution_count": 194
        }
      ]
    },
    {
      "cell_type": "code",
      "metadata": {
        "id": "Grp-Ys-JJwbV"
      },
      "source": [
        "df_ingredients = pd.concat([df_incredients_train,df_incredients_test],axis=0)"
      ],
      "execution_count": null,
      "outputs": []
    },
    {
      "cell_type": "code",
      "metadata": {
        "colab": {
          "base_uri": "https://localhost:8080/",
          "height": 206
        },
        "id": "tV4bNphlJ2YM",
        "outputId": "37adaf31-2b4f-48f4-8688-6b9aaac530a8"
      },
      "source": [
        "df_ingredients.head()"
      ],
      "execution_count": null,
      "outputs": [
        {
          "output_type": "execute_result",
          "data": {
            "text/html": [
              "<div>\n",
              "<style scoped>\n",
              "    .dataframe tbody tr th:only-of-type {\n",
              "        vertical-align: middle;\n",
              "    }\n",
              "\n",
              "    .dataframe tbody tr th {\n",
              "        vertical-align: top;\n",
              "    }\n",
              "\n",
              "    .dataframe thead th {\n",
              "        text-align: right;\n",
              "    }\n",
              "</style>\n",
              "<table border=\"1\" class=\"dataframe\">\n",
              "  <thead>\n",
              "    <tr style=\"text-align: right;\">\n",
              "      <th></th>\n",
              "      <th>id</th>\n",
              "      <th>cuisine</th>\n",
              "      <th>ingredients</th>\n",
              "    </tr>\n",
              "  </thead>\n",
              "  <tbody>\n",
              "    <tr>\n",
              "      <th>0</th>\n",
              "      <td>10259</td>\n",
              "      <td>greek</td>\n",
              "      <td>[romaine lettuce, black olives, grape tomatoes...</td>\n",
              "    </tr>\n",
              "    <tr>\n",
              "      <th>1</th>\n",
              "      <td>25693</td>\n",
              "      <td>southern_us</td>\n",
              "      <td>[plain flour, ground pepper, salt, tomatoes, g...</td>\n",
              "    </tr>\n",
              "    <tr>\n",
              "      <th>2</th>\n",
              "      <td>20130</td>\n",
              "      <td>filipino</td>\n",
              "      <td>[eggs, pepper, salt, mayonaise, cooking oil, g...</td>\n",
              "    </tr>\n",
              "    <tr>\n",
              "      <th>3</th>\n",
              "      <td>22213</td>\n",
              "      <td>indian</td>\n",
              "      <td>[water, vegetable oil, wheat, salt]</td>\n",
              "    </tr>\n",
              "    <tr>\n",
              "      <th>4</th>\n",
              "      <td>13162</td>\n",
              "      <td>indian</td>\n",
              "      <td>[black pepper, shallots, cornflour, cayenne pe...</td>\n",
              "    </tr>\n",
              "  </tbody>\n",
              "</table>\n",
              "</div>"
            ],
            "text/plain": [
              "      id      cuisine                                        ingredients\n",
              "0  10259        greek  [romaine lettuce, black olives, grape tomatoes...\n",
              "1  25693  southern_us  [plain flour, ground pepper, salt, tomatoes, g...\n",
              "2  20130     filipino  [eggs, pepper, salt, mayonaise, cooking oil, g...\n",
              "3  22213       indian                [water, vegetable oil, wheat, salt]\n",
              "4  13162       indian  [black pepper, shallots, cornflour, cayenne pe..."
            ]
          },
          "metadata": {},
          "execution_count": 196
        }
      ]
    },
    {
      "cell_type": "code",
      "metadata": {
        "colab": {
          "base_uri": "https://localhost:8080/"
        },
        "id": "JIYAmQbdJ5q9",
        "outputId": "ca268d6c-2eb5-4e60-92de-1fe3657b9304"
      },
      "source": [
        "df_ingredients.shape"
      ],
      "execution_count": null,
      "outputs": [
        {
          "output_type": "execute_result",
          "data": {
            "text/plain": [
              "(49718, 3)"
            ]
          },
          "metadata": {},
          "execution_count": 197
        }
      ]
    },
    {
      "cell_type": "markdown",
      "metadata": {
        "id": "HQmUDjHigUvE"
      },
      "source": [
        "#2. Feature Engineering"
      ]
    },
    {
      "cell_type": "code",
      "metadata": {
        "id": "H0hx6d0CGwJ6"
      },
      "source": [
        "import nltk\n",
        "import re\n",
        "import pandas as pd\n",
        "from sklearn import feature_extraction, model_selection, pipeline, manifold, preprocessing,feature_selection"
      ],
      "execution_count": null,
      "outputs": []
    },
    {
      "cell_type": "code",
      "metadata": {
        "colab": {
          "base_uri": "https://localhost:8080/"
        },
        "id": "ucq0ArOmgf8t",
        "outputId": "10044ed3-c013-458d-a61b-7c35ba45a033"
      },
      "source": [
        "additional_stop_words = [\"advertisement\", \"advertisements\",'ADVERTISEMENT'\n",
        "                         \"cup\", \"cups\",\n",
        "                         \"tablespoon\", \"tablespoons\", \n",
        "                         \"teaspoon\", \"teaspoons\", \n",
        "                         \"ounce\", \"ounces\",\n",
        "                         \"salt\", \n",
        "                         \"pepper\", \n",
        "                         \"pound\", \"pounds\",\n",
        "                         ]\n",
        "\n",
        "nltk.download('wordnet')\n",
        "nltk.download(\"stopwords\")"
      ],
      "execution_count": null,
      "outputs": [
        {
          "output_type": "stream",
          "name": "stdout",
          "text": [
            "[nltk_data] Downloading package wordnet to /root/nltk_data...\n",
            "[nltk_data]   Package wordnet is already up-to-date!\n",
            "[nltk_data] Downloading package stopwords to /root/nltk_data...\n",
            "[nltk_data]   Package stopwords is already up-to-date!\n"
          ]
        },
        {
          "output_type": "execute_result",
          "data": {
            "text/plain": [
              "True"
            ]
          },
          "metadata": {},
          "execution_count": 334
        }
      ]
    },
    {
      "cell_type": "code",
      "metadata": {
        "id": "tazOf1N9gjXr"
      },
      "source": [
        "def preprocess_text(text, flg_stemm=False, flg_lemm=True, lst_stopwords=None):\n",
        "    ## clean (convert to lowercase and remove punctuations and characters and then strip)\n",
        "    text = re.sub(r'[^\\w\\s]', '', str(text).lower().strip())\n",
        "            \n",
        "    ## Tokenize (convert from string to list)\n",
        "    lst_text = text.split()\n",
        "\n",
        "    ## remove Stopwords\n",
        "    if lst_stopwords is not None:\n",
        "        lst_text = [word for word in lst_text if word not in \n",
        "                    lst_stopwords]\n",
        "                \n",
        "    ## Stemming (remove -ing, -ly, ...)\n",
        "    if flg_stemm == True:\n",
        "        ps = nltk.stem.porter.PorterStemmer()\n",
        "        lst_text = [ps.stem(word) for word in lst_text]\n",
        "                \n",
        "    ## Lemmatisation (convert the word into root word)\n",
        "    if flg_lemm == True:\n",
        "        lem = nltk.stem.wordnet.WordNetLemmatizer()\n",
        "        lst_text = [lem.lemmatize(word) for word in lst_text]\n",
        "            \n",
        "    ## back to string from list\n",
        "    text = \" \".join(lst_text)\n",
        "\n",
        "    ## Remove digits\n",
        "    text = ''.join([i for i in text if not i.isdigit()])\n",
        "\n",
        "    ## remove mutliple space\n",
        "    text = re.sub(' +', ' ', text)\n",
        "\n",
        "    return text\n"
      ],
      "execution_count": null,
      "outputs": []
    },
    {
      "cell_type": "code",
      "metadata": {
        "id": "7JEyA8yFsj1n"
      },
      "source": [
        "def processing(row):\n",
        "  ls = row['ingredients']\n",
        "  return ' '.join(ls)"
      ],
      "execution_count": null,
      "outputs": []
    },
    {
      "cell_type": "code",
      "metadata": {
        "id": "lQD-mqN4Jhhk"
      },
      "source": [
        "dataset_cuisine_ingredients = df_ingredients\n",
        "\n"
      ],
      "execution_count": null,
      "outputs": []
    },
    {
      "cell_type": "code",
      "metadata": {
        "id": "3MiLqQxus3PP"
      },
      "source": [
        "dataset_cuisine_ingredients['ingredients'] = dataset_cuisine_ingredients.apply(lambda x: processing(x), axis=1)"
      ],
      "execution_count": null,
      "outputs": []
    },
    {
      "cell_type": "code",
      "metadata": {
        "colab": {
          "base_uri": "https://localhost:8080/",
          "height": 206
        },
        "id": "GujDOrCOs_vd",
        "outputId": "e32aac75-641c-4dae-b661-c842d7a14593"
      },
      "source": [
        "dataset_cuisine_ingredients.head()"
      ],
      "execution_count": null,
      "outputs": [
        {
          "output_type": "execute_result",
          "data": {
            "text/html": [
              "<div>\n",
              "<style scoped>\n",
              "    .dataframe tbody tr th:only-of-type {\n",
              "        vertical-align: middle;\n",
              "    }\n",
              "\n",
              "    .dataframe tbody tr th {\n",
              "        vertical-align: top;\n",
              "    }\n",
              "\n",
              "    .dataframe thead th {\n",
              "        text-align: right;\n",
              "    }\n",
              "</style>\n",
              "<table border=\"1\" class=\"dataframe\">\n",
              "  <thead>\n",
              "    <tr style=\"text-align: right;\">\n",
              "      <th></th>\n",
              "      <th>id</th>\n",
              "      <th>cuisine</th>\n",
              "      <th>ingredients</th>\n",
              "    </tr>\n",
              "  </thead>\n",
              "  <tbody>\n",
              "    <tr>\n",
              "      <th>0</th>\n",
              "      <td>10259</td>\n",
              "      <td>greek</td>\n",
              "      <td>romaine lettuce black olives grape tomatoes ga...</td>\n",
              "    </tr>\n",
              "    <tr>\n",
              "      <th>1</th>\n",
              "      <td>25693</td>\n",
              "      <td>southern_us</td>\n",
              "      <td>plain flour ground pepper salt tomatoes ground...</td>\n",
              "    </tr>\n",
              "    <tr>\n",
              "      <th>2</th>\n",
              "      <td>20130</td>\n",
              "      <td>filipino</td>\n",
              "      <td>eggs pepper salt mayonaise cooking oil green c...</td>\n",
              "    </tr>\n",
              "    <tr>\n",
              "      <th>3</th>\n",
              "      <td>22213</td>\n",
              "      <td>indian</td>\n",
              "      <td>water vegetable oil wheat salt</td>\n",
              "    </tr>\n",
              "    <tr>\n",
              "      <th>4</th>\n",
              "      <td>13162</td>\n",
              "      <td>indian</td>\n",
              "      <td>black pepper shallots cornflour cayenne pepper...</td>\n",
              "    </tr>\n",
              "  </tbody>\n",
              "</table>\n",
              "</div>"
            ],
            "text/plain": [
              "      id      cuisine                                        ingredients\n",
              "0  10259        greek  romaine lettuce black olives grape tomatoes ga...\n",
              "1  25693  southern_us  plain flour ground pepper salt tomatoes ground...\n",
              "2  20130     filipino  eggs pepper salt mayonaise cooking oil green c...\n",
              "3  22213       indian                     water vegetable oil wheat salt\n",
              "4  13162       indian  black pepper shallots cornflour cayenne pepper..."
            ]
          },
          "metadata": {},
          "execution_count": 204
        }
      ]
    },
    {
      "cell_type": "code",
      "metadata": {
        "id": "NFSDuJ_itHMu"
      },
      "source": [
        "dataset_cuisine_ingredients.dropna(inplace=True)\n",
        "dataset_cuisine_ingredients = dataset_cuisine_ingredients.drop(columns=['id']).reset_index(drop=True)"
      ],
      "execution_count": null,
      "outputs": []
    },
    {
      "cell_type": "code",
      "metadata": {
        "colab": {
          "base_uri": "https://localhost:8080/",
          "height": 206
        },
        "id": "gr8TrLsatNjc",
        "outputId": "2b1a19a3-6261-4b61-9f6c-7abc3a4f6df6"
      },
      "source": [
        "dataset_cuisine_ingredients.head()"
      ],
      "execution_count": null,
      "outputs": [
        {
          "output_type": "execute_result",
          "data": {
            "text/html": [
              "<div>\n",
              "<style scoped>\n",
              "    .dataframe tbody tr th:only-of-type {\n",
              "        vertical-align: middle;\n",
              "    }\n",
              "\n",
              "    .dataframe tbody tr th {\n",
              "        vertical-align: top;\n",
              "    }\n",
              "\n",
              "    .dataframe thead th {\n",
              "        text-align: right;\n",
              "    }\n",
              "</style>\n",
              "<table border=\"1\" class=\"dataframe\">\n",
              "  <thead>\n",
              "    <tr style=\"text-align: right;\">\n",
              "      <th></th>\n",
              "      <th>cuisine</th>\n",
              "      <th>ingredients</th>\n",
              "    </tr>\n",
              "  </thead>\n",
              "  <tbody>\n",
              "    <tr>\n",
              "      <th>0</th>\n",
              "      <td>greek</td>\n",
              "      <td>romaine lettuce black olives grape tomatoes ga...</td>\n",
              "    </tr>\n",
              "    <tr>\n",
              "      <th>1</th>\n",
              "      <td>southern_us</td>\n",
              "      <td>plain flour ground pepper salt tomatoes ground...</td>\n",
              "    </tr>\n",
              "    <tr>\n",
              "      <th>2</th>\n",
              "      <td>filipino</td>\n",
              "      <td>eggs pepper salt mayonaise cooking oil green c...</td>\n",
              "    </tr>\n",
              "    <tr>\n",
              "      <th>3</th>\n",
              "      <td>indian</td>\n",
              "      <td>water vegetable oil wheat salt</td>\n",
              "    </tr>\n",
              "    <tr>\n",
              "      <th>4</th>\n",
              "      <td>indian</td>\n",
              "      <td>black pepper shallots cornflour cayenne pepper...</td>\n",
              "    </tr>\n",
              "  </tbody>\n",
              "</table>\n",
              "</div>"
            ],
            "text/plain": [
              "       cuisine                                        ingredients\n",
              "0        greek  romaine lettuce black olives grape tomatoes ga...\n",
              "1  southern_us  plain flour ground pepper salt tomatoes ground...\n",
              "2     filipino  eggs pepper salt mayonaise cooking oil green c...\n",
              "3       indian                     water vegetable oil wheat salt\n",
              "4       indian  black pepper shallots cornflour cayenne pepper..."
            ]
          },
          "metadata": {},
          "execution_count": 206
        }
      ]
    },
    {
      "cell_type": "code",
      "metadata": {
        "id": "W3RN7Go8ssSm"
      },
      "source": [
        "    stop_word_list = nltk.corpus.stopwords.words(\"english\")\n",
        "\n",
        "    # Extend list of stop words\n",
        "    stop_word_list.extend(additional_stop_words)\n"
      ],
      "execution_count": null,
      "outputs": []
    },
    {
      "cell_type": "code",
      "metadata": {
        "id": "AbKofPDUtmR9"
      },
      "source": [
        " dataset_cuisine_ingredients[\"ingredients_query\"] = dataset_cuisine_ingredients[\"ingredients\"].apply(lambda x: preprocess_text(x, flg_stemm=False, flg_lemm=True, lst_stopwords=stop_word_list))"
      ],
      "execution_count": null,
      "outputs": []
    },
    {
      "cell_type": "code",
      "metadata": {
        "colab": {
          "base_uri": "https://localhost:8080/",
          "height": 206
        },
        "id": "eLXbWPqOtuHE",
        "outputId": "0d006b8c-a914-4ad3-ae04-16c15fbcae11"
      },
      "source": [
        "dataset_cuisine_ingredients.head()"
      ],
      "execution_count": null,
      "outputs": [
        {
          "output_type": "execute_result",
          "data": {
            "text/html": [
              "<div>\n",
              "<style scoped>\n",
              "    .dataframe tbody tr th:only-of-type {\n",
              "        vertical-align: middle;\n",
              "    }\n",
              "\n",
              "    .dataframe tbody tr th {\n",
              "        vertical-align: top;\n",
              "    }\n",
              "\n",
              "    .dataframe thead th {\n",
              "        text-align: right;\n",
              "    }\n",
              "</style>\n",
              "<table border=\"1\" class=\"dataframe\">\n",
              "  <thead>\n",
              "    <tr style=\"text-align: right;\">\n",
              "      <th></th>\n",
              "      <th>cuisine</th>\n",
              "      <th>ingredients</th>\n",
              "      <th>ingredients_query</th>\n",
              "    </tr>\n",
              "  </thead>\n",
              "  <tbody>\n",
              "    <tr>\n",
              "      <th>0</th>\n",
              "      <td>greek</td>\n",
              "      <td>romaine lettuce black olives grape tomatoes ga...</td>\n",
              "      <td>romaine lettuce black olive grape tomato garli...</td>\n",
              "    </tr>\n",
              "    <tr>\n",
              "      <th>1</th>\n",
              "      <td>southern_us</td>\n",
              "      <td>plain flour ground pepper salt tomatoes ground...</td>\n",
              "      <td>plain flour ground tomato ground black thyme e...</td>\n",
              "    </tr>\n",
              "    <tr>\n",
              "      <th>2</th>\n",
              "      <td>filipino</td>\n",
              "      <td>eggs pepper salt mayonaise cooking oil green c...</td>\n",
              "      <td>egg mayonaise cooking oil green chilies grille...</td>\n",
              "    </tr>\n",
              "    <tr>\n",
              "      <th>3</th>\n",
              "      <td>indian</td>\n",
              "      <td>water vegetable oil wheat salt</td>\n",
              "      <td>water vegetable oil wheat</td>\n",
              "    </tr>\n",
              "    <tr>\n",
              "      <th>4</th>\n",
              "      <td>indian</td>\n",
              "      <td>black pepper shallots cornflour cayenne pepper...</td>\n",
              "      <td>black shallot cornflour cayenne onion garlic p...</td>\n",
              "    </tr>\n",
              "  </tbody>\n",
              "</table>\n",
              "</div>"
            ],
            "text/plain": [
              "       cuisine  ...                                  ingredients_query\n",
              "0        greek  ...  romaine lettuce black olive grape tomato garli...\n",
              "1  southern_us  ...  plain flour ground tomato ground black thyme e...\n",
              "2     filipino  ...  egg mayonaise cooking oil green chilies grille...\n",
              "3       indian  ...                          water vegetable oil wheat\n",
              "4       indian  ...  black shallot cornflour cayenne onion garlic p...\n",
              "\n",
              "[5 rows x 3 columns]"
            ]
          },
          "metadata": {},
          "execution_count": 209
        }
      ]
    },
    {
      "cell_type": "code",
      "metadata": {
        "colab": {
          "base_uri": "https://localhost:8080/",
          "height": 35
        },
        "id": "NjDP69Iit3Gl",
        "outputId": "3ee1e1c9-b6e3-41ef-852b-f24ec11cd59d"
      },
      "source": [
        "dataset_cuisine_ingredients['ingredients_query'][0]"
      ],
      "execution_count": null,
      "outputs": [
        {
          "output_type": "execute_result",
          "data": {
            "application/vnd.google.colaboratory.intrinsic+json": {
              "type": "string"
            },
            "text/plain": [
              "'romaine lettuce black olive grape tomato garlic purple onion seasoning garbanzo bean feta cheese crumbles'"
            ]
          },
          "metadata": {},
          "execution_count": 210
        }
      ]
    },
    {
      "cell_type": "code",
      "metadata": {
        "id": "lXz_q_umzxIb"
      },
      "source": [
        "#dataset_cuisine_ingredients.to_csv('dataset_cuisine_ingredients.csv',index=False)"
      ],
      "execution_count": null,
      "outputs": []
    },
    {
      "cell_type": "code",
      "metadata": {
        "id": "uBO9pnNIKc96",
        "colab": {
          "base_uri": "https://localhost:8080/"
        },
        "outputId": "5c5c44f3-ab75-4958-bedf-be9d09eb5596"
      },
      "source": [
        " ## Tf-Idf (advanced variant of BoW)\n",
        "vectorizer = feature_extraction.text.TfidfVectorizer(max_features=10000, ngram_range=(1,2))\n",
        "corpus = dataset_cuisine_ingredients[\"ingredients_query\"]\n",
        "vectorizer.fit(corpus)"
      ],
      "execution_count": null,
      "outputs": [
        {
          "output_type": "execute_result",
          "data": {
            "text/plain": [
              "TfidfVectorizer(max_features=10000, ngram_range=(1, 2))"
            ]
          },
          "metadata": {},
          "execution_count": 212
        }
      ]
    },
    {
      "cell_type": "code",
      "metadata": {
        "id": "g9DxGxYTwXML"
      },
      "source": [
        "embedded_ingredients = vectorizer.transform(corpus)"
      ],
      "execution_count": null,
      "outputs": []
    },
    {
      "cell_type": "code",
      "metadata": {
        "id": "EvXHbiK0waGo"
      },
      "source": [
        "    \n",
        "    dic_vocabulary = vectorizer.vocabulary_"
      ],
      "execution_count": null,
      "outputs": []
    },
    {
      "cell_type": "code",
      "metadata": {
        "colab": {
          "base_uri": "https://localhost:8080/"
        },
        "id": "JM1aPdZNwcUa",
        "outputId": "c5f03af2-8136-422e-c204-6e2f06df537d"
      },
      "source": [
        "dic_vocabulary"
      ],
      "execution_count": null,
      "outputs": [
        {
          "output_type": "execute_result",
          "data": {
            "text/plain": [
              "{'romaine': 7325,\n",
              " 'lettuce': 4810,\n",
              " 'black': 587,\n",
              " 'olive': 5835,\n",
              " 'grape': 3919,\n",
              " 'tomato': 8998,\n",
              " 'garlic': 3608,\n",
              " 'purple': 7000,\n",
              " 'onion': 5866,\n",
              " 'seasoning': 7771,\n",
              " 'garbanzo': 3603,\n",
              " 'bean': 314,\n",
              " 'feta': 3168,\n",
              " 'cheese': 1502,\n",
              " 'crumbles': 2629,\n",
              " 'romaine lettuce': 7326,\n",
              " 'black olive': 681,\n",
              " 'grape tomato': 3921,\n",
              " 'tomato garlic': 9060,\n",
              " 'garlic purple': 3728,\n",
              " 'purple onion': 7001,\n",
              " 'onion seasoning': 6055,\n",
              " 'garbanzo bean': 3604,\n",
              " 'feta cheese': 3169,\n",
              " 'cheese crumbles': 1549,\n",
              " 'plain': 6669,\n",
              " 'flour': 3304,\n",
              " 'ground': 4000,\n",
              " 'thyme': 8910,\n",
              " 'egg': 2920,\n",
              " 'green': 3952,\n",
              " 'yellow': 9879,\n",
              " 'corn': 2406,\n",
              " 'meal': 5063,\n",
              " 'milk': 5122,\n",
              " 'vegetable': 9334,\n",
              " 'oil': 5533,\n",
              " 'plain flour': 6672,\n",
              " 'flour ground': 3364,\n",
              " 'ground tomato': 4049,\n",
              " 'tomato ground': 9065,\n",
              " 'ground black': 4005,\n",
              " 'black thyme': 721,\n",
              " 'thyme egg': 8928,\n",
              " 'egg green': 2978,\n",
              " 'green tomato': 3989,\n",
              " 'tomato yellow': 9143,\n",
              " 'yellow corn': 9882,\n",
              " 'corn meal': 2431,\n",
              " 'meal milk': 5067,\n",
              " 'milk vegetable': 5228,\n",
              " 'vegetable oil': 9341,\n",
              " 'mayonaise': 5042,\n",
              " 'cooking': 2360,\n",
              " 'chilies': 1830,\n",
              " 'grilled': 3994,\n",
              " 'chicken': 1679,\n",
              " 'breast': 839,\n",
              " 'powder': 6818,\n",
              " 'soy': 8236,\n",
              " 'sauce': 7460,\n",
              " 'butter': 1040,\n",
              " 'liver': 4912,\n",
              " 'cooking oil': 2362,\n",
              " 'oil green': 5657,\n",
              " 'green chilies': 3963,\n",
              " 'grilled chicken': 3995,\n",
              " 'chicken breast': 1686,\n",
              " 'breast garlic': 867,\n",
              " 'garlic powder': 3726,\n",
              " 'powder yellow': 6952,\n",
              " 'yellow onion': 9889,\n",
              " 'onion soy': 6065,\n",
              " 'soy sauce': 8238,\n",
              " 'sauce butter': 7481,\n",
              " 'butter chicken': 1067,\n",
              " 'chicken liver': 1714,\n",
              " 'water': 9476,\n",
              " 'wheat': 9662,\n",
              " 'water vegetable': 9632,\n",
              " 'shallot': 7928,\n",
              " 'cornflour': 2449,\n",
              " 'cayenne': 1397,\n",
              " 'paste': 6359,\n",
              " 'lemon': 4750,\n",
              " 'juice': 4308,\n",
              " 'chili': 1816,\n",
              " 'passata': 6336,\n",
              " 'cumin': 2686,\n",
              " 'boneless': 769,\n",
              " 'skinless': 8118,\n",
              " 'thigh': 8883,\n",
              " 'garam': 3601,\n",
              " 'masala': 5007,\n",
              " 'double': 2825,\n",
              " 'cream': 2493,\n",
              " 'natural': 5411,\n",
              " 'yogurt': 9902,\n",
              " 'bay': 308,\n",
              " 'leaf': 4600,\n",
              " 'black shallot': 710,\n",
              " 'cayenne onion': 1434,\n",
              " 'onion garlic': 5963,\n",
              " 'garlic paste': 3718,\n",
              " 'paste milk': 6397,\n",
              " 'milk butter': 5133,\n",
              " 'butter lemon': 1119,\n",
              " 'lemon juice': 4768,\n",
              " 'juice water': 4423,\n",
              " 'water chili': 9507,\n",
              " 'chili powder': 1827,\n",
              " 'oil ground': 5658,\n",
              " 'ground cumin': 4018,\n",
              " 'cumin boneless': 2689,\n",
              " 'boneless chicken': 771,\n",
              " 'chicken skinless': 1727,\n",
              " 'skinless thigh': 8120,\n",
              " 'thigh garam': 8888,\n",
              " 'garam masala': 3602,\n",
              " 'double cream': 2826,\n",
              " 'natural yogurt': 5413,\n",
              " 'bay leaf': 309,\n",
              " 'sugar': 8569,\n",
              " 'fresh': 3473,\n",
              " 'ginger': 3779,\n",
              " 'root': 7329,\n",
              " 'cinnamon': 2073,\n",
              " 'vanilla': 9312,\n",
              " 'extract': 3088,\n",
              " 'powdered': 6954,\n",
              " 'baking': 219,\n",
              " 'flour sugar': 3415,\n",
              " 'sugar butter': 8594,\n",
              " 'butter egg': 1093,\n",
              " 'egg fresh': 2970,\n",
              " 'fresh ginger': 3503,\n",
              " 'ginger root': 3849,\n",
              " 'root ground': 7332,\n",
              " 'ground cinnamon': 4014,\n",
              " 'cinnamon milk': 2102,\n",
              " 'milk vanilla': 5227,\n",
              " 'vanilla extract': 9317,\n",
              " 'extract ground': 3105,\n",
              " 'ground ginger': 4027,\n",
              " 'powdered sugar': 6956,\n",
              " 'sugar baking': 8577,\n",
              " 'baking powder': 223,\n",
              " 'medium': 5085,\n",
              " 'shrimp': 8046,\n",
              " 'chopped': 1965,\n",
              " 'cilantro': 2003,\n",
              " 'jalapeno': 4284,\n",
              " 'flat': 3279,\n",
              " 'parsley': 6265,\n",
              " 'skirt': 8121,\n",
              " 'steak': 8441,\n",
              " 'white': 9686,\n",
              " 'vinegar': 9366,\n",
              " 'sea': 7735,\n",
              " 'chorizo': 1982,\n",
              " 'sausage': 7646,\n",
              " 'olive oil': 5853,\n",
              " 'oil medium': 5697,\n",
              " 'medium shrimp': 5089,\n",
              " 'shrimp garlic': 8067,\n",
              " 'garlic chopped': 3641,\n",
              " 'chopped cilantro': 1969,\n",
              " 'cilantro jalapeno': 2036,\n",
              " 'jalapeno chilies': 4285,\n",
              " 'flat leaf': 3280,\n",
              " 'leaf parsley': 4691,\n",
              " 'skirt steak': 8122,\n",
              " 'steak white': 8459,\n",
              " 'white vinegar': 9735,\n",
              " 'vinegar sea': 9442,\n",
              " 'chorizo sausage': 1984,\n",
              " 'pistachio': 6652,\n",
              " 'nut': 5489,\n",
              " 'almond': 37,\n",
              " 'dried': 2848,\n",
              " 'cranberry': 2488,\n",
              " 'sugar pistachio': 8694,\n",
              " 'pistachio nut': 6653,\n",
              " 'flour vanilla': 3424,\n",
              " 'almond extract': 45,\n",
              " 'extract egg': 3100,\n",
              " 'egg baking': 2926,\n",
              " 'powder dried': 6862,\n",
              " 'dried cranberry': 2857,\n",
              " 'pineapple': 6636,\n",
              " 'pork': 6705,\n",
              " 'poblano': 6682,\n",
              " 'pepper': 6533,\n",
              " 'tortilla': 9158,\n",
              " 'cheddar': 1497,\n",
              " 'iceberg': 4241,\n",
              " 'lime': 4854,\n",
              " 'oil purple': 5747,\n",
              " 'onion fresh': 5959,\n",
              " 'fresh pineapple': 3527,\n",
              " 'poblano pepper': 6685,\n",
              " 'corn tortilla': 2441,\n",
              " 'tortilla cheddar': 9164,\n",
              " 'cheddar cheese': 1498,\n",
              " 'cheese ground': 1575,\n",
              " 'iceberg lettuce': 4242,\n",
              " 'lettuce lime': 4823,\n",
              " 'lime jalapeno': 4873,\n",
              " 'chilies chopped': 1843,\n",
              " 'cilantro fresh': 2030,\n",
              " 'basil': 245,\n",
              " 'extravirgin': 3127,\n",
              " 'kosher': 4496,\n",
              " 'chopped tomato': 1980,\n",
              " 'tomato fresh': 9055,\n",
              " 'fresh basil': 3476,\n",
              " 'basil garlic': 265,\n",
              " 'garlic extravirgin': 3663,\n",
              " 'extravirgin olive': 3128,\n",
              " 'oil kosher': 5673,\n",
              " 'pimento': 6632,\n",
              " 'sweet': 8770,\n",
              " 'oregano': 6119,\n",
              " 'sharp': 7965,\n",
              " 'swiss': 8791,\n",
              " 'provolone': 6982,\n",
              " 'canola': 1282,\n",
              " 'mushroom': 5322,\n",
              " 'dried oregano': 2871,\n",
              " 'oregano olive': 6151,\n",
              " 'oil garlic': 5647,\n",
              " 'sharp cheddar': 7966,\n",
              " 'swiss cheese': 8793,\n",
              " 'cheese provolone': 1625,\n",
              " 'provolone cheese': 6983,\n",
              " 'cheese canola': 1527,\n",
              " 'canola oil': 1284,\n",
              " 'oil mushroom': 5705,\n",
              " 'mushroom black': 5326,\n",
              " 'low': 4932,\n",
              " 'sodium': 8189,\n",
              " 'dry': 2890,\n",
              " 'mustard': 5377,\n",
              " 'sesame': 7922,\n",
              " 'scallion': 7684,\n",
              " 'shaoxing': 7963,\n",
              " 'wine': 9762,\n",
              " 'turkey': 9245,\n",
              " 'crushed': 2636,\n",
              " 'red': 7077,\n",
              " 'flake': 3235,\n",
              " 'starch': 8403,\n",
              " 'low sodium': 4935,\n",
              " 'sodium soy': 8193,\n",
              " 'sauce fresh': 7529,\n",
              " 'ginger dry': 3811,\n",
              " 'dry mustard': 2894,\n",
              " 'mustard green': 5389,\n",
              " 'green bean': 3955,\n",
              " 'bean white': 390,\n",
              " 'white sesame': 9727,\n",
              " 'sesame oil': 7923,\n",
              " 'oil scallion': 5766,\n",
              " 'scallion canola': 7690,\n",
              " 'oil sugar': 5792,\n",
              " 'sugar shaoxing': 8721,\n",
              " 'shaoxing wine': 7964,\n",
              " 'wine garlic': 9791,\n",
              " 'garlic ground': 3681,\n",
              " 'ground turkey': 4051,\n",
              " 'water crushed': 9523,\n",
              " 'crushed red': 2640,\n",
              " 'red flake': 7098,\n",
              " 'flake corn': 3245,\n",
              " 'corn starch': 2439,\n",
              " 'italian': 4257,\n",
              " 'walnut': 9465,\n",
              " 'hot': 4219,\n",
              " 'trout': 9215,\n",
              " 'fillet': 3182,\n",
              " 'clove': 2131,\n",
              " 'chipotle': 1921,\n",
              " 'chile': 1754,\n",
              " 'fine': 3210,\n",
              " 'italian parsley': 4263,\n",
              " 'parsley leaf': 6300,\n",
              " 'hot red': 4224,\n",
              " 'flake extravirgin': 3248,\n",
              " 'oil fresh': 5643,\n",
              " 'fresh lemon': 3512,\n",
              " 'trout fillet': 9216,\n",
              " 'fillet garlic': 3194,\n",
              " 'garlic clove': 3644,\n",
              " 'clove chipotle': 2161,\n",
              " 'chipotle chile': 1923,\n",
              " 'fine sea': 3213,\n",
              " 'sea flat': 7746,\n",
              " 'coriander': 2369,\n",
              " 'plum': 6679,\n",
              " 'avocado': 138,\n",
              " 'flank': 3277,\n",
              " 'cinnamon fresh': 2089,\n",
              " 'fresh cilantro': 3488,\n",
              " 'cilantro chili': 2013,\n",
              " 'powder ground': 6881,\n",
              " 'ground coriander': 4017,\n",
              " 'coriander kosher': 2391,\n",
              " 'kosher ground': 4535,\n",
              " 'black garlic': 648,\n",
              " 'garlic plum': 3723,\n",
              " 'plum tomato': 6681,\n",
              " 'tomato avocado': 9001,\n",
              " 'avocado lime': 156,\n",
              " 'lime juice': 4874,\n",
              " 'flank steak': 3278,\n",
              " 'steak ground': 8448,\n",
              " 'cumin black': 2688,\n",
              " 'oil crushed': 5613,\n",
              " 'flake onion': 3259,\n",
              " 'parmesan': 6259,\n",
              " 'allpurpose': 25,\n",
              " 'fat': 3138,\n",
              " 'free': 3451,\n",
              " 'le': 4598,\n",
              " 'broth': 920,\n",
              " 'chive': 1927,\n",
              " 'gruyere': 4061,\n",
              " 'bacon': 185,\n",
              " 'slice': 8127,\n",
              " 'gnocchi': 3880,\n",
              " 'spray': 8309,\n",
              " 'fresh parmesan': 3524,\n",
              " 'parmesan cheese': 6260,\n",
              " 'cheese butter': 1525,\n",
              " 'butter allpurpose': 1042,\n",
              " 'allpurpose flour': 26,\n",
              " 'flour fat': 3351,\n",
              " 'fat free': 3142,\n",
              " 'free le': 3456,\n",
              " 'le sodium': 4599,\n",
              " 'sodium chicken': 8192,\n",
              " 'chicken broth': 1687,\n",
              " 'broth chopped': 940,\n",
              " 'chopped fresh': 1971,\n",
              " 'fresh chive': 3486,\n",
              " 'gruyere cheese': 4062,\n",
              " 'black bacon': 593,\n",
              " 'bacon slice': 202,\n",
              " 'free milk': 3457,\n",
              " 'milk cooking': 5151,\n",
              " 'cooking spray': 2364,\n",
              " 'tumeric': 9219,\n",
              " 'stock': 8493,\n",
              " 'naan': 5407,\n",
              " 'lentil': 4800,\n",
              " 'spinach': 8272,\n",
              " 'potato': 6753,\n",
              " 'tumeric vegetable': 9239,\n",
              " 'vegetable stock': 9343,\n",
              " 'tomato garam': 9058,\n",
              " 'red lentil': 7115,\n",
              " 'red chili': 7089,\n",
              " 'chili pepper': 1826,\n",
              " 'pepper onion': 6553,\n",
              " 'onion spinach': 6067,\n",
              " 'sweet potato': 8780,\n",
              " 'greek': 3948,\n",
              " 'curd': 2737,\n",
              " 'confectioner': 2340,\n",
              " 'raspberry': 7064,\n",
              " 'greek yogurt': 3951,\n",
              " 'yogurt lemon': 9922,\n",
              " 'confectioner sugar': 2341,\n",
              " 'zesty': 9977,\n",
              " 'dressing': 2841,\n",
              " 'italian seasoning': 4271,\n",
              " 'zesty italian': 9978,\n",
              " 'italian dressing': 4260,\n",
              " 'asian': 129,\n",
              " 'fish': 3226,\n",
              " 'sugar hot': 8657,\n",
              " 'hot chili': 4220,\n",
              " 'asian fish': 131,\n",
              " 'fish sauce': 3228,\n",
              " 'sauce lime': 7556,\n",
              " 'bell': 474,\n",
              " 'squash': 8383,\n",
              " 'sliced': 8134,\n",
              " 'broccolini': 919,\n",
              " 'cooked': 2348,\n",
              " 'rice': 7186,\n",
              " 'sauce vegetable': 7635,\n",
              " 'oil red': 5749,\n",
              " 'red bell': 7081,\n",
              " 'bell chicken': 489,\n",
              " 'broth yellow': 1006,\n",
              " 'yellow squash': 9893,\n",
              " 'squash garlic': 8386,\n",
              " 'garlic chili': 3636,\n",
              " 'chili sauce': 1828,\n",
              " 'sauce sliced': 7614,\n",
              " 'sliced green': 8139,\n",
              " 'green onion': 3980,\n",
              " 'fresh lime': 3513,\n",
              " 'juice cooked': 4338,\n",
              " 'cooked rice': 2355,\n",
              " 'rice chicken': 7199,\n",
              " 'breast corn': 853,\n",
              " 'loin': 4918,\n",
              " 'roasted': 7302,\n",
              " 'peanut': 6466,\n",
              " 'hoisin': 4176,\n",
              " 'creamy': 2586,\n",
              " 'mint': 5249,\n",
              " 'thai': 8870,\n",
              " 'noodle': 5446,\n",
              " 'beansprouts': 394,\n",
              " 'pork loin': 6726,\n",
              " 'roasted peanut': 7307,\n",
              " 'peanut chopped': 6472,\n",
              " 'hoisin sauce': 4177,\n",
              " 'sauce creamy': 7508,\n",
              " 'creamy peanut': 2587,\n",
              " 'peanut butter': 6469,\n",
              " 'butter chopped': 1070,\n",
              " 'fresh mint': 3517,\n",
              " 'thai basil': 8871,\n",
              " 'basil rice': 286,\n",
              " 'rice medium': 7233,\n",
              " 'shrimp water': 8091,\n",
              " 'water rice': 9601,\n",
              " 'rice noodle': 7237,\n",
              " 'noodle beansprouts': 5447,\n",
              " 'rom': 7323,\n",
              " 'rom tomato': 7324,\n",
              " 'tomato kosher': 9074,\n",
              " 'kosher purple': 4550,\n",
              " 'onion jalapeno': 5979,\n",
              " 'chilies lime': 1869,\n",
              " 'lime chopped': 4860,\n",
              " 'lowfat': 4938,\n",
              " 'mayonnaise': 5062,\n",
              " 'spicy': 8267,\n",
              " 'brown': 1008,\n",
              " 'lowfat mayonnaise': 4943,\n",
              " 'baking potato': 222,\n",
              " 'potato egg': 6775,\n",
              " 'spicy brown': 8268,\n",
              " 'brown mustard': 1012,\n",
              " 'seed': 7814,\n",
              " 'extra': 3082,\n",
              " 'firm': 3221,\n",
              " 'tofu': 8974,\n",
              " 'broccoli': 914,\n",
              " 'orange': 6098,\n",
              " 'arrowroot': 116,\n",
              " 'curry': 2745,\n",
              " 'sesame seed': 7925,\n",
              " 'seed red': 7882,\n",
              " 'red yellow': 7139,\n",
              " 'yellow pepper': 9890,\n",
              " 'pepper water': 6564,\n",
              " 'water extra': 9531,\n",
              " 'extra firm': 3083,\n",
              " 'firm tofu': 3223,\n",
              " 'sauce orange': 7575,\n",
              " 'orange bell': 6099,\n",
              " 'arrowroot powder': 117,\n",
              " 'powder fresh': 6870,\n",
              " 'ginger sesame': 3854,\n",
              " 'red curry': 7095,\n",
              " 'curry paste': 2747,\n",
              " 'marinara': 4993,\n",
              " 'linguine': 4897,\n",
              " 'caper': 1290,\n",
              " 'zest': 9958,\n",
              " 'marinara sauce': 4994,\n",
              " 'sauce flat': 7527,\n",
              " 'parsley olive': 6306,\n",
              " 'oil linguine': 5685,\n",
              " 'flake olive': 3258,\n",
              " 'olive lemon': 5852,\n",
              " 'lemon zest': 4787,\n",
              " 'zest garlic': 9967,\n",
              " 'lo': 4913,\n",
              " 'mein': 5094,\n",
              " 'light': 4836,\n",
              " 'oyster': 6177,\n",
              " 'dark': 2760,\n",
              " 'cabbage': 1213,\n",
              " 'lo mein': 4914,\n",
              " 'mein noodle': 5095,\n",
              " 'noodle chicken': 5449,\n",
              " 'light soy': 4849,\n",
              " 'sauce flank': 7526,\n",
              " 'dried black': 2851,\n",
              " 'black mushroom': 678,\n",
              " 'oyster sauce': 6179,\n",
              " 'sauce dark': 7515,\n",
              " 'dark soy': 2768,\n",
              " 'sauce peanut': 7584,\n",
              " 'peanut sesame': 6488,\n",
              " 'oil cabbage': 5572,\n",
              " 'herb': 4162,\n",
              " 'paprika': 6215,\n",
              " 'mango': 4978,\n",
              " 'juice fresh': 4356,\n",
              " 'fresh tomato': 3541,\n",
              " 'tomato paprika': 9095,\n",
              " 'chile onion': 1793,\n",
              " 'onion red': 6037,\n",
              " 'sherry': 7982,\n",
              " 'grated': 3931,\n",
              " 'heavy': 4154,\n",
              " 'spaghetti': 8244,\n",
              " 'black butter': 606,\n",
              " 'butter sliced': 1161,\n",
              " 'sliced mushroom': 8141,\n",
              " 'grated parmesan': 3939,\n",
              " 'cheese heavy': 1579,\n",
              " 'heavy cream': 4155,\n",
              " 'broth cooked': 944,\n",
              " 'cooked chicken': 2351,\n",
              " 'chicken allpurpose': 1680,\n",
              " 'roll': 7318,\n",
              " 'wrapper': 9845,\n",
              " 'sour': 8229,\n",
              " 'molasses': 5298,\n",
              " 'shredded': 8026,\n",
              " 'carrot': 1324,\n",
              " 'green bell': 3956,\n",
              " 'bell egg': 507,\n",
              " 'egg roll': 3015,\n",
              " 'roll wrapper': 7320,\n",
              " 'sweet sour': 8782,\n",
              " 'sour sauce': 8232,\n",
              " 'sauce corn': 7505,\n",
              " 'oil oil': 5710,\n",
              " 'oil soy': 5783,\n",
              " 'sauce shredded': 7611,\n",
              " 'shredded cabbage': 8027,\n",
              " 'cabbage garlic': 1224,\n",
              " 'garlic onion': 3711,\n",
              " 'ground pork': 4040,\n",
              " 'pork carrot': 6709,\n",
              " 'breakfast': 837,\n",
              " 'large': 4588,\n",
              " 'flour tortilla': 3420,\n",
              " 'tortilla cheese': 9165,\n",
              " 'breakfast sausage': 838,\n",
              " 'sausage large': 7667,\n",
              " 'large egg': 4589,\n",
              " 'boiling': 757,\n",
              " 'boiling water': 760,\n",
              " 'water butter': 9496,\n",
              " 'butter fresh': 1100,\n",
              " 'cheese sea': 1639,\n",
              " 'andouille': 77,\n",
              " 'cajun': 1246,\n",
              " 'celery': 1447,\n",
              " 'broth chicken': 937,\n",
              " 'breast hot': 875,\n",
              " 'hot sauce': 4225,\n",
              " 'sauce red': 7594,\n",
              " 'bell potato': 538,\n",
              " 'potato bacon': 6755,\n",
              " 'bacon garlic': 195,\n",
              " 'clove fresh': 2193,\n",
              " 'fresh parsley': 3525,\n",
              " 'andouille sausage': 78,\n",
              " 'sausage cajun': 7651,\n",
              " 'cajun seasoning': 1247,\n",
              " 'peanut oil': 6484,\n",
              " 'oil celery': 5582,\n",
              " 'celery ground': 1462,\n",
              " 'ground red': 4041,\n",
              " 'red allpurpose': 7078,\n",
              " 'flour shrimp': 3409,\n",
              " 'shrimp onion': 8078,\n",
              " 'powder crushed': 6856,\n",
              " 'flake garlic': 3251,\n",
              " 'powder sea': 6927,\n",
              " 'sea ground': 7749,\n",
              " 'onion powder': 6034,\n",
              " 'oregano ground': 6143,\n",
              " 'black paprika': 686,\n",
              " 'turnip': 9281,\n",
              " 'palm': 6193,\n",
              " 'wedge': 9647,\n",
              " 'papaya': 6212,\n",
              " 'tamarind': 8823,\n",
              " 'chinese': 1894,\n",
              " 'egg shallot': 3024,\n",
              " 'palm sugar': 6195,\n",
              " 'sugar vegetable': 8744,\n",
              " 'clove sliced': 2251,\n",
              " 'chicken fish': 1701,\n",
              " 'lime wedge': 4893,\n",
              " 'peanut green': 6480,\n",
              " 'green papaya': 3981,\n",
              " 'chile powder': 1798,\n",
              " 'tamarind paste': 8826,\n",
              " 'chinese chive': 1898,\n",
              " 'diced': 2789,\n",
              " 'oil onion': 5713,\n",
              " 'onion crushed': 5934,\n",
              " 'crushed garlic': 2637,\n",
              " 'garlic dried': 3660,\n",
              " 'oregano green': 6142,\n",
              " 'onion white': 6092,\n",
              " 'white sugar': 9730,\n",
              " 'sugar dried': 8629,\n",
              " 'dried basil': 2850,\n",
              " 'basil diced': 258,\n",
              " 'diced tomato': 2795,\n",
              " 'johnsonville': 4307,\n",
              " 'dinner': 2813,\n",
              " 'mix': 5279,\n",
              " 'worcestershire': 9840,\n",
              " 'creole': 2594,\n",
              " 'oil diced': 5619,\n",
              " 'rice mix': 7235,\n",
              " 'worcestershire sauce': 9841,\n",
              " 'sauce hot': 7541,\n",
              " 'sauce creole': 7509,\n",
              " 'creole seasoning': 2596,\n",
              " 'bread': 805,\n",
              " 'great': 3946,\n",
              " 'northern': 5482,\n",
              " 'sage': 7393,\n",
              " 'oil bread': 5566,\n",
              " 'bread slice': 828,\n",
              " 'great northern': 3947,\n",
              " 'northern bean': 5483,\n",
              " 'bean garlic': 345,\n",
              " 'sage leaf': 7396,\n",
              " 'fivespice': 3233,\n",
              " 'star': 8401,\n",
              " 'anise': 83,\n",
              " 'broth cooking': 945,\n",
              " 'oil chinese': 5590,\n",
              " 'chinese fivespice': 1901,\n",
              " 'fivespice powder': 3234,\n",
              " 'black sugar': 718,\n",
              " 'sugar crushed': 8622,\n",
              " 'garlic chicken': 3633,\n",
              " 'chicken thigh': 1734,\n",
              " 'thigh soy': 8896,\n",
              " 'sauce star': 7623,\n",
              " 'star anise': 8402,\n",
              " 'blackeyed': 735,\n",
              " 'pea': 6427,\n",
              " 'chip': 1908,\n",
              " 'onion cream': 5932,\n",
              " 'cream cheese': 2506,\n",
              " 'cheese shredded': 1641,\n",
              " 'shredded cheddar': 8029,\n",
              " 'cheese cayenne': 1529,\n",
              " 'cayenne chili': 1409,\n",
              " 'powder garlic': 6874,\n",
              " 'blackeyed pea': 736,\n",
              " 'tortilla chip': 9168,\n",
              " 'collard': 2326,\n",
              " 'ham': 4118,\n",
              " 'hock': 4174,\n",
              " 'apple': 96,\n",
              " 'cider': 2001,\n",
              " 'freshly': 3547,\n",
              " 'rib': 7162,\n",
              " 'collard green': 2327,\n",
              " 'green extravirgin': 3969,\n",
              " 'oil ham': 5660,\n",
              " 'ham hock': 4125,\n",
              " 'chicken stock': 1731,\n",
              " 'apple cider': 98,\n",
              " 'freshly ground': 3549,\n",
              " 'powder bay': 6823,\n",
              " 'light brown': 4838,\n",
              " 'brown sugar': 1014,\n",
              " 'sugar large': 8663,\n",
              " 'large garlic': 4592,\n",
              " 'clove cayenne': 2154,\n",
              " 'deli': 2778,\n",
              " 'smoked': 8155,\n",
              " 'hoagie': 4172,\n",
              " 'salami': 7412,\n",
              " 'giardiniera': 3776,\n",
              " 'mozzarella': 5310,\n",
              " 'pepperoni': 6586,\n",
              " 'smoked ham': 8158,\n",
              " 'hoagie roll': 4173,\n",
              " 'mozzarella cheese': 5311,\n",
              " 'cheese pepperoni': 1615,\n",
              " 'butter italian': 1115,\n",
              " 'ice': 4235,\n",
              " 'cube': 2654,\n",
              " 'club': 2270,\n",
              " 'soda': 8170,\n",
              " 'rum': 7376,\n",
              " 'turbinado': 9244,\n",
              " 'ice cube': 4237,\n",
              " 'club soda': 2271,\n",
              " 'soda white': 8187,\n",
              " 'white rum': 9725,\n",
              " 'enchilada': 3063,\n",
              " 'picante': 6600,\n",
              " 'canned': 1272,\n",
              " 'enchilada sauce': 3064,\n",
              " 'picante sauce': 6601,\n",
              " 'sauce green': 7537,\n",
              " 'green corn': 3965,\n",
              " 'canned black': 1274,\n",
              " 'black bean': 598,\n",
              " 'bean shredded': 373,\n",
              " 'shredded lettuce': 8036,\n",
              " 'lettuce sour': 4830,\n",
              " 'sour cream': 8231,\n",
              " 'cream shredded': 2565,\n",
              " 'cheese garlic': 1571,\n",
              " 'clove canola': 2151,\n",
              " 'salmon': 7415,\n",
              " 'serrano': 7917,\n",
              " 'salmon fillet': 7416,\n",
              " 'shallot cumin': 7937,\n",
              " 'cumin seed': 2726,\n",
              " 'seed fresh': 7856,\n",
              " 'cilantro curry': 2023,\n",
              " 'curry powder': 2748,\n",
              " 'powder vegetable': 6947,\n",
              " 'oil serrano': 5769,\n",
              " 'serrano chile': 7918,\n",
              " 'chile fresh': 1782,\n",
              " 'ginger sauce': 3851,\n",
              " 'half': 4087,\n",
              " 'tomato chicken': 9019,\n",
              " 'breast half': 873,\n",
              " 'half chopped': 4092,\n",
              " 'fresh white': 3546,\n",
              " 'vinegar jalapeno': 9418,\n",
              " 'chilies black': 1834,\n",
              " 'black vegetable': 725,\n",
              " 'oil avocado': 5545,\n",
              " 'lettuce leaf': 4822,\n",
              " 'leaf chopped': 4627,\n",
              " 'chopped onion': 1976,\n",
              " 'mandarin': 4976,\n",
              " 'liqueur': 4903,\n",
              " 'cake': 1248,\n",
              " 'frosting': 3557,\n",
              " 'mandarin orange': 4977,\n",
              " 'water orange': 9586,\n",
              " 'orange liqueur': 6109,\n",
              " 'yellow cake': 9881,\n",
              " 'cake mix': 1250,\n",
              " 'oil white': 5815,\n",
              " 'fennel': 3160,\n",
              " 'bulb': 1026,\n",
              " 'grapefruit': 3922,\n",
              " 'fennel bulb': 3161,\n",
              " 'water lemon': 9565,\n",
              " 'lemon olive': 4774,\n",
              " 'grapefruit juice': 3923,\n",
              " 'cornmeal': 2454,\n",
              " 'dripping': 2886,\n",
              " 'buttermilk': 1186,\n",
              " 'sugar allpurpose': 8571,\n",
              " 'flour vegetable': 3425,\n",
              " 'white cornmeal': 9701,\n",
              " 'cornmeal baking': 2455,\n",
              " 'powder onion': 6908,\n",
              " 'onion bacon': 5875,\n",
              " 'bacon dripping': 192,\n",
              " 'crab': 2479,\n",
              " 'boil': 753,\n",
              " 'old': 5829,\n",
              " 'crawfish': 2491,\n",
              " 'crab boil': 2480,\n",
              " 'old bay': 5830,\n",
              " 'bay seasoning': 311,\n",
              " 'seasoning cream': 7784,\n",
              " 'mayonaise white': 5059,\n",
              " 'sugar ground': 8652,\n",
              " 'black white': 728,\n",
              " 'vinegar lemon': 9422,\n",
              " 'sirloin': 8106,\n",
              " 'mirin': 5262,\n",
              " 'glass': 3872,\n",
              " 'sake': 7399,\n",
              " 'shiitake': 7992,\n",
              " 'napa': 5409,\n",
              " 'onion low': 5996,\n",
              " 'sauce water': 7637,\n",
              " 'water corn': 9518,\n",
              " 'corn oil': 2433,\n",
              " 'sugar green': 8651,\n",
              " 'glass noodle': 3873,\n",
              " 'sake shiitake': 7406,\n",
              " 'napa cabbage': 5410,\n",
              " 'whipping': 9680,\n",
              " 'quickcooking': 7017,\n",
              " 'grit': 3996,\n",
              " 'monterey': 5302,\n",
              " 'jack': 4275,\n",
              " 'egg whipping': 3041,\n",
              " 'whipping cream': 9681,\n",
              " 'cream chicken': 2507,\n",
              " 'broth ground': 965,\n",
              " 'extra sharp': 3086,\n",
              " 'cheese quickcooking': 1627,\n",
              " 'quickcooking grit': 7018,\n",
              " 'sauce ground': 7538,\n",
              " 'black worcestershire': 730,\n",
              " 'monterey jack': 5303,\n",
              " 'mussel': 5373,\n",
              " 'finely': 3214,\n",
              " 'basil bay': 247,\n",
              " 'leaf crushed': 4638,\n",
              " 'mussel olive': 5376,\n",
              " 'oil basil': 5552,\n",
              " 'clove black': 2144,\n",
              " 'black dry': 634,\n",
              " 'dry white': 2901,\n",
              " 'white wine': 9739,\n",
              " 'wine tomato': 9824,\n",
              " 'tomato finely': 9051,\n",
              " 'finely chopped': 3215,\n",
              " 'onion linguine': 5993,\n",
              " 'linguine flat': 4898,\n",
              " 'honey': 4182,\n",
              " 'unsalted': 9295,\n",
              " 'egg allpurpose': 2922,\n",
              " 'flour baking': 3309,\n",
              " 'baking soda': 224,\n",
              " 'soda buttermilk': 8174,\n",
              " 'oil yellow': 5819,\n",
              " 'meal unsalted': 5069,\n",
              " 'unsalted butter': 9296,\n",
              " 'pesto': 6592,\n",
              " 'crumb': 2607,\n",
              " 'beef': 405,\n",
              " 'cold': 2321,\n",
              " 'allspice': 27,\n",
              " 'bread crumb': 811,\n",
              " 'crumb unsalted': 2623,\n",
              " 'butter onion': 1130,\n",
              " 'powder curry': 6859,\n",
              " 'sodium beef': 8190,\n",
              " 'beef broth': 412,\n",
              " 'sauce curry': 7513,\n",
              " 'leaf garlic': 4657,\n",
              " 'garlic cayenne': 3631,\n",
              " 'cold water': 2323,\n",
              " 'water large': 9561,\n",
              " 'egg extravirgin': 2965,\n",
              " 'vinegar kosher': 9420,\n",
              " 'kosher fresh': 4527,\n",
              " 'fresh thyme': 3539,\n",
              " 'thyme worcestershire': 8955,\n",
              " 'sauce allpurpose': 7461,\n",
              " 'ground beef': 4004,\n",
              " 'melted': 5097,\n",
              " 'matcha': 5038,\n",
              " 'tea': 8853,\n",
              " 'melted butter': 5098,\n",
              " 'matcha green': 5039,\n",
              " 'green tea': 3988,\n",
              " 'tea powder': 8856,\n",
              " 'powder white': 6949,\n",
              " 'sugar milk': 8674,\n",
              " 'milk allpurpose': 5123,\n",
              " 'flour egg': 3348,\n",
              " 'powder chopped': 6843,\n",
              " 'chopped walnut': 1981,\n",
              " 'coarse': 2272,\n",
              " 'fenugreek': 3163,\n",
              " 'urad': 9308,\n",
              " 'dal': 2758,\n",
              " 'urad dal': 9309,\n",
              " 'potato white': 6813,\n",
              " 'white rice': 9724,\n",
              " 'rice vegetable': 7265,\n",
              " 'pizza': 6665,\n",
              " 'crust': 2642,\n",
              " 'partskim': 6328,\n",
              " 'pizza crust': 6666,\n",
              " 'tomato pesto': 9103,\n",
              " 'partskim mozzarella': 6329,\n",
              " 'yukon': 9956,\n",
              " 'gold': 3886,\n",
              " 'leek': 4737,\n",
              " 'spray black': 8313,\n",
              " 'yukon gold': 9957,\n",
              " 'gold potato': 3887,\n",
              " 'lowfat sour': 4948,\n",
              " 'oil lowfat': 5691,\n",
              " 'lowfat milk': 4944,\n",
              " 'sugar chicken': 8601,\n",
              " 'thigh cooking': 8885,\n",
              " 'oil fish': 5637,\n",
              " 'sauce garlic': 7533,\n",
              " 'garlic black': 3619,\n",
              " 'lemongrass': 4790,\n",
              " 'unsweetened': 9302,\n",
              " 'coconut': 2291,\n",
              " 'sparerib': 8259,\n",
              " 'tamari': 8821,\n",
              " 'golden': 3889,\n",
              " 'clove rice': 2243,\n",
              " 'unsweetened coconut': 9306,\n",
              " 'coconut milk': 2301,\n",
              " 'milk fresh': 5167,\n",
              " 'ginger peanut': 3843,\n",
              " 'peanut sauce': 6487,\n",
              " 'oil tamari': 5796,\n",
              " 'tamari soy': 8822,\n",
              " 'golden brown': 3890,\n",
              " 'sugar dry': 8630,\n",
              " 'dry sherry': 2899,\n",
              " 'leg': 4746,\n",
              " 'ghee': 3772,\n",
              " 'turmeric': 9259,\n",
              " 'chicken leg': 1711,\n",
              " 'ghee tomato': 3774,\n",
              " 'tomato paste': 9100,\n",
              " 'paste fresh': 6384,\n",
              " 'root garlic': 7330,\n",
              " 'fresh water': 3545,\n",
              " 'onion tomato': 6079,\n",
              " 'masala cumin': 5015,\n",
              " 'seed ground': 7864,\n",
              " 'ground turmeric': 4052,\n",
              " 'cracked': 2483,\n",
              " 'minced': 5238,\n",
              " 'chilli': 1891,\n",
              " 'stock curry': 8506,\n",
              " 'powder cracked': 6854,\n",
              " 'cracked black': 2484,\n",
              " 'black minced': 677,\n",
              " 'minced beef': 5239,\n",
              " 'beef onion': 437,\n",
              " 'onion plain': 6029,\n",
              " 'flour bread': 3316,\n",
              " 'crumb butter': 2608,\n",
              " 'butter garlic': 1103,\n",
              " 'garlic celery': 3632,\n",
              " 'dried thyme': 2885,\n",
              " 'ginger oil': 3836,\n",
              " 'oil tomato': 5802,\n",
              " 'tomato water': 9140,\n",
              " 'water paprika': 9588,\n",
              " 'rosemary': 7344,\n",
              " 'pappardelle': 6214,\n",
              " 'crushed tomato': 2641,\n",
              " 'garlic fresh': 3671,\n",
              " 'fresh rosemary': 3531,\n",
              " 'rosemary ground': 7353,\n",
              " 'black onion': 682,\n",
              " 'onion olive': 6014,\n",
              " 'oil boneless': 5564,\n",
              " 'boneless pork': 774,\n",
              " 'eggplant': 3047,\n",
              " 'basil red': 285,\n",
              " 'paste eggplant': 6380,\n",
              " 'eggplant red': 3055,\n",
              " 'bell vegetable': 555,\n",
              " 'jasmine': 4296,\n",
              " 'gochujang': 3884,\n",
              " 'base': 244,\n",
              " 'top': 9152,\n",
              " 'round': 7368,\n",
              " 'bok': 761,\n",
              " 'choy': 1987,\n",
              " 'jasmine rice': 4297,\n",
              " 'rice garlic': 7220,\n",
              " 'garlic scallion': 3734,\n",
              " 'scallion sugar': 7722,\n",
              " 'sugar shiitake': 8723,\n",
              " 'gochujang base': 3885,\n",
              " 'top round': 9153,\n",
              " 'round steak': 7369,\n",
              " 'steak sesame': 8456,\n",
              " 'seed rice': 7883,\n",
              " 'rice vinegar': 7267,\n",
              " 'vinegar carrot': 9380,\n",
              " 'carrot soy': 1370,\n",
              " 'sauce sesame': 7606,\n",
              " 'bok choy': 762,\n",
              " 'yolk': 9930,\n",
              " 'vanilla milk': 9322,\n",
              " 'milk large': 5185,\n",
              " 'egg yolk': 3045,\n",
              " 'yolk sugar': 9947,\n",
              " 'sugar corn': 8619,\n",
              " 'concentrate': 2332,\n",
              " 'pumpkin': 6990,\n",
              " 'purée': 7004,\n",
              " 'marshmallow': 5002,\n",
              " 'creme': 2591,\n",
              " 'toasted': 8963,\n",
              " 'pecan': 6498,\n",
              " ...}"
            ]
          },
          "metadata": {},
          "execution_count": 215
        }
      ]
    },
    {
      "cell_type": "code",
      "metadata": {
        "colab": {
          "base_uri": "https://localhost:8080/"
        },
        "id": "RIhSk9dwwmEc",
        "outputId": "774b90ee-d2db-4f13-dcf4-fa8098c13b05"
      },
      "source": [
        "## Chi squarred correlation embeddings reduction\n",
        "labels = dataset_cuisine_ingredients[\"cuisine\"]\n",
        "labels"
      ],
      "execution_count": null,
      "outputs": [
        {
          "output_type": "execute_result",
          "data": {
            "text/plain": [
              "0              greek\n",
              "1        southern_us\n",
              "2           filipino\n",
              "3             indian\n",
              "4             indian\n",
              "            ...     \n",
              "39769          irish\n",
              "39770        italian\n",
              "39771          irish\n",
              "39772        chinese\n",
              "39773        mexican\n",
              "Name: cuisine, Length: 39774, dtype: object"
            ]
          },
          "metadata": {},
          "execution_count": 216
        }
      ]
    },
    {
      "cell_type": "code",
      "metadata": {
        "colab": {
          "base_uri": "https://localhost:8080/"
        },
        "id": "aY8txKI_wqcq",
        "outputId": "06917ac3-1ddd-44df-bc11-89f920fe2d6b"
      },
      "source": [
        "names = vectorizer.get_feature_names()\n",
        "names[0:5]"
      ],
      "execution_count": null,
      "outputs": [
        {
          "output_type": "stream",
          "name": "stderr",
          "text": [
            "/usr/local/lib/python3.7/dist-packages/sklearn/utils/deprecation.py:87: FutureWarning: Function get_feature_names is deprecated; get_feature_names is deprecated in 1.0 and will be removed in 1.2. Please use get_feature_names_out instead.\n",
            "  warnings.warn(msg, category=FutureWarning)\n"
          ]
        },
        {
          "output_type": "execute_result",
          "data": {
            "text/plain": [
              "['achiote', 'achiote paste', 'acorn', 'acorn squash', 'active']"
            ]
          },
          "metadata": {},
          "execution_count": 217
        }
      ]
    },
    {
      "cell_type": "code",
      "metadata": {
        "id": "GXmyUWFmw6HV"
      },
      "source": [
        "    p_value_limit = 0.95\n",
        "    dtf_features = pd.DataFrame()"
      ],
      "execution_count": null,
      "outputs": []
    },
    {
      "cell_type": "code",
      "metadata": {
        "id": "X55qp51BxEiD"
      },
      "source": [
        "for cat in np.unique(labels):\n",
        "        chi2, p = feature_selection.chi2(embedded_ingredients, labels==cat)\n",
        "        dtf_features = dtf_features.append(pd.DataFrame(\n",
        "                       {\"feature\":names, \"score\":1-p, \"labels\":cat}))\n",
        "        dtf_features = dtf_features.sort_values([\"labels\",\"score\"], \n",
        "                        ascending=[True,False])\n",
        "        dtf_features = dtf_features[dtf_features[\"score\"]>p_value_limit]"
      ],
      "execution_count": null,
      "outputs": []
    },
    {
      "cell_type": "code",
      "metadata": {
        "colab": {
          "base_uri": "https://localhost:8080/",
          "height": 206
        },
        "id": "TlySvdBexy0F",
        "outputId": "d3ac9231-e265-425f-cfbc-9a23c505593b"
      },
      "source": [
        "dtf_features.head()"
      ],
      "execution_count": null,
      "outputs": [
        {
          "output_type": "execute_result",
          "data": {
            "text/html": [
              "<div>\n",
              "<style scoped>\n",
              "    .dataframe tbody tr th:only-of-type {\n",
              "        vertical-align: middle;\n",
              "    }\n",
              "\n",
              "    .dataframe tbody tr th {\n",
              "        vertical-align: top;\n",
              "    }\n",
              "\n",
              "    .dataframe thead th {\n",
              "        text-align: right;\n",
              "    }\n",
              "</style>\n",
              "<table border=\"1\" class=\"dataframe\">\n",
              "  <thead>\n",
              "    <tr style=\"text-align: right;\">\n",
              "      <th></th>\n",
              "      <th>feature</th>\n",
              "      <th>score</th>\n",
              "      <th>labels</th>\n",
              "    </tr>\n",
              "  </thead>\n",
              "  <tbody>\n",
              "    <tr>\n",
              "      <th>54</th>\n",
              "      <td>almond milk</td>\n",
              "      <td>1.0</td>\n",
              "      <td>brazilian</td>\n",
              "    </tr>\n",
              "    <tr>\n",
              "      <th>170</th>\n",
              "      <td>açai</td>\n",
              "      <td>1.0</td>\n",
              "      <td>brazilian</td>\n",
              "    </tr>\n",
              "    <tr>\n",
              "      <th>1069</th>\n",
              "      <td>butter chocolate</td>\n",
              "      <td>1.0</td>\n",
              "      <td>brazilian</td>\n",
              "    </tr>\n",
              "    <tr>\n",
              "      <th>1242</th>\n",
              "      <td>cachaca</td>\n",
              "      <td>1.0</td>\n",
              "      <td>brazilian</td>\n",
              "    </tr>\n",
              "    <tr>\n",
              "      <th>1243</th>\n",
              "      <td>cachaca lime</td>\n",
              "      <td>1.0</td>\n",
              "      <td>brazilian</td>\n",
              "    </tr>\n",
              "  </tbody>\n",
              "</table>\n",
              "</div>"
            ],
            "text/plain": [
              "               feature  score     labels\n",
              "54         almond milk    1.0  brazilian\n",
              "170               açai    1.0  brazilian\n",
              "1069  butter chocolate    1.0  brazilian\n",
              "1242           cachaca    1.0  brazilian\n",
              "1243      cachaca lime    1.0  brazilian"
            ]
          },
          "metadata": {},
          "execution_count": 220
        }
      ]
    },
    {
      "cell_type": "code",
      "metadata": {
        "id": "-KWR6gG_x-QZ"
      },
      "source": [
        "  names = dtf_features[\"feature\"].unique().tolist()"
      ],
      "execution_count": null,
      "outputs": []
    },
    {
      "cell_type": "code",
      "metadata": {
        "colab": {
          "base_uri": "https://localhost:8080/"
        },
        "id": "9peQoszRyB9a",
        "outputId": "cfd61490-bb8a-4364-f81b-f9320b0cca0c"
      },
      "source": [
        "names[0:5]"
      ],
      "execution_count": null,
      "outputs": [
        {
          "output_type": "execute_result",
          "data": {
            "text/plain": [
              "['almond milk', 'açai', 'butter chocolate', 'cachaca', 'cachaca lime']"
            ]
          },
          "metadata": {},
          "execution_count": 222
        }
      ]
    },
    {
      "cell_type": "code",
      "metadata": {
        "colab": {
          "base_uri": "https://localhost:8080/"
        },
        "id": "GkopTo9IyJzb",
        "outputId": "9195c812-a329-4e73-f9b1-225213456ad9"
      },
      "source": [
        "    ## Check the main ingredients\n",
        "    for cat in np.unique(labels):\n",
        "        print(\"# {}:\".format(cat))\n",
        "        print(\"  . selected features:\",len(dtf_features[dtf_features[\"labels\"]==cat]))\n",
        "        print(\"  . top features:\", \",\".join(dtf_features[dtf_features[\"labels\"]==cat][\"feature\"].values[:10]))\n",
        "    "
      ],
      "execution_count": null,
      "outputs": [
        {
          "output_type": "stream",
          "name": "stdout",
          "text": [
            "# brazilian:\n",
            "  . selected features: 242\n",
            "  . top features: almond milk,açai,butter chocolate,cachaca,cachaca lime,chocolate sprinkle,coconut,condensed,condensed milk,crushed ice\n",
            "# british:\n",
            "  . selected features: 510\n",
            "  . top features: beef dripping,currant,double,double cream,dripping,flour beef,golden syrup,haddock,haddock fillet,jam\n",
            "# cajun_creole:\n",
            "  . selected features: 767\n",
            "  . top features: andouille,andouille sausage,bay,bay leaf,bell,bell bay,bell cajun,bell creole,broth cajun,butter creole\n",
            "# chinese:\n",
            "  . selected features: 1286\n",
            "  . top features: bamboo,bamboo shoot,bean paste,bean sauce,black vinegar,bok,bok choy,broccoli,broccoli floret,chestnut\n",
            "# filipino:\n",
            "  . selected features: 437\n",
            "  . top features: annatto,belly,belly garlic,calamansi,calamansi juice,coconut,cooking oil,glutinous,glutinous rice,jackfruit\n",
            "# french:\n",
            "  . selected features: 952\n",
            "  . top features: butter,calvados,chocolate,cognac,crème,crème fraîche,de provence,dijon,dijon mustard,duck\n",
            "# greek:\n",
            "  . selected features: 471\n",
            "  . top features: bell feta,black feta,bread round,cheese crumbles,crumbles,crumbles fresh,crumbles olive,cucumber,cucumber cherry,cucumber feta\n",
            "# indian:\n",
            "  . selected features: 1251\n",
            "  . top features: amchur,asafetida,asafoetida,asafoetida powder,basmati,basmati rice,black mustard,brown mustard,cardamom,cardamom pod\n",
            "# irish:\n",
            "  . selected features: 386\n",
            "  . top features: bailey,bailey irish,baking,baking soda,beef brisket,beer,brisket,butter potato,buttermilk,buttermilk whole\n",
            "# italian:\n",
            "  . selected features: 1943\n",
            "  . top features: anchovy,arborio,arborio rice,artichoke,arugula,balsamic,balsamic vinegar,basil,basil leaf,bread\n",
            "# jamaican:\n",
            "  . selected features: 342\n",
            "  . top features: allspice,allspice black,allspice chicken,allspice dried,allspice sugar,allspice water,bonnet,bonnet chile,cinnamon lime,codfish\n",
            "# japanese:\n",
            "  . selected features: 574\n",
            "  . top features: bonito,bonito flake,carrot sake,daikon,dashi,dashi kombu,dashi powder,dried bonito,edamame,egg dashi\n",
            "# korean:\n",
            "  . selected features: 596\n",
            "  . top features: asian,asian pear,base,beef rib,chile flake,daikon,egg carrot,egg sesame,eye steak,fishcake\n",
            "# mexican:\n",
            "  . selected features: 1909\n",
            "  . top features: adobo,adobo sauce,ancho,ancho chile,avocado,avocado lime,bean,bean chili,black bean,blend\n",
            "# moroccan:\n",
            "  . selected features: 568\n",
            "  . top features: apricot,apricot garlic,apricot half,carrot ground,chickpea,chickpea ground,chickpea onion,cinnamon,cinnamon lemon,cinnamon olive\n",
            "# russian:\n",
            "  . selected features: 322\n",
            "  . top features: beet,beet onion,buckwheat,buckwheat flour,caraway,caraway seed,caviar,dill,dill onion,egg flour\n",
            "# southern_us:\n",
            "  . selected features: 1207\n",
            "  . top features: allpurpose,allpurpose flour,bacon,bacon dripping,baking,baking powder,baking soda,biscuit,blackeyed,blackeyed pea\n",
            "# spanish:\n",
            "  . selected features: 408\n",
            "  . top features: chorizo,chorizo onion,chorizo sausage,extravirgin,extravirgin olive,manchego,manchego cheese,potato olive,saffron,saffron thread\n",
            "# thai:\n",
            "  . selected features: 866\n",
            "  . top features: asian,asian fish,beansprouts,chili sauce,chunky peanut,cilantro,cilantro root,coconut,coconut milk,creamy\n",
            "# vietnamese:\n",
            "  . selected features: 599\n",
            "  . top features: asian,asian fish,basil rice,bawang,bawang goreng,bean sprout,beansprouts,bird,bird chile,carrot fish\n"
          ]
        }
      ]
    },
    {
      "cell_type": "code",
      "metadata": {
        "id": "pl6d5Ay9yozi"
      },
      "source": [
        "    ## New embeddings\n",
        "    vectorizer = feature_extraction.text.TfidfVectorizer(vocabulary=names)\n",
        "    vectorizer.fit(corpus)\n",
        "    embedded_ingredients = vectorizer.transform(corpus)\n",
        "    dic_vocabulary = vectorizer.vocabulary_\n"
      ],
      "execution_count": null,
      "outputs": []
    },
    {
      "cell_type": "code",
      "metadata": {
        "colab": {
          "base_uri": "https://localhost:8080/"
        },
        "id": "D8lFzzS2yroi",
        "outputId": "c1b2aab7-a3f3-4614-d082-121bd0082526"
      },
      "source": [
        "dic_vocabulary"
      ],
      "execution_count": null,
      "outputs": [
        {
          "output_type": "execute_result",
          "data": {
            "text/plain": [
              "{'almond milk': 0,\n",
              " 'açai': 1,\n",
              " 'butter chocolate': 2,\n",
              " 'cachaca': 3,\n",
              " 'cachaca lime': 4,\n",
              " 'chocolate sprinkle': 5,\n",
              " 'coconut': 6,\n",
              " 'condensed': 7,\n",
              " 'condensed milk': 8,\n",
              " 'crushed ice': 9,\n",
              " 'dried black': 10,\n",
              " 'frozen banana': 11,\n",
              " 'granola': 12,\n",
              " 'heart palm': 13,\n",
              " 'ice': 14,\n",
              " 'ice lime': 15,\n",
              " 'lime cachaca': 16,\n",
              " 'lime ice': 17,\n",
              " 'lime sugar': 18,\n",
              " 'manioc': 19,\n",
              " 'manioc flour': 20,\n",
              " 'palm oil': 21,\n",
              " 'passion': 22,\n",
              " 'passion fruit': 23,\n",
              " 'powder sweetened': 24,\n",
              " 'sprinkle': 25,\n",
              " 'sugar cachaca': 26,\n",
              " 'sugar ice': 27,\n",
              " 'sugar sweetened': 28,\n",
              " 'superfine': 29,\n",
              " 'superfine sugar': 30,\n",
              " 'sweetened': 31,\n",
              " 'sweetened condensed': 32,\n",
              " 'tapioca': 33,\n",
              " 'tapioca flour': 34,\n",
              " 'water sweetened': 35,\n",
              " 'egg grating': 36,\n",
              " 'simple': 37,\n",
              " 'simple syrup': 38,\n",
              " 'frozen strawberry': 39,\n",
              " 'orange slice': 40,\n",
              " 'fruit': 41,\n",
              " 'coconut sweetened': 42,\n",
              " 'shredded coconut': 43,\n",
              " 'milk': 44,\n",
              " 'tapioca starch': 45,\n",
              " 'palm': 46,\n",
              " 'ice cube': 47,\n",
              " 'banana': 48,\n",
              " 'lime': 49,\n",
              " 'stock coconut': 50,\n",
              " 'coconut milk': 51,\n",
              " 'bell coconut': 52,\n",
              " 'ice sugar': 53,\n",
              " 'sugar lime': 54,\n",
              " 'bean bacon': 55,\n",
              " 'juice unsweetened': 56,\n",
              " 'milk lime': 57,\n",
              " 'cube': 58,\n",
              " 'lime crushed': 59,\n",
              " 'puree': 60,\n",
              " 'mixed berry': 61,\n",
              " 'butter sweetened': 62,\n",
              " 'water lime': 63,\n",
              " 'cheese milk': 64,\n",
              " 'onion unsweetened': 65,\n",
              " 'cocoa': 66,\n",
              " 'dried shrimp': 67,\n",
              " 'unsweetened almond': 68,\n",
              " 'cassava': 69,\n",
              " 'kiwi fruit': 70,\n",
              " 'cocoa powder': 71,\n",
              " 'milk tomato': 72,\n",
              " 'starch milk': 73,\n",
              " 'black bean': 74,\n",
              " 'frozen blueberry': 75,\n",
              " 'berry': 76,\n",
              " 'milk sugar': 77,\n",
              " 'onion chorizo': 78,\n",
              " 'unsweetened': 79,\n",
              " 'tongue': 80,\n",
              " 'butter cocoa': 81,\n",
              " 'coconut water': 82,\n",
              " 'lime oil': 83,\n",
              " 'bean bay': 84,\n",
              " 'collard green': 85,\n",
              " 'fish stock': 86,\n",
              " 'fish fillet': 87,\n",
              " 'strawberry': 88,\n",
              " 'chocolate': 89,\n",
              " 'milk olive': 90,\n",
              " 'garlic medium': 91,\n",
              " 'tomato coconut': 92,\n",
              " 'egg parmesan': 93,\n",
              " 'tomato shrimp': 94,\n",
              " 'bacon yellow': 95,\n",
              " 'butter coconut': 96,\n",
              " 'coconut cream': 97,\n",
              " 'collard': 98,\n",
              " 'oil parmesan': 99,\n",
              " 'milk egg': 100,\n",
              " 'kosher flank': 101,\n",
              " 'powder coconut': 102,\n",
              " 'bell cooking': 103,\n",
              " 'leaf coconut': 104,\n",
              " 'kumquat': 105,\n",
              " 'grating': 106,\n",
              " 'grating cheese': 107,\n",
              " 'fillet cayenne': 108,\n",
              " 'milk frozen': 109,\n",
              " 'egg sweetened': 110,\n",
              " 'water cold': 111,\n",
              " 'egg cheese': 112,\n",
              " 'unsweetened coconut': 113,\n",
              " 'vanilla essence': 114,\n",
              " 'rice onion': 115,\n",
              " 'sea coconut': 116,\n",
              " 'flake lemon': 117,\n",
              " 'rib black': 118,\n",
              " 'vodka': 119,\n",
              " 'juice cumin': 120,\n",
              " 'milk milk': 121,\n",
              " 'cilantro coconut': 122,\n",
              " 'honey vanilla': 123,\n",
              " 'flour lime': 124,\n",
              " 'wine bay': 125,\n",
              " 'tangerine': 126,\n",
              " 'kiwi': 127,\n",
              " 'coconut flake': 128,\n",
              " 'milk margarine': 129,\n",
              " 'parsley bay': 130,\n",
              " 'beef tongue': 131,\n",
              " 'frozen mixed': 132,\n",
              " 'sugar crushed': 133,\n",
              " 'pure': 134,\n",
              " 'tomato cilantro': 135,\n",
              " 'ham hock': 136,\n",
              " 'blueberry': 137,\n",
              " 'cilantro orange': 138,\n",
              " 'sauce': 139,\n",
              " 'sausage black': 140,\n",
              " 'juice bell': 141,\n",
              " 'tomato orange': 142,\n",
              " 'pig': 143,\n",
              " 'hock': 144,\n",
              " 'oil bacon': 145,\n",
              " 'dry coconut': 146,\n",
              " 'turbinado': 147,\n",
              " 'cilantro garlic': 148,\n",
              " 'sugar coconut': 149,\n",
              " 'nectar': 150,\n",
              " 'agave nectar': 151,\n",
              " 'water bell': 152,\n",
              " 'stock onion': 153,\n",
              " 'bean red': 154,\n",
              " 'raw': 155,\n",
              " 'stoneground': 156,\n",
              " 'stoneground cornmeal': 157,\n",
              " 'agave': 158,\n",
              " 'almond butter': 159,\n",
              " 'raisin carrot': 160,\n",
              " 'green garlic': 161,\n",
              " 'water margarine': 162,\n",
              " 'chile green': 163,\n",
              " 'milk sweetened': 164,\n",
              " 'blackberry': 165,\n",
              " 'sea bass': 166,\n",
              " 'shrimp fresh': 167,\n",
              " 'medjool': 168,\n",
              " 'medjool date': 169,\n",
              " 'tomato peanut': 170,\n",
              " 'shortening flour': 171,\n",
              " 'milk banana': 172,\n",
              " 'lager beer': 173,\n",
              " 'orange': 174,\n",
              " 'tomato olive': 175,\n",
              " 'cinnamon egg': 176,\n",
              " 'soy': 177,\n",
              " 'soy sauce': 178,\n",
              " 'light coconut': 179,\n",
              " 'garlic coconut': 180,\n",
              " 'juice frozen': 181,\n",
              " 'vinegar hot': 182,\n",
              " 'granulated sugar': 183,\n",
              " 'table cream': 184,\n",
              " 'cilantro onion': 185,\n",
              " 'stock jalapeno': 186,\n",
              " 'sausage chicken': 187,\n",
              " 'rib short': 188,\n",
              " 'water jalapeno': 189,\n",
              " 'turkey kielbasa': 190,\n",
              " 'lime wedge': 191,\n",
              " 'granulated': 192,\n",
              " 'milk ground': 193,\n",
              " 'bay leaf': 194,\n",
              " 'onion light': 195,\n",
              " 'sunflower seed': 196,\n",
              " 'table': 197,\n",
              " 'beer onion': 198,\n",
              " 'butter unsweetened': 199,\n",
              " 'bay': 200,\n",
              " 'milk butter': 201,\n",
              " 'pea chopped': 202,\n",
              " 'raspberry': 203,\n",
              " 'water hot': 204,\n",
              " 'broth cilantro': 205,\n",
              " 'oil chile': 206,\n",
              " 'oil coconut': 207,\n",
              " 'milk unsalted': 208,\n",
              " 'green grape': 209,\n",
              " 'mayonaise red': 210,\n",
              " 'sesame': 211,\n",
              " 'beef deli': 212,\n",
              " 'short': 213,\n",
              " 'shredded dried': 214,\n",
              " 'unsweetened shredded': 215,\n",
              " 'chorizo sausage': 216,\n",
              " 'lime vegetable': 217,\n",
              " 'seed avocado': 218,\n",
              " 'unsweetened cocoa': 219,\n",
              " 'lime fresh': 220,\n",
              " 'coconut flour': 221,\n",
              " 'juice crushed': 222,\n",
              " 'flour grated': 223,\n",
              " 'tomato serrano': 224,\n",
              " 'cilantro diced': 225,\n",
              " 'heart': 226,\n",
              " 'cilantro fish': 227,\n",
              " 'cream lime': 228,\n",
              " 'milk chocolate': 229,\n",
              " 'kielbasa': 230,\n",
              " 'light rum': 231,\n",
              " 'smoked ham': 232,\n",
              " 'olive chopped': 233,\n",
              " 'basil': 234,\n",
              " 'leaf cooked': 235,\n",
              " 'coconut butter': 236,\n",
              " 'beef rib': 237,\n",
              " 'egg kosher': 238,\n",
              " 'rib olive': 239,\n",
              " 'key': 240,\n",
              " 'key lime': 241,\n",
              " 'beef dripping': 242,\n",
              " 'currant': 243,\n",
              " 'double': 244,\n",
              " 'double cream': 245,\n",
              " 'dripping': 246,\n",
              " 'flour beef': 247,\n",
              " 'golden syrup': 248,\n",
              " 'haddock': 249,\n",
              " 'haddock fillet': 250,\n",
              " 'jam': 251,\n",
              " 'malt vinegar': 252,\n",
              " 'marmite': 253,\n",
              " 'mincemeat': 254,\n",
              " 'mixed spice': 255,\n",
              " 'pastry': 256,\n",
              " 'plain flour': 257,\n",
              " 'puff': 258,\n",
              " 'raspberry jam': 259,\n",
              " 'sponge cake': 260,\n",
              " 'stilton': 261,\n",
              " 'stilton cheese': 262,\n",
              " 'suet': 263,\n",
              " 'treacle': 264,\n",
              " 'dried currant': 265,\n",
              " 'puff pastry': 266,\n",
              " 'meringue': 267,\n",
              " 'malt': 268,\n",
              " 'flour milk': 269,\n",
              " 'milk beef': 270,\n",
              " 'sponge': 271,\n",
              " 'flour': 272,\n",
              " 'caster': 273,\n",
              " 'caster sugar': 274,\n",
              " 'bicarbonate soda': 275,\n",
              " 'rib roast': 276,\n",
              " 'baking': 277,\n",
              " 'bicarbonate': 278,\n",
              " 'frozen pastry': 279,\n",
              " 'pastry puff': 280,\n",
              " 'puff sheet': 281,\n",
              " 'oat': 282,\n",
              " 'date': 283,\n",
              " 'rising': 284,\n",
              " 'toffee': 285,\n",
              " 'self': 286,\n",
              " 'golden': 287,\n",
              " 'rising flour': 288,\n",
              " 'self rising': 289,\n",
              " 'butter': 290,\n",
              " 'rolled': 291,\n",
              " 'rolled oat': 292,\n",
              " 'heavy cream': 293,\n",
              " 'egg milk': 294,\n",
              " 'unsalted butter': 295,\n",
              " 'heavy': 296,\n",
              " 'egg': 297,\n",
              " 'pitted date': 298,\n",
              " 'beef gravy': 299,\n",
              " 'sultana': 300,\n",
              " 'unsalted': 301,\n",
              " 'cream strawberry': 302,\n",
              " 'sheet': 303,\n",
              " 'beer': 304,\n",
              " 'egg self': 305,\n",
              " 'english toffee': 306,\n",
              " 'beef tenderloin': 307,\n",
              " 'range egg': 308,\n",
              " 'baking powder': 309,\n",
              " 'allpurpose flour': 310,\n",
              " 'allpurpose': 311,\n",
              " 'free range': 312,\n",
              " 'range': 313,\n",
              " 'ale': 314,\n",
              " 'sausage milk': 315,\n",
              " 'milk flour': 316,\n",
              " 'muscovado': 317,\n",
              " 'muscovado sugar': 318,\n",
              " 'cod': 319,\n",
              " 'butter milk': 320,\n",
              " 'brandy': 321,\n",
              " 'soda': 322,\n",
              " 'custard': 323,\n",
              " 'egg plain': 324,\n",
              " 'medium egg': 325,\n",
              " 'flour sausage': 326,\n",
              " 'raisin': 327,\n",
              " 'flour heavy': 328,\n",
              " 'cream': 329,\n",
              " 'peel sugar': 330,\n",
              " 'whipping cream': 331,\n",
              " 'beef stock': 332,\n",
              " 'whipping': 333,\n",
              " 'sugar baking': 334,\n",
              " 'mixed': 335,\n",
              " 'baking soda': 336,\n",
              " 'cayenne dry': 337,\n",
              " 'soda milk': 338,\n",
              " 'milk worcestershire': 339,\n",
              " 'english mustard': 340,\n",
              " 'butter worcestershire': 341,\n",
              " 'sugar strawberry': 342,\n",
              " 'raisin bread': 343,\n",
              " 'pastry dough': 344,\n",
              " 'white flour': 345,\n",
              " 'lager': 346,\n",
              " 'cream sherry': 347,\n",
              " 'mustard beef': 348,\n",
              " 'kosher allpurpose': 349,\n",
              " 'tartar': 350,\n",
              " 'beef': 351,\n",
              " 'stout': 352,\n",
              " 'cream confectioner': 353,\n",
              " 'worcestershire': 354,\n",
              " 'worcestershire sauce': 355,\n",
              " 'water beef': 356,\n",
              " 'gravy': 357,\n",
              " 'raspberry preserve': 358,\n",
              " 'mixed dried': 359,\n",
              " 'doubleacting': 360,\n",
              " 'doubleacting baking': 361,\n",
              " 'russet potato': 362,\n",
              " 'powder beer': 363,\n",
              " 'cream tartar': 364,\n",
              " 'currant jelly': 365,\n",
              " 'mustard powder': 366,\n",
              " 'potato': 367,\n",
              " 'mashed': 368,\n",
              " 'black frozen': 369,\n",
              " 'sugar heavy': 370,\n",
              " 'milk raisin': 371,\n",
              " 'nutmeg': 372,\n",
              " 'flour yeast': 373,\n",
              " 'russet': 374,\n",
              " 'sugar': 375,\n",
              " 'demerara': 376,\n",
              " 'demerara sugar': 377,\n",
              " 'strong': 378,\n",
              " 'strong white': 379,\n",
              " 'port': 380,\n",
              " 'vanilla': 381,\n",
              " 'dry mustard': 382,\n",
              " 'rutabaga': 383,\n",
              " 'candied': 384,\n",
              " 'madeira': 385,\n",
              " 'apricot jam': 386,\n",
              " 'ginger allpurpose': 387,\n",
              " 'butter onion': 388,\n",
              " 'fresh raspberry': 389,\n",
              " 'yolk baking': 390,\n",
              " 'rhubarb': 391,\n",
              " 'flour butter': 392,\n",
              " 'white bread': 393,\n",
              " 'chicken': 394,\n",
              " 'whole milk': 395,\n",
              " 'egg allpurpose': 396,\n",
              " 'garlic': 397,\n",
              " 'sugar unsalted': 398,\n",
              " 'potato butter': 399,\n",
              " 'cake': 400,\n",
              " 'crystallized': 401,\n",
              " 'crystallized ginger': 402,\n",
              " 'butter allpurpose': 403,\n",
              " 'sugar self': 404,\n",
              " 'mashed potato': 405,\n",
              " 'port wine': 406,\n",
              " 'red currant': 407,\n",
              " 'pork sausage': 408,\n",
              " 'dried fruit': 409,\n",
              " 'split pea': 410,\n",
              " 'lard': 411,\n",
              " 'powder dark': 412,\n",
              " 'milk cornmeal': 413,\n",
              " 'sugar dark': 414,\n",
              " 'butter raisin': 415,\n",
              " 'egg butter': 416,\n",
              " 'sugar milk': 417,\n",
              " 'sugar golden': 418,\n",
              " 'potato beer': 419,\n",
              " 'yeast milk': 420,\n",
              " 'black beef': 421,\n",
              " 'citron': 422,\n",
              " 'egg yolk': 423,\n",
              " 'milk strawberry': 424,\n",
              " 'soda raisin': 425,\n",
              " 'green': 426,\n",
              " 'yolk': 427,\n",
              " 'flour egg': 428,\n",
              " 'essence': 429,\n",
              " 'yeast': 430,\n",
              " 'soda baking': 431,\n",
              " 'crumb lemon': 432,\n",
              " 'tomato': 433,\n",
              " 'syrup': 434,\n",
              " 'egg beef': 435,\n",
              " 'cracker crumb': 436,\n",
              " 'brussels': 437,\n",
              " 'brussels sprout': 438,\n",
              " 'golden brown': 439,\n",
              " 'powdered sugar': 440,\n",
              " 'cilantro': 441,\n",
              " 'yeast white': 442,\n",
              " 'whipped cream': 443,\n",
              " 'sugar raisin': 444,\n",
              " 'flour cream': 445,\n",
              " 'fresh blueberry': 446,\n",
              " 'roast beef': 447,\n",
              " 'cream white': 448,\n",
              " 'powdered': 449,\n",
              " 'dark brown': 450,\n",
              " 'instant yeast': 451,\n",
              " 'sugar confectioner': 452,\n",
              " 'cod fillet': 453,\n",
              " 'shortening': 454,\n",
              " 'flour orange': 455,\n",
              " 'mushroom frozen': 456,\n",
              " 'milk golden': 457,\n",
              " 'butter whipping': 458,\n",
              " 'cream vanilla': 459,\n",
              " 'pure maple': 460,\n",
              " 'peel': 461,\n",
              " 'olive': 462,\n",
              " 'butter beef': 463,\n",
              " 'half unsalted': 464,\n",
              " 'sweet vermouth': 465,\n",
              " 'egg flour': 466,\n",
              " 'ground sage': 467,\n",
              " 'butter golden': 468,\n",
              " 'flour potato': 469,\n",
              " 'cranberry': 470,\n",
              " 'milk potato': 471,\n",
              " 'chestnut mushroom': 472,\n",
              " 'flour shortening': 473,\n",
              " 'currant baking': 474,\n",
              " 'sugar shortening': 475,\n",
              " 'onion milk': 476,\n",
              " 'tawny': 477,\n",
              " 'tawny port': 478,\n",
              " 'butter egg': 479,\n",
              " 'plain': 480,\n",
              " 'extract': 481,\n",
              " 'powder milk': 482,\n",
              " 'red': 483,\n",
              " 'milk allpurpose': 484,\n",
              " 'golden raisin': 485,\n",
              " 'flour cold': 486,\n",
              " 'butter orange': 487,\n",
              " 'butter heavy': 488,\n",
              " 'graham cracker': 489,\n",
              " 'toffee bit': 490,\n",
              " 'sausage egg': 491,\n",
              " 'bell': 492,\n",
              " 'oatmeal': 493,\n",
              " 'cheese chive': 494,\n",
              " 'mustard': 495,\n",
              " 'graham': 496,\n",
              " 'dusting': 497,\n",
              " 'flour dusting': 498,\n",
              " 'parsley beef': 499,\n",
              " 'oil': 500,\n",
              " 'olive oil': 501,\n",
              " 'egg baking': 502,\n",
              " 'yeast sugar': 503,\n",
              " 'ginger unsalted': 504,\n",
              " 'powder unsalted': 505,\n",
              " 'water butter': 506,\n",
              " 'sugar whole': 507,\n",
              " 'whipped': 508,\n",
              " 'softened': 509,\n",
              " 'softened butter': 510,\n",
              " 'ruby port': 511,\n",
              " 'rosemary butter': 512,\n",
              " 'dark molasses': 513,\n",
              " 'cream orange': 514,\n",
              " 'flour worcestershire': 515,\n",
              " 'butter bread': 516,\n",
              " 'raisin allpurpose': 517,\n",
              " 'chili': 518,\n",
              " 'bread flour': 519,\n",
              " 'garlic clove': 520,\n",
              " 'fig': 521,\n",
              " 'cumin': 522,\n",
              " 'water worcestershire': 523,\n",
              " 'large egg': 524,\n",
              " 'scotch': 525,\n",
              " 'egg dark': 526,\n",
              " 'flour baking': 527,\n",
              " 'quickcooking oat': 528,\n",
              " 'soda vanilla': 529,\n",
              " 'liver': 530,\n",
              " 'confectioner': 531,\n",
              " 'confectioner sugar': 532,\n",
              " 'parsnip': 533,\n",
              " 'flour frozen': 534,\n",
              " 'rice': 535,\n",
              " 'white heavy': 536,\n",
              " 'flour whole': 537,\n",
              " 'cooky': 538,\n",
              " 'marnier': 539,\n",
              " 'sunflower oil': 540,\n",
              " 'pie': 541,\n",
              " 'pudding': 542,\n",
              " 'cream dark': 543,\n",
              " 'apple pie': 544,\n",
              " 'ground nutmeg': 545,\n",
              " 'large free': 546,\n",
              " 'water baking': 547,\n",
              " 'cream heavy': 548,\n",
              " 'raisin sugar': 549,\n",
              " 'cream coffee': 550,\n",
              " 'sugar bread': 551,\n",
              " 'onion cheddar': 552,\n",
              " 'split': 553,\n",
              " 'flour brown': 554,\n",
              " 'extra sharp': 555,\n",
              " 'walnut': 556,\n",
              " 'chile': 557,\n",
              " 'sugar almond': 558,\n",
              " 'potato onion': 559,\n",
              " 'fresh': 560,\n",
              " 'toast': 561,\n",
              " 'brown sugar': 562,\n",
              " 'savoy cabbage': 563,\n",
              " 'tortilla': 564,\n",
              " 'mustard large': 565,\n",
              " 'cream powdered': 566,\n",
              " 'green onion': 567,\n",
              " 'breast': 568,\n",
              " 'chicken breast': 569,\n",
              " 'savoy': 570,\n",
              " 'chilies': 571,\n",
              " 'molasses': 572,\n",
              " 'onion beef': 573,\n",
              " 'stock cube': 574,\n",
              " 'grand': 575,\n",
              " 'grand marnier': 576,\n",
              " 'butter baking': 577,\n",
              " 'sugar sour': 578,\n",
              " 'clove': 579,\n",
              " 'cream light': 580,\n",
              " 'mustard butter': 581,\n",
              " 'bread milk': 582,\n",
              " 'egg potato': 583,\n",
              " 'flour large': 584,\n",
              " 'chopped cilantro': 585,\n",
              " 'nutmeg egg': 586,\n",
              " 'butter carrot': 587,\n",
              " 'tartar milk': 588,\n",
              " 'farm': 589,\n",
              " 'light molasses': 590,\n",
              " 'vanilla extract': 591,\n",
              " 'ground almond': 592,\n",
              " 'foie': 593,\n",
              " 'foie gras': 594,\n",
              " 'gras': 595,\n",
              " 'milk whipping': 596,\n",
              " 'dough large': 597,\n",
              " 'lemon milk': 598,\n",
              " 'chopped walnut': 599,\n",
              " 'bean': 600,\n",
              " 'potato allpurpose': 601,\n",
              " 'sunflower': 602,\n",
              " 'potato shredded': 603,\n",
              " 'lemon peel': 604,\n",
              " 'sharp white': 605,\n",
              " 'filet mignon': 606,\n",
              " 'mignon': 607,\n",
              " 'mustard worcestershire': 608,\n",
              " 'powder extra': 609,\n",
              " 'whole': 610,\n",
              " 'milk kosher': 611,\n",
              " 'boneless': 612,\n",
              " 'flour vegetable': 613,\n",
              " 'chicken broth': 614,\n",
              " 'cinnamon ground': 615,\n",
              " 'button': 616,\n",
              " 'button mushroom': 617,\n",
              " 'chili powder': 618,\n",
              " 'angostura': 619,\n",
              " 'angostura bitter': 620,\n",
              " 'whole allspice': 621,\n",
              " 'jello gelatin': 622,\n",
              " 'crust pie': 623,\n",
              " 'lime juice': 624,\n",
              " 'white sugar': 625,\n",
              " 'sugar whipping': 626,\n",
              " 'light brown': 627,\n",
              " 'margarine': 628,\n",
              " 'fillet lemon': 629,\n",
              " 'cream sugar': 630,\n",
              " 'rump roast': 631,\n",
              " 'bread': 632,\n",
              " 'sesame oil': 633,\n",
              " 'butter whole': 634,\n",
              " 'cream cream': 635,\n",
              " 'extract lemon': 636,\n",
              " 'sugar brandy': 637,\n",
              " 'egg heavy': 638,\n",
              " 'pea water': 639,\n",
              " 'ground cumin': 640,\n",
              " 'parmesan': 641,\n",
              " 'cream granulated': 642,\n",
              " 'potato extravirgin': 643,\n",
              " 'nutmeg large': 644,\n",
              " 'flour mustard': 645,\n",
              " 'butter frozen': 646,\n",
              " 'cake flour': 647,\n",
              " 'flour ground': 648,\n",
              " 'mushroom beef': 649,\n",
              " 'oregano': 650,\n",
              " 'powder light': 651,\n",
              " 'shrimp': 652,\n",
              " 'diced': 653,\n",
              " 'parmesan cheese': 654,\n",
              " 'nutmeg butter': 655,\n",
              " 'pan': 656,\n",
              " 'pan dripping': 657,\n",
              " 'tumeric ginger': 658,\n",
              " 'jalapeno': 659,\n",
              " 'cilantro fresh': 660,\n",
              " 'oil beer': 661,\n",
              " 'seed': 662,\n",
              " 'jalapeno chilies': 663,\n",
              " 'fresh ginger': 664,\n",
              " 'red bell': 665,\n",
              " 'pastry shell': 666,\n",
              " 'fresh cranberry': 667,\n",
              " 'cheese': 668,\n",
              " 'brown': 669,\n",
              " 'fresh basil': 670,\n",
              " 'parsley smoked': 671,\n",
              " 'tenderloin steak': 672,\n",
              " 'sugar egg': 673,\n",
              " 'powder vanilla': 674,\n",
              " 'allspice': 675,\n",
              " 'chopped': 676,\n",
              " 'milk whole': 677,\n",
              " 'black kosher': 678,\n",
              " 'skinless': 679,\n",
              " 'sugar cake': 680,\n",
              " 'freerange': 681,\n",
              " 'scallion': 682,\n",
              " 'diced tomato': 683,\n",
              " 'ruby': 684,\n",
              " 'white lemon': 685,\n",
              " 'mozzarella': 686,\n",
              " 'water active': 687,\n",
              " 'flour nutmeg': 688,\n",
              " 'vegetable shortening': 689,\n",
              " 'dark rum': 690,\n",
              " 'baking potato': 691,\n",
              " 'fish sauce': 692,\n",
              " 'crème fraîche': 693,\n",
              " 'fraîche': 694,\n",
              " 'apple butter': 695,\n",
              " 'thyme heavy': 696,\n",
              " 'sugar cream': 697,\n",
              " 'tart': 698,\n",
              " 'skinless chicken': 699,\n",
              " 'peel water': 700,\n",
              " 'peanut': 701,\n",
              " 'oil milk': 702,\n",
              " 'butter sea': 703,\n",
              " 'extract unsalted': 704,\n",
              " 'tartar sauce': 705,\n",
              " 'butter plain': 706,\n",
              " 'salsa': 707,\n",
              " 'stock butter': 708,\n",
              " 'syrup vanilla': 709,\n",
              " 'sauce beer': 710,\n",
              " 'cheese lean': 711,\n",
              " 'flour unsalted': 712,\n",
              " 'beef broth': 713,\n",
              " 'sugar mint': 714,\n",
              " 'avocado': 715,\n",
              " 'turmeric cauliflower': 716,\n",
              " 'kosher beef': 717,\n",
              " 'boneless skinless': 718,\n",
              " 'pasta': 719,\n",
              " 'soda allpurpose': 720,\n",
              " 'butter curry': 721,\n",
              " 'cinnamon allpurpose': 722,\n",
              " 'oldfashioned': 723,\n",
              " 'dried cranberry': 724,\n",
              " 'grated parmesan': 725,\n",
              " 'potato beef': 726,\n",
              " 'butter confectioner': 727,\n",
              " 'egg sea': 728,\n",
              " 'onion': 729,\n",
              " 'shredded': 730,\n",
              " 'sauce baking': 731,\n",
              " 'andouille': 732,\n",
              " 'andouille sausage': 733,\n",
              " 'bell bay': 734,\n",
              " 'bell cajun': 735,\n",
              " 'bell creole': 736,\n",
              " 'broth cajun': 737,\n",
              " 'butter creole': 738,\n",
              " 'cajun': 739,\n",
              " 'cajun seasoning': 740,\n",
              " 'cayenne': 741,\n",
              " 'celery': 742,\n",
              " 'celery green': 743,\n",
              " 'celery rib': 744,\n",
              " 'chopped celery': 745,\n",
              " 'cooked rice': 746,\n",
              " 'crab': 747,\n",
              " 'crawfish': 748,\n",
              " 'creole': 749,\n",
              " 'creole mustard': 750,\n",
              " 'creole seasoning': 751,\n",
              " 'dried thyme': 752,\n",
              " 'file': 753,\n",
              " 'file powder': 754,\n",
              " 'garlic okra': 755,\n",
              " 'green bell': 756,\n",
              " 'hot sauce': 757,\n",
              " 'longgrain': 758,\n",
              " 'longgrain rice': 759,\n",
              " 'oil cajun': 760,\n",
              " 'okra': 761,\n",
              " 'okra onion': 762,\n",
              " 'onion andouille': 763,\n",
              " 'oregano andouille': 764,\n",
              " 'red bean': 765,\n",
              " 'red kidney': 766,\n",
              " 'rib': 767,\n",
              " 'rice andouille': 768,\n",
              " 'sauce creole': 769,\n",
              " 'sausage': 770,\n",
              " 'sausage green': 771,\n",
              " 'seasoning': 772,\n",
              " 'seasoning celery': 773,\n",
              " 'seasoning onion': 774,\n",
              " 'smoked': 775,\n",
              " 'smoked sausage': 776,\n",
              " 'tabasco': 777,\n",
              " 'tabasco sauce': 778,\n",
              " 'thyme': 779,\n",
              " 'thyme paprika': 780,\n",
              " 'water cajun': 781,\n",
              " 'catfish': 782,\n",
              " 'chopped green': 783,\n",
              " 'shrimp andouille': 784,\n",
              " 'seasoning okra': 785,\n",
              " 'johnsonville': 786,\n",
              " 'rice celery': 787,\n",
              " 'cayenne dried': 788,\n",
              " 'sausage garlic': 789,\n",
              " 'louisiana': 790,\n",
              " 'celery andouille': 791,\n",
              " 'sausage butter': 792,\n",
              " 'sausage cajun': 793,\n",
              " 'hot': 794,\n",
              " 'shrimp stock': 795,\n",
              " 'thyme cayenne': 796,\n",
              " 'bell worcestershire': 797,\n",
              " 'boil': 798,\n",
              " 'crab boil': 799,\n",
              " 'rib green': 800,\n",
              " 'paprika': 801,\n",
              " 'gumbo file': 802,\n",
              " 'oil creole': 803,\n",
              " 'louisiana hot': 804,\n",
              " 'mirlitons': 805,\n",
              " 'crawfish butter': 806,\n",
              " 'ground red': 807,\n",
              " 'seasoning shrimp': 808,\n",
              " 'white rice': 809,\n",
              " 'sausage onion': 810,\n",
              " 'seasoning hot': 811,\n",
              " 'onion celery': 812,\n",
              " 'gumbo': 813,\n",
              " 'sauce cajun': 814,\n",
              " 'seasoning garlic': 815,\n",
              " 'onion creole': 816,\n",
              " 'seasoning fresh': 817,\n",
              " 'catfish fillet': 818,\n",
              " 'long grain': 819,\n",
              " 'sausage chopped': 820,\n",
              " 'seasoning smoked': 821,\n",
              " 'medium shrimp': 822,\n",
              " 'grain': 823,\n",
              " 'seasoning yellow': 824,\n",
              " 'tasso': 825,\n",
              " 'kidney bean': 826,\n",
              " 'cooked': 827,\n",
              " 'sausage vegetable': 828,\n",
              " 'kidney': 829,\n",
              " 'tomato creole': 830,\n",
              " 'garlic celery': 831,\n",
              " 'lump': 832,\n",
              " 'lump crab': 833,\n",
              " 'garlic cajun': 834,\n",
              " 'rice cayenne': 835,\n",
              " 'long': 836,\n",
              " 'large shrimp': 837,\n",
              " 'onion crawfish': 838,\n",
              " 'black creole': 839,\n",
              " 'sausage bay': 840,\n",
              " 'sausage cooked': 841,\n",
              " 'leaf creole': 842,\n",
              " 'celery chicken': 843,\n",
              " 'bell vegetable': 844,\n",
              " 'sausage celery': 845,\n",
              " 'roux': 846,\n",
              " 'cayenne celery': 847,\n",
              " 'bell cayenne': 848,\n",
              " 'onion cajun': 849,\n",
              " 'seasoning red': 850,\n",
              " 'seasoning bay': 851,\n",
              " 'okra celery': 852,\n",
              " 'rice dried': 853,\n",
              " 'bell smoked': 854,\n",
              " 'celery chopped': 855,\n",
              " 'dried': 856,\n",
              " 'onion powder': 857,\n",
              " 'shrimp tomato': 858,\n",
              " 'frozen okra': 859,\n",
              " 'powder dried': 860,\n",
              " 'garlic creole': 861,\n",
              " 'seasoning chopped': 862,\n",
              " 'grain white': 863,\n",
              " 'green celery': 864,\n",
              " 'tomato cajun': 865,\n",
              " 'medium': 866,\n",
              " 'bell butter': 867,\n",
              " 'seasoning allpurpose': 868,\n",
              " 'sauce celery': 869,\n",
              " 'cayenne medium': 870,\n",
              " 'leaf andouille': 871,\n",
              " 'water smoked': 872,\n",
              " 'crab meat': 873,\n",
              " 'sausage ground': 874,\n",
              " 'sausage boneless': 875,\n",
              " 'diced celery': 876,\n",
              " 'sauce okra': 877,\n",
              " 'cayenne onion': 878,\n",
              " 'flour okra': 879,\n",
              " 'seasoning large': 880,\n",
              " 'black bay': 881,\n",
              " 'grain brown': 882,\n",
              " 'seasoning butter': 883,\n",
              " 'onion green': 884,\n",
              " 'broth bay': 885,\n",
              " 'butter cayenne': 886,\n",
              " 'powder cayenne': 887,\n",
              " 'sauce shrimp': 888,\n",
              " 'prepared horseradish': 889,\n",
              " 'cayenne long': 890,\n",
              " 'onion worcestershire': 891,\n",
              " 'bell dried': 892,\n",
              " 'leav thyme': 893,\n",
              " 'shrimp butter': 894,\n",
              " 'rice smoked': 895,\n",
              " 'celery shrimp': 896,\n",
              " 'old bay': 897,\n",
              " 'cayenne shrimp': 898,\n",
              " 'thyme onion': 899,\n",
              " 'dri leav': 900,\n",
              " 'bell chopped': 901,\n",
              " 'seasoning lemon': 902,\n",
              " 'chicken sausage': 903,\n",
              " 'tomato celery': 904,\n",
              " 'black cayenne': 905,\n",
              " 'flour celery': 906,\n",
              " 'tomato okra': 907,\n",
              " 'garlic powder': 908,\n",
              " 'thyme bay': 909,\n",
              " 'bell celery': 910,\n",
              " 'thyme oregano': 911,\n",
              " 'oil okra': 912,\n",
              " 'bay seasoning': 913,\n",
              " 'leaf okra': 914,\n",
              " 'bell green': 915,\n",
              " 'flour shrimp': 916,\n",
              " 'fresh parsley': 917,\n",
              " 'thyme worcestershire': 918,\n",
              " 'shrimp dried': 919,\n",
              " 'sauce thyme': 920,\n",
              " 'cayenne diced': 921,\n",
              " 'horseradish': 922,\n",
              " 'onion cooked': 923,\n",
              " 'cooked white': 924,\n",
              " 'thyme butter': 925,\n",
              " 'shrimp chicken': 926,\n",
              " 'broth cayenne': 927,\n",
              " 'seasoning boneless': 928,\n",
              " 'paprika dried': 929,\n",
              " 'rib water': 930,\n",
              " 'paprika green': 931,\n",
              " 'seasoning dried': 932,\n",
              " 'celery boneless': 933,\n",
              " 'rib dried': 934,\n",
              " 'rice green': 935,\n",
              " 'rib vegetable': 936,\n",
              " 'french bread': 937,\n",
              " 'brown rice': 938,\n",
              " 'cooked ham': 939,\n",
              " 'red shrimp': 940,\n",
              " 'shrimp celery': 941,\n",
              " 'leaf cayenne': 942,\n",
              " 'seafood': 943,\n",
              " 'oil powdered': 944,\n",
              " 'stewed': 945,\n",
              " 'stewed tomato': 946,\n",
              " 'devein': 947,\n",
              " 'peel devein': 948,\n",
              " 'shrimp peel': 949,\n",
              " 'uncook medium': 950,\n",
              " 'shucked': 951,\n",
              " 'shucked oyster': 952,\n",
              " 'celery onion': 953,\n",
              " 'shrimp green': 954,\n",
              " 'thyme green': 955,\n",
              " 'ham': 956,\n",
              " 'tomato longgrain': 957,\n",
              " 'paprika onion': 958,\n",
              " 'seafood seasoning': 959,\n",
              " 'leaf allpurpose': 960,\n",
              " 'onion cayenne': 961,\n",
              " 'bell allpurpose': 962,\n",
              " 'crabmeat': 963,\n",
              " 'oil celery': 964,\n",
              " 'onion smoked': 965,\n",
              " 'sauce cayenne': 966,\n",
              " 'sugar evaporated': 967,\n",
              " 'ginger': 968,\n",
              " 'wild rice': 969,\n",
              " 'parsley celery': 970,\n",
              " 'parsley': 971,\n",
              " 'thyme diced': 972,\n",
              " 'bell diced': 973,\n",
              " 'mortadella': 974,\n",
              " 'onion bell': 975,\n",
              " 'leaf celery': 976,\n",
              " 'prepared': 977,\n",
              " 'tomato smoked': 978,\n",
              " 'oregano green': 979,\n",
              " 'sausage diced': 980,\n",
              " 'sauce hot': 981,\n",
              " 'sauce bay': 982,\n",
              " 'sauce smoked': 983,\n",
              " 'oregano celery': 984,\n",
              " 'celery dried': 985,\n",
              " 'meat allpurpose': 986,\n",
              " 'onion linguine': 987,\n",
              " 'powder worcestershire': 988,\n",
              " 'powder paprika': 989,\n",
              " 'smoked turkey': 990,\n",
              " 'jumbo shrimp': 991,\n",
              " 'rice chopped': 992,\n",
              " 'celery cooked': 993,\n",
              " 'black worcestershire': 994,\n",
              " 'ground cayenne': 995,\n",
              " 'black paprika': 996,\n",
              " 'bell chicken': 997,\n",
              " 'onion longgrain': 998,\n",
              " 'sausage olive': 999,\n",
              " ...}"
            ]
          },
          "metadata": {},
          "execution_count": 225
        }
      ]
    },
    {
      "cell_type": "markdown",
      "metadata": {
        "id": "EFPv4_tBzL4J"
      },
      "source": [
        "##Recipe Main Dataset Feature Engineering"
      ]
    },
    {
      "cell_type": "code",
      "metadata": {
        "id": "6EpzSXm3nrhU"
      },
      "source": [
        " # list of stopwords\n",
        "stop_word_list = nltk.corpus.stopwords.words(\"english\")\n",
        "\n",
        "# Extend list of stop words\n",
        "stop_word_list.extend(additional_stop_words)\n",
        "\n",
        "data[\"ingredients_query\"] = data[\"ingredients\"].apply(lambda x: preprocess_text(x, flg_stemm=False, flg_lemm=True, lst_stopwords=stop_word_list))"
      ],
      "execution_count": null,
      "outputs": []
    },
    {
      "cell_type": "code",
      "metadata": {
        "colab": {
          "base_uri": "https://localhost:8080/",
          "height": 206
        },
        "id": "Zw74jWWvza7R",
        "outputId": "16658d91-910c-4c67-e599-c557e9730ac1"
      },
      "source": [
        "data.head()"
      ],
      "execution_count": null,
      "outputs": [
        {
          "output_type": "execute_result",
          "data": {
            "text/html": [
              "<div>\n",
              "<style scoped>\n",
              "    .dataframe tbody tr th:only-of-type {\n",
              "        vertical-align: middle;\n",
              "    }\n",
              "\n",
              "    .dataframe tbody tr th {\n",
              "        vertical-align: top;\n",
              "    }\n",
              "\n",
              "    .dataframe thead th {\n",
              "        text-align: right;\n",
              "    }\n",
              "</style>\n",
              "<table border=\"1\" class=\"dataframe\">\n",
              "  <thead>\n",
              "    <tr style=\"text-align: right;\">\n",
              "      <th></th>\n",
              "      <th>title</th>\n",
              "      <th>ingredients</th>\n",
              "      <th>instructions</th>\n",
              "      <th>ingredients_query</th>\n",
              "    </tr>\n",
              "  </thead>\n",
              "  <tbody>\n",
              "    <tr>\n",
              "      <th>0</th>\n",
              "      <td>Slow Cooker Chicken and Dumplings</td>\n",
              "      <td>[4 skinless, boneless chicken breast halves AD...</td>\n",
              "      <td>Place the chicken, butter, soup, and onion in ...</td>\n",
              "      <td>skinless boneless chicken breast half butter ...</td>\n",
              "    </tr>\n",
              "    <tr>\n",
              "      <th>1</th>\n",
              "      <td>Awesome Slow Cooker Pot Roast</td>\n",
              "      <td>[2 (10.75 ounce) cans condensed cream of mushr...</td>\n",
              "      <td>In a slow cooker, mix cream of mushroom soup, ...</td>\n",
              "      <td>can condensed cream mushroom soup package dry...</td>\n",
              "    </tr>\n",
              "    <tr>\n",
              "      <th>2</th>\n",
              "      <td>Brown Sugar Meatloaf</td>\n",
              "      <td>[1/2 cup packed brown sugar ADVERTISEMENT, 1/2...</td>\n",
              "      <td>Preheat oven to 350 degrees F (175 degrees C)....</td>\n",
              "      <td>packed brown sugar ketchup lean ground beef m...</td>\n",
              "    </tr>\n",
              "    <tr>\n",
              "      <th>3</th>\n",
              "      <td>Best Chocolate Chip Cookies</td>\n",
              "      <td>[1 cup butter, softened ADVERTISEMENT, 1 cup w...</td>\n",
              "      <td>Preheat oven to 350 degrees F (175 degrees C)....</td>\n",
              "      <td>butter softened white sugar packed brown suga...</td>\n",
              "    </tr>\n",
              "    <tr>\n",
              "      <th>4</th>\n",
              "      <td>Homemade Mac and Cheese Casserole</td>\n",
              "      <td>[8 ounces whole wheat rotini pasta ADVERTISEME...</td>\n",
              "      <td>Preheat oven to 350 degrees F. Line a 2-quart ...</td>\n",
              "      <td>whole wheat rotini pasta fresh broccoli flore...</td>\n",
              "    </tr>\n",
              "  </tbody>\n",
              "</table>\n",
              "</div>"
            ],
            "text/plain": [
              "                               title  ...                                  ingredients_query\n",
              "0  Slow Cooker Chicken and Dumplings  ...   skinless boneless chicken breast half butter ...\n",
              "1      Awesome Slow Cooker Pot Roast  ...   can condensed cream mushroom soup package dry...\n",
              "2               Brown Sugar Meatloaf  ...   packed brown sugar ketchup lean ground beef m...\n",
              "3        Best Chocolate Chip Cookies  ...   butter softened white sugar packed brown suga...\n",
              "4  Homemade Mac and Cheese Casserole  ...   whole wheat rotini pasta fresh broccoli flore...\n",
              "\n",
              "[5 rows x 4 columns]"
            ]
          },
          "metadata": {},
          "execution_count": 227
        }
      ]
    },
    {
      "cell_type": "markdown",
      "metadata": {
        "id": "CwKsxRqQ8Dco"
      },
      "source": [
        "#Modelling"
      ]
    },
    {
      "cell_type": "code",
      "metadata": {
        "id": "Jv0_iy1dn1v7"
      },
      "source": [
        "from sklearn.linear_model import LogisticRegressionCV\n",
        "from sklearn import metrics\n",
        "from sklearn import utils\n",
        "from gensim.models.doc2vec import Doc2Vec, TaggedDocument\n",
        "import pickle\n",
        "import os"
      ],
      "execution_count": null,
      "outputs": []
    },
    {
      "cell_type": "code",
      "metadata": {
        "id": "QrntCzBu5GN5"
      },
      "source": [
        "MODEL_PATH = \"models/nlp\"\n",
        "MODEL_EMBEDDINGS_PATH = os.path.join(MODEL_PATH, 'similarity_embeddings')\n",
        "CUISINE_CLASSES = ['brazilian','british','cajun_creole','chinese','filipino','french','greek','indian','irish','italian','jamaican','japanese','korean','mexican','moroccan','russian','southern_us','spanish','thai','vietnamese']\n",
        "os.makedirs(MODEL_PATH, exist_ok=True)\n",
        "os.makedirs(MODEL_EMBEDDINGS_PATH, exist_ok=True)"
      ],
      "execution_count": null,
      "outputs": []
    },
    {
      "cell_type": "code",
      "metadata": {
        "id": "6gARnB60z5OA"
      },
      "source": [
        "df_cuisine_ingredients = dataset_cuisine_ingredients"
      ],
      "execution_count": null,
      "outputs": []
    },
    {
      "cell_type": "code",
      "metadata": {
        "colab": {
          "base_uri": "https://localhost:8080/",
          "height": 206
        },
        "id": "itBgTMXI7M-5",
        "outputId": "ec4074e1-71ae-4a53-a707-2432946af789"
      },
      "source": [
        "df_cuisine_ingredients.head()"
      ],
      "execution_count": null,
      "outputs": [
        {
          "output_type": "execute_result",
          "data": {
            "text/html": [
              "<div>\n",
              "<style scoped>\n",
              "    .dataframe tbody tr th:only-of-type {\n",
              "        vertical-align: middle;\n",
              "    }\n",
              "\n",
              "    .dataframe tbody tr th {\n",
              "        vertical-align: top;\n",
              "    }\n",
              "\n",
              "    .dataframe thead th {\n",
              "        text-align: right;\n",
              "    }\n",
              "</style>\n",
              "<table border=\"1\" class=\"dataframe\">\n",
              "  <thead>\n",
              "    <tr style=\"text-align: right;\">\n",
              "      <th></th>\n",
              "      <th>cuisine</th>\n",
              "      <th>ingredients</th>\n",
              "      <th>ingredients_query</th>\n",
              "    </tr>\n",
              "  </thead>\n",
              "  <tbody>\n",
              "    <tr>\n",
              "      <th>0</th>\n",
              "      <td>greek</td>\n",
              "      <td>romaine lettuce black olives grape tomatoes ga...</td>\n",
              "      <td>romaine lettuce black olive grape tomato garli...</td>\n",
              "    </tr>\n",
              "    <tr>\n",
              "      <th>1</th>\n",
              "      <td>southern_us</td>\n",
              "      <td>plain flour ground pepper salt tomatoes ground...</td>\n",
              "      <td>plain flour ground tomato ground black thyme e...</td>\n",
              "    </tr>\n",
              "    <tr>\n",
              "      <th>2</th>\n",
              "      <td>filipino</td>\n",
              "      <td>eggs pepper salt mayonaise cooking oil green c...</td>\n",
              "      <td>egg mayonaise cooking oil green chilies grille...</td>\n",
              "    </tr>\n",
              "    <tr>\n",
              "      <th>3</th>\n",
              "      <td>indian</td>\n",
              "      <td>water vegetable oil wheat salt</td>\n",
              "      <td>water vegetable oil wheat</td>\n",
              "    </tr>\n",
              "    <tr>\n",
              "      <th>4</th>\n",
              "      <td>indian</td>\n",
              "      <td>black pepper shallots cornflour cayenne pepper...</td>\n",
              "      <td>black shallot cornflour cayenne onion garlic p...</td>\n",
              "    </tr>\n",
              "  </tbody>\n",
              "</table>\n",
              "</div>"
            ],
            "text/plain": [
              "       cuisine  ...                                  ingredients_query\n",
              "0        greek  ...  romaine lettuce black olive grape tomato garli...\n",
              "1  southern_us  ...  plain flour ground tomato ground black thyme e...\n",
              "2     filipino  ...  egg mayonaise cooking oil green chilies grille...\n",
              "3       indian  ...                          water vegetable oil wheat\n",
              "4       indian  ...  black shallot cornflour cayenne onion garlic p...\n",
              "\n",
              "[5 rows x 3 columns]"
            ]
          },
          "metadata": {},
          "execution_count": 232
        }
      ]
    },
    {
      "cell_type": "code",
      "metadata": {
        "id": "CIxGEQv65ZtK"
      },
      "source": [
        "vectorizer = feature_extraction.text.TfidfVectorizer()"
      ],
      "execution_count": null,
      "outputs": []
    },
    {
      "cell_type": "code",
      "metadata": {
        "id": "thFx_pw_6zvE"
      },
      "source": [
        "## Model\n",
        "classifier = LogisticRegressionCV(cv=3,random_state=42,\n",
        "                                      max_iter=300,\n",
        "                                      n_jobs=-1,\n",
        "                                      verbose=1) #naive_bayes.MultinomialNB()\n",
        "\n",
        "\n"
      ],
      "execution_count": null,
      "outputs": []
    },
    {
      "cell_type": "code",
      "metadata": {
        "id": "CI1c9aez69eE"
      },
      "source": [
        "## pipeline\n",
        "model = pipeline.Pipeline([(\"vectorizer\", vectorizer),  \n",
        "                                (\"classifier\", classifier)])"
      ],
      "execution_count": null,
      "outputs": []
    },
    {
      "cell_type": "code",
      "metadata": {
        "id": "OifSlVwg67LU"
      },
      "source": [
        "## Split the dataset\n",
        "df_cuisine_ingredients_train, df_cuisine_ingredients_test = model_selection.train_test_split(df_cuisine_ingredients, test_size=0.3, random_state=42)"
      ],
      "execution_count": null,
      "outputs": []
    },
    {
      "cell_type": "code",
      "metadata": {
        "id": "9pBafWra7RXK"
      },
      "source": [
        " X_train = df_cuisine_ingredients_train['ingredients_query']; \n",
        " X_test = df_cuisine_ingredients_test['ingredients_query'];"
      ],
      "execution_count": null,
      "outputs": []
    },
    {
      "cell_type": "code",
      "metadata": {
        "id": "tsUSUe6A7XW4"
      },
      "source": [
        "y_train = df_cuisine_ingredients_train['cuisine']; \n",
        "y_test = df_cuisine_ingredients_test['cuisine']; "
      ],
      "execution_count": null,
      "outputs": []
    },
    {
      "cell_type": "code",
      "metadata": {
        "colab": {
          "base_uri": "https://localhost:8080/"
        },
        "id": "s5o9dYx07b9o",
        "outputId": "e94a36f5-5387-40ac-fce3-d95465625aa4"
      },
      "source": [
        "  ## train classifier\n",
        "  model.fit(X_train, y_train)"
      ],
      "execution_count": null,
      "outputs": [
        {
          "output_type": "stream",
          "name": "stderr",
          "text": [
            "[Parallel(n_jobs=-1)]: Using backend LokyBackend with 2 concurrent workers.\n",
            "[Parallel(n_jobs=-1)]: Done   3 out of   3 | elapsed:  3.1min finished\n"
          ]
        },
        {
          "output_type": "execute_result",
          "data": {
            "text/plain": [
              "Pipeline(steps=[('vectorizer', TfidfVectorizer()),\n",
              "                ('classifier',\n",
              "                 LogisticRegressionCV(cv=3, max_iter=300, n_jobs=-1,\n",
              "                                      random_state=42, verbose=1))])"
            ]
          },
          "metadata": {},
          "execution_count": 239
        }
      ]
    },
    {
      "cell_type": "code",
      "metadata": {
        "id": "2FKbdvtSOCin"
      },
      "source": [
        "predicted = model.predict(X_test)"
      ],
      "execution_count": null,
      "outputs": []
    },
    {
      "cell_type": "code",
      "metadata": {
        "colab": {
          "base_uri": "https://localhost:8080/"
        },
        "id": "AghgfPP0O3v9",
        "outputId": "3fda09f8-1525-4ad7-f095-a17a0c1769c1"
      },
      "source": [
        "predicted"
      ],
      "execution_count": null,
      "outputs": [
        {
          "output_type": "execute_result",
          "data": {
            "text/plain": [
              "array(['chinese', 'spanish', 'greek', ..., 'indian', 'french', 'mexican'],\n",
              "      dtype=object)"
            ]
          },
          "metadata": {},
          "execution_count": 241
        }
      ]
    },
    {
      "cell_type": "code",
      "metadata": {
        "colab": {
          "base_uri": "https://localhost:8080/"
        },
        "id": "KaEA35BAO9DC",
        "outputId": "9f99cd8d-23b2-4f48-8beb-718057cc22ef"
      },
      "source": [
        "predicted_prob = model.predict_proba(X_test)\n",
        "predicted_prob"
      ],
      "execution_count": null,
      "outputs": [
        {
          "output_type": "execute_result",
          "data": {
            "text/plain": [
              "array([[6.30620428e-05, 1.27005272e-04, 2.18292261e-04, ...,\n",
              "        9.37993983e-05, 7.29817813e-04, 6.09101707e-03],\n",
              "       [1.05972193e-03, 1.92034972e-03, 3.17051553e-03, ...,\n",
              "        8.04669476e-01, 3.01986105e-04, 9.21427683e-04],\n",
              "       [2.11311261e-03, 1.65459231e-04, 1.68084195e-03, ...,\n",
              "        1.25435314e-02, 3.55839424e-05, 7.83748465e-05],\n",
              "       ...,\n",
              "       [3.64937666e-05, 1.30768240e-05, 5.10291680e-05, ...,\n",
              "        2.29560263e-05, 1.36590374e-04, 8.90600035e-04],\n",
              "       [1.53866858e-02, 6.40917162e-02, 3.44317007e-02, ...,\n",
              "        4.95750414e-02, 5.79542466e-03, 1.31975179e-03],\n",
              "       [2.28400598e-02, 7.67801416e-04, 1.18746111e-02, ...,\n",
              "        1.52378867e-02, 1.95027975e-04, 2.44837636e-04]])"
            ]
          },
          "metadata": {},
          "execution_count": 242
        }
      ]
    },
    {
      "cell_type": "code",
      "metadata": {
        "colab": {
          "base_uri": "https://localhost:8080/"
        },
        "id": "NhaawUuzPW_0",
        "outputId": "d98d6beb-4bb6-4358-b2e8-563720a5e12d"
      },
      "source": [
        "classes = np.unique(y_test)\n",
        "classes"
      ],
      "execution_count": null,
      "outputs": [
        {
          "output_type": "execute_result",
          "data": {
            "text/plain": [
              "array(['brazilian', 'british', 'cajun_creole', 'chinese', 'filipino',\n",
              "       'french', 'greek', 'indian', 'irish', 'italian', 'jamaican',\n",
              "       'japanese', 'korean', 'mexican', 'moroccan', 'russian',\n",
              "       'southern_us', 'spanish', 'thai', 'vietnamese'], dtype=object)"
            ]
          },
          "metadata": {},
          "execution_count": 243
        }
      ]
    },
    {
      "cell_type": "markdown",
      "metadata": {
        "id": "02Jls8G3PMPK"
      },
      "source": [
        "##Accuracy"
      ]
    },
    {
      "cell_type": "code",
      "metadata": {
        "colab": {
          "base_uri": "https://localhost:8080/"
        },
        "id": "pYtGgLVhPAvV",
        "outputId": "5ef1c449-37d5-47c8-b08a-0f2ab8cb1748"
      },
      "source": [
        "accuracy = metrics.accuracy_score(y_test, predicted)\n",
        "accuracy"
      ],
      "execution_count": null,
      "outputs": [
        {
          "output_type": "execute_result",
          "data": {
            "text/plain": [
              "0.7885695131148914"
            ]
          },
          "metadata": {},
          "execution_count": 244
        }
      ]
    },
    {
      "cell_type": "markdown",
      "metadata": {
        "id": "TexsColyPkp7"
      },
      "source": [
        "##Confusion matrix"
      ]
    },
    {
      "cell_type": "code",
      "metadata": {
        "id": "_2r_tDf_P2-8"
      },
      "source": [
        "import matplotlib.pyplot as plt\n",
        "import seaborn as sns"
      ],
      "execution_count": null,
      "outputs": []
    },
    {
      "cell_type": "code",
      "metadata": {
        "id": "Tk-7RV9LPcOk"
      },
      "source": [
        " cm = metrics.confusion_matrix(y_test, predicted)\n",
        " "
      ],
      "execution_count": null,
      "outputs": []
    },
    {
      "cell_type": "code",
      "metadata": {
        "colab": {
          "base_uri": "https://localhost:8080/",
          "height": 1000
        },
        "id": "eFc7P6ZKPsVj",
        "outputId": "3c1df4fd-d30c-4b31-897a-111d2b931198"
      },
      "source": [
        "fig, ax = plt.subplots(figsize=(15,15), dpi=100)\n",
        "sns.heatmap(cm, annot=True, fmt='d', ax=ax, cmap=plt.cm.Blues, \n",
        "                cbar=False)\n",
        "ax.set(xlabel=\"Pred\", ylabel=\"True\", xticklabels=classes, \n",
        "           yticklabels=classes, title=\"Confusion matrix\")\n",
        "plt.yticks(rotation=0)"
      ],
      "execution_count": null,
      "outputs": [
        {
          "output_type": "execute_result",
          "data": {
            "text/plain": [
              "(array([ 0.5,  1.5,  2.5,  3.5,  4.5,  5.5,  6.5,  7.5,  8.5,  9.5, 10.5,\n",
              "        11.5, 12.5, 13.5, 14.5, 15.5, 16.5, 17.5, 18.5, 19.5]),\n",
              " <a list of 20 Text major ticklabel objects>)"
            ]
          },
          "metadata": {},
          "execution_count": 247
        },
        {
          "output_type": "display_data",
          "data": {
            "image/png": "[encoded data removed]",
            "text/plain": [
              "<Figure size 1500x1500 with 1 Axes>"
            ]
          },
          "metadata": {
            "needs_background": "light"
          }
        }
      ]
    },
    {
      "cell_type": "code",
      "metadata": {
        "id": "TFAtYyCnQ3TD"
      },
      "source": [
        "## Save to file in the current working directory\n",
        "def save_pkl(file, pkl_filename):\n",
        "    with open(pkl_filename, 'wb') as pkl_file:\n",
        "        pickle.dump(file, pkl_file)"
      ],
      "execution_count": null,
      "outputs": []
    },
    {
      "cell_type": "code",
      "metadata": {
        "id": "FUBMW9IxQtiz"
      },
      "source": [
        "save_pkl(model, os.path.join(MODEL_PATH, \"pickle_model.pkl\"))\n"
      ],
      "execution_count": null,
      "outputs": []
    },
    {
      "cell_type": "code",
      "metadata": {
        "id": "VvsMz2WfEuQG"
      },
      "source": [
        "def load_pkl(pkl_filename):\n",
        "    with open(pkl_filename, 'rb') as pkl_file:\n",
        "        return pickle.load(pkl_file)\n",
        "        "
      ],
      "execution_count": null,
      "outputs": []
    },
    {
      "cell_type": "code",
      "metadata": {
        "id": "YUmDnSFtE0VL"
      },
      "source": [
        "df_main_recipe = data"
      ],
      "execution_count": null,
      "outputs": []
    },
    {
      "cell_type": "code",
      "metadata": {
        "id": "uBhggkMeEG6s"
      },
      "source": [
        "model = load_pkl(os.path.join(MODEL_PATH, 'pickle_model.pkl'))\n",
        "df_main_recipe[\"cuisine\"] = model.predict(data[\"ingredients_query\"].tolist())"
      ],
      "execution_count": null,
      "outputs": []
    },
    {
      "cell_type": "code",
      "metadata": {
        "colab": {
          "base_uri": "https://localhost:8080/",
          "height": 206
        },
        "id": "DonGCGAbQ6Kz",
        "outputId": "8c34be81-b581-43f1-ae9b-b1c71e4e1437"
      },
      "source": [
        "df_main_recipe[0:5]"
      ],
      "execution_count": null,
      "outputs": [
        {
          "output_type": "execute_result",
          "data": {
            "text/html": [
              "<div>\n",
              "<style scoped>\n",
              "    .dataframe tbody tr th:only-of-type {\n",
              "        vertical-align: middle;\n",
              "    }\n",
              "\n",
              "    .dataframe tbody tr th {\n",
              "        vertical-align: top;\n",
              "    }\n",
              "\n",
              "    .dataframe thead th {\n",
              "        text-align: right;\n",
              "    }\n",
              "</style>\n",
              "<table border=\"1\" class=\"dataframe\">\n",
              "  <thead>\n",
              "    <tr style=\"text-align: right;\">\n",
              "      <th></th>\n",
              "      <th>title</th>\n",
              "      <th>ingredients</th>\n",
              "      <th>instructions</th>\n",
              "      <th>ingredients_query</th>\n",
              "      <th>cuisine</th>\n",
              "    </tr>\n",
              "  </thead>\n",
              "  <tbody>\n",
              "    <tr>\n",
              "      <th>0</th>\n",
              "      <td>Slow Cooker Chicken and Dumplings</td>\n",
              "      <td>[4 skinless, boneless chicken breast halves AD...</td>\n",
              "      <td>Place the chicken, butter, soup, and onion in ...</td>\n",
              "      <td>skinless boneless chicken breast half butter ...</td>\n",
              "      <td>southern_us</td>\n",
              "    </tr>\n",
              "    <tr>\n",
              "      <th>1</th>\n",
              "      <td>Awesome Slow Cooker Pot Roast</td>\n",
              "      <td>[2 (10.75 ounce) cans condensed cream of mushr...</td>\n",
              "      <td>In a slow cooker, mix cream of mushroom soup, ...</td>\n",
              "      <td>can condensed cream mushroom soup package dry...</td>\n",
              "      <td>italian</td>\n",
              "    </tr>\n",
              "    <tr>\n",
              "      <th>2</th>\n",
              "      <td>Brown Sugar Meatloaf</td>\n",
              "      <td>[1/2 cup packed brown sugar ADVERTISEMENT, 1/2...</td>\n",
              "      <td>Preheat oven to 350 degrees F (175 degrees C)....</td>\n",
              "      <td>packed brown sugar ketchup lean ground beef m...</td>\n",
              "      <td>southern_us</td>\n",
              "    </tr>\n",
              "    <tr>\n",
              "      <th>3</th>\n",
              "      <td>Best Chocolate Chip Cookies</td>\n",
              "      <td>[1 cup butter, softened ADVERTISEMENT, 1 cup w...</td>\n",
              "      <td>Preheat oven to 350 degrees F (175 degrees C)....</td>\n",
              "      <td>butter softened white sugar packed brown suga...</td>\n",
              "      <td>southern_us</td>\n",
              "    </tr>\n",
              "    <tr>\n",
              "      <th>4</th>\n",
              "      <td>Homemade Mac and Cheese Casserole</td>\n",
              "      <td>[8 ounces whole wheat rotini pasta ADVERTISEME...</td>\n",
              "      <td>Preheat oven to 350 degrees F. Line a 2-quart ...</td>\n",
              "      <td>whole wheat rotini pasta fresh broccoli flore...</td>\n",
              "      <td>italian</td>\n",
              "    </tr>\n",
              "  </tbody>\n",
              "</table>\n",
              "</div>"
            ],
            "text/plain": [
              "                               title  ...      cuisine\n",
              "0  Slow Cooker Chicken and Dumplings  ...  southern_us\n",
              "1      Awesome Slow Cooker Pot Roast  ...      italian\n",
              "2               Brown Sugar Meatloaf  ...  southern_us\n",
              "3        Best Chocolate Chip Cookies  ...  southern_us\n",
              "4  Homemade Mac and Cheese Casserole  ...      italian\n",
              "\n",
              "[5 rows x 5 columns]"
            ]
          },
          "metadata": {},
          "execution_count": 253
        }
      ]
    },
    {
      "cell_type": "code",
      "metadata": {
        "id": "9RM0SVwNSF7x"
      },
      "source": [
        "\n",
        "def d2v_embeddings(data):\n",
        "    data = data['ingredients_query'].tolist()\n",
        "    tagged_data = [TaggedDocument(words=row.split(), tags=[str(index)]) for index, row in enumerate(data)]\n",
        "\n",
        "    max_epochs = 20\n",
        "    vec_size = 50\n",
        "    alpha = 0.025\n",
        "\n",
        "    model_embedding = Doc2Vec(size=vec_size,\n",
        "                        alpha=alpha, \n",
        "                        min_alpha=0.00025,\n",
        "                        min_count=1,\n",
        "                        dm =1)\n",
        "  \n",
        "    model_embedding.build_vocab(tagged_data)\n",
        "\n",
        "    for epoch in range(max_epochs):\n",
        "        print('iteration {0}'.format(epoch))\n",
        "        model_embedding.train(tagged_data,\n",
        "                    total_examples=model_embedding.corpus_count,\n",
        "                    epochs=model_embedding.iter)\n",
        "        # decrease the learning rate\n",
        "        model_embedding.alpha -= 0.0002\n",
        "        # fix the learning rate, no decay\n",
        "        model_embedding.min_alpha = model_embedding.alpha\n",
        "    \n",
        "    return model_embedding"
      ],
      "execution_count": null,
      "outputs": []
    },
    {
      "cell_type": "code",
      "metadata": {
        "colab": {
          "base_uri": "https://localhost:8080/",
          "height": 424
        },
        "id": "nV-iDzhvLEfW",
        "outputId": "1c34d6ef-b582-4c9a-de00-03c1d17b5dc9"
      },
      "source": [
        "data.iloc[:,0:4]"
      ],
      "execution_count": null,
      "outputs": [
        {
          "output_type": "execute_result",
          "data": {
            "text/html": [
              "<div>\n",
              "<style scoped>\n",
              "    .dataframe tbody tr th:only-of-type {\n",
              "        vertical-align: middle;\n",
              "    }\n",
              "\n",
              "    .dataframe tbody tr th {\n",
              "        vertical-align: top;\n",
              "    }\n",
              "\n",
              "    .dataframe thead th {\n",
              "        text-align: right;\n",
              "    }\n",
              "</style>\n",
              "<table border=\"1\" class=\"dataframe\">\n",
              "  <thead>\n",
              "    <tr style=\"text-align: right;\">\n",
              "      <th></th>\n",
              "      <th>title</th>\n",
              "      <th>ingredients</th>\n",
              "      <th>instructions</th>\n",
              "      <th>ingredients_query</th>\n",
              "    </tr>\n",
              "  </thead>\n",
              "  <tbody>\n",
              "    <tr>\n",
              "      <th>0</th>\n",
              "      <td>Slow Cooker Chicken and Dumplings</td>\n",
              "      <td>[4 skinless, boneless chicken breast halves AD...</td>\n",
              "      <td>Place the chicken, butter, soup, and onion in ...</td>\n",
              "      <td>skinless boneless chicken breast half butter ...</td>\n",
              "    </tr>\n",
              "    <tr>\n",
              "      <th>1</th>\n",
              "      <td>Awesome Slow Cooker Pot Roast</td>\n",
              "      <td>[2 (10.75 ounce) cans condensed cream of mushr...</td>\n",
              "      <td>In a slow cooker, mix cream of mushroom soup, ...</td>\n",
              "      <td>can condensed cream mushroom soup package dry...</td>\n",
              "    </tr>\n",
              "    <tr>\n",
              "      <th>2</th>\n",
              "      <td>Brown Sugar Meatloaf</td>\n",
              "      <td>[1/2 cup packed brown sugar ADVERTISEMENT, 1/2...</td>\n",
              "      <td>Preheat oven to 350 degrees F (175 degrees C)....</td>\n",
              "      <td>packed brown sugar ketchup lean ground beef m...</td>\n",
              "    </tr>\n",
              "    <tr>\n",
              "      <th>3</th>\n",
              "      <td>Best Chocolate Chip Cookies</td>\n",
              "      <td>[1 cup butter, softened ADVERTISEMENT, 1 cup w...</td>\n",
              "      <td>Preheat oven to 350 degrees F (175 degrees C)....</td>\n",
              "      <td>butter softened white sugar packed brown suga...</td>\n",
              "    </tr>\n",
              "    <tr>\n",
              "      <th>4</th>\n",
              "      <td>Homemade Mac and Cheese Casserole</td>\n",
              "      <td>[8 ounces whole wheat rotini pasta ADVERTISEME...</td>\n",
              "      <td>Preheat oven to 350 degrees F. Line a 2-quart ...</td>\n",
              "      <td>whole wheat rotini pasta fresh broccoli flore...</td>\n",
              "    </tr>\n",
              "    <tr>\n",
              "      <th>...</th>\n",
              "      <td>...</td>\n",
              "      <td>...</td>\n",
              "      <td>...</td>\n",
              "      <td>...</td>\n",
              "    </tr>\n",
              "    <tr>\n",
              "      <th>124642</th>\n",
              "      <td>Summer Corn Salad</td>\n",
              "      <td>[4 ears fresh corn, 2 heads Belgian endive, 2 ...</td>\n",
              "      <td>Watch how to make this recipe.\\nPreheat a gril...</td>\n",
              "      <td>ear fresh corn head belgian endive olive oil ...</td>\n",
              "    </tr>\n",
              "    <tr>\n",
              "      <th>124643</th>\n",
              "      <td>Zucchini Stuffed Tomatoes</td>\n",
              "      <td>[4 large plum tomatoes, Salt and sugar, 1 1/2 ...</td>\n",
              "      <td>Preheat the broiler. Cut the tomatoes in 1/2 c...</td>\n",
              "      <td>large plum tomato sugar zucchini shallot slic...</td>\n",
              "    </tr>\n",
              "    <tr>\n",
              "      <th>124644</th>\n",
              "      <td>Pepper Pasta Quick Cook</td>\n",
              "      <td>[3 tablespoons olive oil, 2 tablespoons unsalt...</td>\n",
              "      <td>Heat the oil and butter in a large skillet ove...</td>\n",
              "      <td>olive oil unsalted butter medium clove garlic...</td>\n",
              "    </tr>\n",
              "    <tr>\n",
              "      <th>124645</th>\n",
              "      <td>Chocolate Cake with Armagnac Ice Cream</td>\n",
              "      <td>[8 ounces butter, 8 ounces bittersweet chocola...</td>\n",
              "      <td>Preheat oven to 350 degrees. On the top half o...</td>\n",
              "      <td>butter bittersweet chocolate whole egg egg yo...</td>\n",
              "    </tr>\n",
              "    <tr>\n",
              "      <th>124646</th>\n",
              "      <td>Crabby Bisque</td>\n",
              "      <td>[3 (10.5-ounce) cans restaurant-style condense...</td>\n",
              "      <td>Watch how to make this recipe.\\nIn a medium sa...</td>\n",
              "      <td>ounce can restaurantstyle condensed crab bisq...</td>\n",
              "    </tr>\n",
              "  </tbody>\n",
              "</table>\n",
              "<p>124473 rows × 4 columns</p>\n",
              "</div>"
            ],
            "text/plain": [
              "                                         title  ...                                  ingredients_query\n",
              "0            Slow Cooker Chicken and Dumplings  ...   skinless boneless chicken breast half butter ...\n",
              "1                Awesome Slow Cooker Pot Roast  ...   can condensed cream mushroom soup package dry...\n",
              "2                         Brown Sugar Meatloaf  ...   packed brown sugar ketchup lean ground beef m...\n",
              "3                  Best Chocolate Chip Cookies  ...   butter softened white sugar packed brown suga...\n",
              "4            Homemade Mac and Cheese Casserole  ...   whole wheat rotini pasta fresh broccoli flore...\n",
              "...                                        ...  ...                                                ...\n",
              "124642                       Summer Corn Salad  ...   ear fresh corn head belgian endive olive oil ...\n",
              "124643               Zucchini Stuffed Tomatoes  ...   large plum tomato sugar zucchini shallot slic...\n",
              "124644                 Pepper Pasta Quick Cook  ...   olive oil unsalted butter medium clove garlic...\n",
              "124645  Chocolate Cake with Armagnac Ice Cream  ...   butter bittersweet chocolate whole egg egg yo...\n",
              "124646                           Crabby Bisque  ...   ounce can restaurantstyle condensed crab bisq...\n",
              "\n",
              "[124473 rows x 4 columns]"
            ]
          },
          "metadata": {},
          "execution_count": 258
        }
      ]
    },
    {
      "cell_type": "code",
      "metadata": {
        "colab": {
          "base_uri": "https://localhost:8080/"
        },
        "id": "hM-fKpx9IZRh",
        "outputId": "ddf6ee9e-a8d8-4d24-cbbe-cb40a63599b7"
      },
      "source": [
        " for cuisine in CUISINE_CLASSES:\n",
        "        data_cuisine = data[data['cuisine'] == cuisine]\n",
        "        print(data_cuisine.iloc[:,0:4])\n",
        "        model_embedding = d2v_embeddings(data_cuisine.iloc[:,0:4])\n",
        "        save_pkl(model_embedding, os.path.join(MODEL_EMBEDDINGS_PATH, f'd2v_{cuisine}.pkl'))   \n",
        "\n"
      ],
      "execution_count": null,
      "outputs": [
        {
          "output_type": "stream",
          "name": "stdout",
          "text": [
            "                                         title  ...                                  ingredients_query\n",
            "454                                      Fudge  ...   semisweet chocolate chip sweetened condensed ...\n",
            "971                          Easy Granola Bars  ...   quickcooking oat sweetened condensed milk but...\n",
            "2621                   Cookies 'n' Creme Fudge  ...   package white chocolate baking square eagle b...\n",
            "2772                                Brigadeiro  ...   unsweetened cocoa butter sweetened condensed ...\n",
            "4426    Brazilian Cheese Bread (Pao de Queijo)  ...   olive oil butter water milk soy milk tapioca ...\n",
            "...                                        ...  ...                                                ...\n",
            "123423                   Mango Lime Caipirinha  ...   lime sugar ounce bottle mango nectar ice cach...\n",
            "123578                       Coconut Macaroons  ...   sweetened shredded coconut sweetened condense...\n",
            "123870                      Paradise Macaroons  ...   ounce package sweetened shredded coconut swee...\n",
            "124064          The B-Tini (B's Vodka Martini)  ...  peconika vodka galliano galliano vodka splash ...\n",
            "124374                       Skyy Berry Gimlet  ...   berryflavored vodka recommended skyy berry vo...\n",
            "\n",
            "[350 rows x 4 columns]\n"
          ]
        },
        {
          "output_type": "stream",
          "name": "stderr",
          "text": [
            "/usr/local/lib/python3.7/dist-packages/gensim/models/doc2vec.py:570: UserWarning: The parameter `size` is deprecated, will be removed in 4.0.0, use `vector_size` instead.\n",
            "  warnings.warn(\"The parameter `size` is deprecated, will be removed in 4.0.0, use `vector_size` instead.\")\n"
          ]
        },
        {
          "output_type": "stream",
          "name": "stdout",
          "text": [
            "iteration 0\n",
            "iteration 1\n"
          ]
        },
        {
          "output_type": "stream",
          "name": "stderr",
          "text": [
            "/usr/local/lib/python3.7/dist-packages/ipykernel_launcher.py:22: DeprecationWarning: Call to deprecated `iter` (Attribute will be removed in 4.0.0, use self.epochs instead).\n"
          ]
        },
        {
          "output_type": "stream",
          "name": "stdout",
          "text": [
            "iteration 2\n",
            "iteration 3\n",
            "iteration 4\n",
            "iteration 5\n",
            "iteration 6\n",
            "iteration 7\n",
            "iteration 8\n",
            "iteration 9\n",
            "iteration 10\n",
            "iteration 11\n",
            "iteration 12\n",
            "iteration 13\n",
            "iteration 14\n",
            "iteration 15\n",
            "iteration 16\n",
            "iteration 17\n",
            "iteration 18\n",
            "iteration 19\n",
            "                                                    title  ...                                  ingredients_query\n",
            "5                                     Banana Banana Bread  ...   allpurpose flour baking soda butter brown sug...\n",
            "59                                    Creamy Rice Pudding  ...   uncooked white rice milk divided white sugar ...\n",
            "62                                          Easy Meatloaf  ...   ground beef egg onion chopped milk dried brea...\n",
            "72                          Slow Cooker Beef Stroganoff I  ...   cubed beef stew meat condensed golden mushroo...\n",
            "201                              Grandma Johnson's Scones  ...   sour cream baking soda allpurpose flour white...\n",
            "...                                                   ...  ...                                                ...\n",
            "124032     Lemon Yogurt Berry Swirl with Homemade Granola  ...   oat quickcook instant whole almond shelled sk...\n",
            "124035                               Fresh Fruit Tartlets  ...   shortcrust pastry recipe follows dark chocola...\n",
            "124108  Absinthe, Almond, Black Currant and Cherry Cup...  ...   stick butter sugar egg almond extract drop el...\n",
            "124431                                          Pierogies  ...   allpurpose flour plus dusting milk soy whole ...\n",
            "124565                                   Baked Brown Rice  ...   brown rice medium short grain water unsalted ...\n",
            "\n",
            "[1905 rows x 4 columns]\n"
          ]
        },
        {
          "output_type": "stream",
          "name": "stderr",
          "text": [
            "/usr/local/lib/python3.7/dist-packages/gensim/models/doc2vec.py:570: UserWarning: The parameter `size` is deprecated, will be removed in 4.0.0, use `vector_size` instead.\n",
            "  warnings.warn(\"The parameter `size` is deprecated, will be removed in 4.0.0, use `vector_size` instead.\")\n"
          ]
        },
        {
          "output_type": "stream",
          "name": "stdout",
          "text": [
            "iteration 0\n"
          ]
        },
        {
          "output_type": "stream",
          "name": "stderr",
          "text": [
            "/usr/local/lib/python3.7/dist-packages/ipykernel_launcher.py:22: DeprecationWarning: Call to deprecated `iter` (Attribute will be removed in 4.0.0, use self.epochs instead).\n"
          ]
        },
        {
          "output_type": "stream",
          "name": "stdout",
          "text": [
            "iteration 1\n",
            "iteration 2\n",
            "iteration 3\n",
            "iteration 4\n",
            "iteration 5\n",
            "iteration 6\n",
            "iteration 7\n",
            "iteration 8\n",
            "iteration 9\n",
            "iteration 10\n",
            "iteration 11\n",
            "iteration 12\n",
            "iteration 13\n",
            "iteration 14\n",
            "iteration 15\n",
            "iteration 16\n",
            "iteration 17\n",
            "iteration 18\n",
            "iteration 19\n",
            "                                        title  ...                                  ingredients_query\n",
            "74      Roast Sticky Chicken-Rotisserie Style  ...   paprika onion powder dried thyme white cayenn...\n",
            "135                 Spicy Garlic Lime Chicken  ...   black cayenne paprika garlic powder onion pow...\n",
            "160                       Cajun Chicken Pasta  ...   linguine pasta boneless skinless chicken brea...\n",
            "182         Creamy Chicken and Wild Rice Soup  ...   chicken broth water cooked boneless chicken b...\n",
            "220           Colleen's Slow Cooker Jambalaya  ...   skinless boneless chicken breast half cut inc...\n",
            "...                                       ...  ...                                                ...\n",
            "124421                                  Gumbo  ...   kosher cactus cleaned sliced olive oil blend ...\n",
            "124476                   Southern Shrimp Boil  ...   vegetable oil andouille sausage cut inch roun...\n",
            "124490                           Cajun Shrimp  ...   tiger prawn extravirgin olive oil cajun seaso...\n",
            "124600           Perfect Fried Egg - Tutorial  ...  canola oil frying egg worcestershire sauce opt...\n",
            "124646                          Crabby Bisque  ...   ounce can restaurantstyle condensed crab bisq...\n",
            "\n",
            "[1260 rows x 4 columns]\n"
          ]
        },
        {
          "output_type": "stream",
          "name": "stderr",
          "text": [
            "/usr/local/lib/python3.7/dist-packages/gensim/models/doc2vec.py:570: UserWarning: The parameter `size` is deprecated, will be removed in 4.0.0, use `vector_size` instead.\n",
            "  warnings.warn(\"The parameter `size` is deprecated, will be removed in 4.0.0, use `vector_size` instead.\")\n"
          ]
        },
        {
          "output_type": "stream",
          "name": "stdout",
          "text": [
            "iteration 0\n"
          ]
        },
        {
          "output_type": "stream",
          "name": "stderr",
          "text": [
            "/usr/local/lib/python3.7/dist-packages/ipykernel_launcher.py:22: DeprecationWarning: Call to deprecated `iter` (Attribute will be removed in 4.0.0, use self.epochs instead).\n"
          ]
        },
        {
          "output_type": "stream",
          "name": "stdout",
          "text": [
            "iteration 1\n",
            "iteration 2\n",
            "iteration 3\n",
            "iteration 4\n",
            "iteration 5\n",
            "iteration 6\n",
            "iteration 7\n",
            "iteration 8\n",
            "iteration 9\n",
            "iteration 10\n",
            "iteration 11\n",
            "iteration 12\n",
            "iteration 13\n",
            "iteration 14\n",
            "iteration 15\n",
            "iteration 16\n",
            "iteration 17\n",
            "iteration 18\n",
            "iteration 19\n",
            "                                                    title  ...                                  ingredients_query\n",
            "86                        Sweet, Sticky and Spicy Chicken  ...   brown sugar honey soy sauce chopped fresh gin...\n",
            "130                                       Szechwan Shrimp  ...   water ketchup soy sauce cornstarch honey crus...\n",
            "194                             Caramelized Baked Chicken  ...   chicken wing olive oil soy sauce ketchup hone...\n",
            "250                                   Asian Lettuce Wraps  ...   boston bibb butter lettuce leaf lean ground b...\n",
            "300                          Tangy Slow Cooker Pork Roast  ...   large onion sliced boneless pork loin roast h...\n",
            "...                                                   ...  ...                                                ...\n",
            "124482                               Beef in Oyster Sauce  ...   beef fillet tenderloin pounded thinly sliced ...\n",
            "124500                              Chinese Chicken Salad  ...   crispy chow mein noodle shredded cooked chick...\n",
            "124521                               Flank Steak Stir-Fry  ...   fish sauce soy sauce heaping finely sliced fr...\n",
            "124546                                         Rice Pilaf  ...   lowsodium chicken broth water olive oil chopp...\n",
            "124564  Pagoda Rice Steamed In Lotus Leaf, Com Hap La Sen  ...   vegetable oil shiitake mushroom diced green p...\n",
            "\n",
            "[3165 rows x 4 columns]\n"
          ]
        },
        {
          "output_type": "stream",
          "name": "stderr",
          "text": [
            "/usr/local/lib/python3.7/dist-packages/gensim/models/doc2vec.py:570: UserWarning: The parameter `size` is deprecated, will be removed in 4.0.0, use `vector_size` instead.\n",
            "  warnings.warn(\"The parameter `size` is deprecated, will be removed in 4.0.0, use `vector_size` instead.\")\n"
          ]
        },
        {
          "output_type": "stream",
          "name": "stdout",
          "text": [
            "iteration 0\n"
          ]
        },
        {
          "output_type": "stream",
          "name": "stderr",
          "text": [
            "/usr/local/lib/python3.7/dist-packages/ipykernel_launcher.py:22: DeprecationWarning: Call to deprecated `iter` (Attribute will be removed in 4.0.0, use self.epochs instead).\n"
          ]
        },
        {
          "output_type": "stream",
          "name": "stdout",
          "text": [
            "iteration 1\n",
            "iteration 2\n",
            "iteration 3\n",
            "iteration 4\n",
            "iteration 5\n",
            "iteration 6\n",
            "iteration 7\n",
            "iteration 8\n",
            "iteration 9\n",
            "iteration 10\n",
            "iteration 11\n",
            "iteration 12\n",
            "iteration 13\n",
            "iteration 14\n",
            "iteration 15\n",
            "iteration 16\n",
            "iteration 17\n",
            "iteration 18\n",
            "iteration 19\n",
            "                                             title  ...                                  ingredients_query\n",
            "32                          Baked Teriyaki Chicken  ...   cornstarch cold water white sugar soy sauce c...\n",
            "68                                    Maple Salmon  ...   maple syrup soy sauce clove garlic minced gar...\n",
            "261        Broccoli with Garlic Butter and Cashews  ...   fresh broccoli cut bite size piece butter bro...\n",
            "301                    Easy Garlic Broiled Chicken  ...   butter minced garlic soy sauce black dried pa...\n",
            "398                               Cabbage Rolls II  ...   leaf cabbage cooked white rice egg beaten mil...\n",
            "...                                            ...  ...                                                ...\n",
            "122678                           Peppermint Creams  ...   confectioner sugar plus dusting sweetened con...\n",
            "122910                           The Perfect Steak  ...                 inch newyork strip loin canola oil\n",
            "123460  Pineapple Haupia (Coconut Pudding Dessert)  ...   quart coconut milk sugar pineapple peeled cor...\n",
            "123847                                  Taro Salad  ...   corm taro luau leaf taro leaf coconut milk wh...\n",
            "124553                       Marinated Leg of Lamb  ...   onion quartered garlic clove inch cube peeled...\n",
            "\n",
            "[397 rows x 4 columns]\n"
          ]
        },
        {
          "output_type": "stream",
          "name": "stderr",
          "text": [
            "/usr/local/lib/python3.7/dist-packages/gensim/models/doc2vec.py:570: UserWarning: The parameter `size` is deprecated, will be removed in 4.0.0, use `vector_size` instead.\n",
            "  warnings.warn(\"The parameter `size` is deprecated, will be removed in 4.0.0, use `vector_size` instead.\")\n"
          ]
        },
        {
          "output_type": "stream",
          "name": "stdout",
          "text": [
            "iteration 0\n",
            "iteration 1\n"
          ]
        },
        {
          "output_type": "stream",
          "name": "stderr",
          "text": [
            "/usr/local/lib/python3.7/dist-packages/ipykernel_launcher.py:22: DeprecationWarning: Call to deprecated `iter` (Attribute will be removed in 4.0.0, use self.epochs instead).\n"
          ]
        },
        {
          "output_type": "stream",
          "name": "stdout",
          "text": [
            "iteration 2\n",
            "iteration 3\n",
            "iteration 4\n",
            "iteration 5\n",
            "iteration 6\n",
            "iteration 7\n",
            "iteration 8\n",
            "iteration 9\n",
            "iteration 10\n",
            "iteration 11\n",
            "iteration 12\n",
            "iteration 13\n",
            "iteration 14\n",
            "iteration 15\n",
            "iteration 16\n",
            "iteration 17\n",
            "iteration 18\n",
            "iteration 19\n",
            "                                             title  ...                                  ingredients_query\n",
            "6                      Chef John's Fisherman's Pie  ...  potato crust russet potato peeled cut chunk bu...\n",
            "11      Best Big, Fat, Chewy Chocolate Chip Cookie  ...   allpurpose flour baking soda unsalted butter ...\n",
            "13                                 Irish Lamb Stew  ...   thickly sliced bacon diced boneless lamb shou...\n",
            "30                          Chicken Cordon Bleu II  ...   skinless boneless chicken breast half slice s...\n",
            "63          Annie's Fruit Salsa and Cinnamon Chips  ...   kiwi peeled diced golden delicious apple peel...\n",
            "...                                            ...  ...                                                ...\n",
            "124618                             Chicken Pot Pie  ...   whole chicken gallon cool water carrot cut in...\n",
            "124626      Strawberry, Fig, and Goat Cheese Tarts  ...   sheet puff pastry dough whole fresh fig large...\n",
            "124640    Chicken Braised with 20 Cloves of Garlic  ...   large head garlic cutup chicken freshly groun...\n",
            "124641                                 Cream Horns  ...   sheet frozen puff pastry thawed egg water pow...\n",
            "124643                   Zucchini Stuffed Tomatoes  ...   large plum tomato sugar zucchini shallot slic...\n",
            "\n",
            "[17606 rows x 4 columns]\n"
          ]
        },
        {
          "output_type": "stream",
          "name": "stderr",
          "text": [
            "/usr/local/lib/python3.7/dist-packages/gensim/models/doc2vec.py:570: UserWarning: The parameter `size` is deprecated, will be removed in 4.0.0, use `vector_size` instead.\n",
            "  warnings.warn(\"The parameter `size` is deprecated, will be removed in 4.0.0, use `vector_size` instead.\")\n"
          ]
        },
        {
          "output_type": "stream",
          "name": "stdout",
          "text": [
            "iteration 0\n"
          ]
        },
        {
          "output_type": "stream",
          "name": "stderr",
          "text": [
            "/usr/local/lib/python3.7/dist-packages/ipykernel_launcher.py:22: DeprecationWarning: Call to deprecated `iter` (Attribute will be removed in 4.0.0, use self.epochs instead).\n"
          ]
        },
        {
          "output_type": "stream",
          "name": "stdout",
          "text": [
            "iteration 1\n",
            "iteration 2\n",
            "iteration 3\n",
            "iteration 4\n",
            "iteration 5\n",
            "iteration 6\n",
            "iteration 7\n",
            "iteration 8\n",
            "iteration 9\n",
            "iteration 10\n",
            "iteration 11\n",
            "iteration 12\n",
            "iteration 13\n",
            "iteration 14\n",
            "iteration 15\n",
            "iteration 16\n",
            "iteration 17\n",
            "iteration 18\n",
            "iteration 19\n",
            "                                        title  ...                                  ingredients_query\n",
            "249                                Hummus III  ...   canned garbanzo bean drained tahini lemon jui...\n",
            "254                                   Baklava  ...   package phyllo dough chopped nut butter groun...\n",
            "257     Homestyle Turkey, the Michigander Way  ...   whole turkey butter divided warm water chicke...\n",
            "470       Slow Cooker Lemon Garlic Chicken II  ...   dried oregano ground black skinless boneless ...\n",
            "487         Sean's Falafel and Cucumber Sauce  ...  sauce container plain yogurt cucumber peeled s...\n",
            "...                                       ...  ...                                                ...\n",
            "124263       Lemon Grass Spiced Poached Pears  ...   asian pear peeled cored lemon juiced sugar wa...\n",
            "124335                      Zaatar Pita Bread  ...   zaatar middle eastern spice mix consisting dr...\n",
            "124336              Mediterranean Mixed Grill  ...   nonfat plain greek yogurt clove garlic finely...\n",
            "124578            Lamb and Eggplant Pastitsio  ...   large onion chopped extravirgin olive oil lea...\n",
            "124579                            Herbed Rice  ...   unsalted butter scallion sliced thinly longgr...\n",
            "\n",
            "[2330 rows x 4 columns]\n"
          ]
        },
        {
          "output_type": "stream",
          "name": "stderr",
          "text": [
            "/usr/local/lib/python3.7/dist-packages/gensim/models/doc2vec.py:570: UserWarning: The parameter `size` is deprecated, will be removed in 4.0.0, use `vector_size` instead.\n",
            "  warnings.warn(\"The parameter `size` is deprecated, will be removed in 4.0.0, use `vector_size` instead.\")\n"
          ]
        },
        {
          "output_type": "stream",
          "name": "stdout",
          "text": [
            "iteration 0\n"
          ]
        },
        {
          "output_type": "stream",
          "name": "stderr",
          "text": [
            "/usr/local/lib/python3.7/dist-packages/ipykernel_launcher.py:22: DeprecationWarning: Call to deprecated `iter` (Attribute will be removed in 4.0.0, use self.epochs instead).\n"
          ]
        },
        {
          "output_type": "stream",
          "name": "stdout",
          "text": [
            "iteration 1\n",
            "iteration 2\n",
            "iteration 3\n",
            "iteration 4\n",
            "iteration 5\n",
            "iteration 6\n",
            "iteration 7\n",
            "iteration 8\n",
            "iteration 9\n",
            "iteration 10\n",
            "iteration 11\n",
            "iteration 12\n",
            "iteration 13\n",
            "iteration 14\n",
            "iteration 15\n",
            "iteration 16\n",
            "iteration 17\n",
            "iteration 18\n",
            "iteration 19\n",
            "                                     title  ...                                  ingredients_query\n",
            "105                Curried Coconut Chicken  ...   boneless skinless chicken breast cut inch chu...\n",
            "158                   Chicken Tikka Masala  ...   yogurt lemon juice ground cumin ground cinnam...\n",
            "223                 Honey Baked Chicken II  ...   whole chicken cut piece butter melted honey p...\n",
            "265               Simple Whole Wheat Bread  ...   warm water degree f degree c package active d...\n",
            "467                       Vegetarian Korma  ...   vegetable oil small onion diced minced fresh ...\n",
            "...                                    ...  ...                                                ...\n",
            "124366                        Lentil Cakes  ...   vegetable oil divided plus extra greasing pla...\n",
            "124370               Mango-Ginger Smoothie  ...   ripe mango mango banana piece crystallized gi...\n",
            "124377  Gujarati Potatoes with Cashew Nuts  ...   vegetable oil deep frying plus potato peeled ...\n",
            "124392            Crunchy Cereal Trail Mix  ...   puffed rice puffed wheat wheat chex cereal pu...\n",
            "124560                    Chai Coconut Tea  ...   tea bag black tea coconut chip ginger flake c...\n",
            "\n",
            "[3808 rows x 4 columns]\n"
          ]
        },
        {
          "output_type": "stream",
          "name": "stderr",
          "text": [
            "/usr/local/lib/python3.7/dist-packages/gensim/models/doc2vec.py:570: UserWarning: The parameter `size` is deprecated, will be removed in 4.0.0, use `vector_size` instead.\n",
            "  warnings.warn(\"The parameter `size` is deprecated, will be removed in 4.0.0, use `vector_size` instead.\")\n"
          ]
        },
        {
          "output_type": "stream",
          "name": "stdout",
          "text": [
            "iteration 0\n"
          ]
        },
        {
          "output_type": "stream",
          "name": "stderr",
          "text": [
            "/usr/local/lib/python3.7/dist-packages/ipykernel_launcher.py:22: DeprecationWarning: Call to deprecated `iter` (Attribute will be removed in 4.0.0, use self.epochs instead).\n"
          ]
        },
        {
          "output_type": "stream",
          "name": "stdout",
          "text": [
            "iteration 1\n",
            "iteration 2\n",
            "iteration 3\n",
            "iteration 4\n",
            "iteration 5\n",
            "iteration 6\n",
            "iteration 7\n",
            "iteration 8\n",
            "iteration 9\n",
            "iteration 10\n",
            "iteration 11\n",
            "iteration 12\n",
            "iteration 13\n",
            "iteration 14\n",
            "iteration 15\n",
            "iteration 16\n",
            "iteration 17\n",
            "iteration 18\n",
            "iteration 19\n",
            "                                              title  ...                                  ingredients_query\n",
            "12            Aimee's Mashed Cauliflower 'Potatoes'  ...   cauliflower floret mashed potato flake lowfat...\n",
            "19                                 Irish Soda Bread  ...   white sugar allpurpose flour baking powder ba...\n",
            "25                    Bailey's Irish Cream Brownies  ...   package fudge brownie mix duncan hines irish ...\n",
            "41                          Big Soft Ginger Cookies  ...   allpurpose flour ground ginger baking soda gr...\n",
            "50                        Creamy Au Gratin Potatoes  ...   russet potato sliced inch slice onion sliced ...\n",
            "...                                             ...  ...                                                ...\n",
            "124105                       Carrot Cake Jelly Roll  ...  unsalted butter greasing pan room temperature ...\n",
            "124118                               Shepherd's Pie  ...   unsalted butter small onion finely chopped ri...\n",
            "124189                       Almond Coconut Granola  ...   oldfashioned rolled oat sliced almond unsweet...\n",
            "124544                             Corned Beef Hash  ...   vegetable oil cooked corned beef diced white ...\n",
            "124593  Sweet and Sour Red Cabbage with Cranberries  ...   small red cabbage canola oil sea freshly grou...\n",
            "\n",
            "[1410 rows x 4 columns]\n"
          ]
        },
        {
          "output_type": "stream",
          "name": "stderr",
          "text": [
            "/usr/local/lib/python3.7/dist-packages/gensim/models/doc2vec.py:570: UserWarning: The parameter `size` is deprecated, will be removed in 4.0.0, use `vector_size` instead.\n",
            "  warnings.warn(\"The parameter `size` is deprecated, will be removed in 4.0.0, use `vector_size` instead.\")\n"
          ]
        },
        {
          "output_type": "stream",
          "name": "stdout",
          "text": [
            "iteration 0\n"
          ]
        },
        {
          "output_type": "stream",
          "name": "stderr",
          "text": [
            "/usr/local/lib/python3.7/dist-packages/ipykernel_launcher.py:22: DeprecationWarning: Call to deprecated `iter` (Attribute will be removed in 4.0.0, use self.epochs instead).\n"
          ]
        },
        {
          "output_type": "stream",
          "name": "stdout",
          "text": [
            "iteration 1\n",
            "iteration 2\n",
            "iteration 3\n",
            "iteration 4\n",
            "iteration 5\n",
            "iteration 6\n",
            "iteration 7\n",
            "iteration 8\n",
            "iteration 9\n",
            "iteration 10\n",
            "iteration 11\n",
            "iteration 12\n",
            "iteration 13\n",
            "iteration 14\n",
            "iteration 15\n",
            "iteration 16\n",
            "iteration 17\n",
            "iteration 18\n",
            "iteration 19\n",
            "                                                    title  ...                                  ingredients_query\n",
            "1                           Awesome Slow Cooker Pot Roast  ...   can condensed cream mushroom soup package dry...\n",
            "4                       Homemade Mac and Cheese Casserole  ...   whole wheat rotini pasta fresh broccoli flore...\n",
            "7                                    Mom's Zucchini Bread  ...   allpurpose flour baking soda baking powder gr...\n",
            "15                               Broiled Tilapia Parmesan  ...   parmesan cheese butter softened mayonnaise fr...\n",
            "17                                   World's Best Lasagna  ...   sweet italian sausage lean ground beef minced...\n",
            "...                                                   ...  ...                                                ...\n",
            "124631  Smoked Duck and Scallop Salad with Sherry Vina...  ...   white wine sherry vinegar olive oil buttermil...\n",
            "124633  Grilled Honey-Orange Figs with Mascarpone and ...  ...   buckwheat honey divided fresh orange juice fr...\n",
            "124636                                   Harvest Foccacia  ...  ounce fresh yeast envelope active dry yeast wh...\n",
            "124644                            Pepper Pasta Quick Cook  ...   olive oil unsalted butter medium clove garlic...\n",
            "124645             Chocolate Cake with Armagnac Ice Cream  ...   butter bittersweet chocolate whole egg egg yo...\n",
            "\n",
            "[38887 rows x 4 columns]\n"
          ]
        },
        {
          "output_type": "stream",
          "name": "stderr",
          "text": [
            "/usr/local/lib/python3.7/dist-packages/gensim/models/doc2vec.py:570: UserWarning: The parameter `size` is deprecated, will be removed in 4.0.0, use `vector_size` instead.\n",
            "  warnings.warn(\"The parameter `size` is deprecated, will be removed in 4.0.0, use `vector_size` instead.\")\n"
          ]
        },
        {
          "output_type": "stream",
          "name": "stdout",
          "text": [
            "iteration 0\n"
          ]
        },
        {
          "output_type": "stream",
          "name": "stderr",
          "text": [
            "/usr/local/lib/python3.7/dist-packages/ipykernel_launcher.py:22: DeprecationWarning: Call to deprecated `iter` (Attribute will be removed in 4.0.0, use self.epochs instead).\n"
          ]
        },
        {
          "output_type": "stream",
          "name": "stdout",
          "text": [
            "iteration 1\n",
            "iteration 2\n",
            "iteration 3\n",
            "iteration 4\n",
            "iteration 5\n",
            "iteration 6\n",
            "iteration 7\n",
            "iteration 8\n",
            "iteration 9\n",
            "iteration 10\n",
            "iteration 11\n",
            "iteration 12\n",
            "iteration 13\n",
            "iteration 14\n",
            "iteration 15\n",
            "iteration 16\n",
            "iteration 17\n",
            "iteration 18\n",
            "iteration 19\n",
            "                                    title  ...                                  ingredients_query\n",
            "151                      Pumpkin Pancakes  ...   milk pumpkin puree egg vegetable oil vinegar ...\n",
            "449                   Pumpkin Gingerbread  ...   sugar vegetable oil egg water pumpkin puree g...\n",
            "754          Simple Whole Roasted Chicken  ...   white sugar ground clove ground allspice grou...\n",
            "1141                   Jay's Jerk Chicken  ...   green onion chopped onion chopped jalapeno se...\n",
            "1150                   Pumpkin Muffins II  ...   small sugar pumpkin seeded allpurpose flour w...\n",
            "...                                   ...  ...                                                ...\n",
            "123705                 Jerk Chicken Wings  ...   chicken wing wing disjointed heaping jerk sea...\n",
            "123745              Jamaican Beef Patties  ...   allpurpose flour curry powder cold butter sho...\n",
            "123951           Lime and Coconut Mojitos  ...   sugar zest lime packed fresh mint leaf plus t...\n",
            "124049              Custard Bread Pudding  ...   raisin jamaican rum white bread crust trimmed...\n",
            "124436  Hoboken Eddie's Root Beer Chicken  ...   ounce bottle root beer oil ounce boneless chi...\n",
            "\n",
            "[484 rows x 4 columns]\n"
          ]
        },
        {
          "output_type": "stream",
          "name": "stderr",
          "text": [
            "/usr/local/lib/python3.7/dist-packages/gensim/models/doc2vec.py:570: UserWarning: The parameter `size` is deprecated, will be removed in 4.0.0, use `vector_size` instead.\n",
            "  warnings.warn(\"The parameter `size` is deprecated, will be removed in 4.0.0, use `vector_size` instead.\")\n"
          ]
        },
        {
          "output_type": "stream",
          "name": "stdout",
          "text": [
            "iteration 0\n"
          ]
        },
        {
          "output_type": "stream",
          "name": "stderr",
          "text": [
            "/usr/local/lib/python3.7/dist-packages/ipykernel_launcher.py:22: DeprecationWarning: Call to deprecated `iter` (Attribute will be removed in 4.0.0, use self.epochs instead).\n"
          ]
        },
        {
          "output_type": "stream",
          "name": "stdout",
          "text": [
            "iteration 1\n",
            "iteration 2\n",
            "iteration 3\n",
            "iteration 4\n",
            "iteration 5\n",
            "iteration 6\n",
            "iteration 7\n",
            "iteration 8\n",
            "iteration 9\n",
            "iteration 10\n",
            "iteration 11\n",
            "iteration 12\n",
            "iteration 13\n",
            "iteration 14\n",
            "iteration 15\n",
            "iteration 16\n",
            "iteration 17\n",
            "iteration 18\n",
            "iteration 19\n",
            "                                                    title  ...                                  ingredients_query\n",
            "52                                       Grilled Salmon I  ...   salmon fillet lemon taste garlic powder taste...\n",
            "153                            Marinated Baked Pork Chops  ...   soy sauce vegetable oil worcestershire sauce ...\n",
            "179                               Ginger Glazed Mahi Mahi  ...   honey soy sauce balsamic vinegar grated fresh...\n",
            "486                                Japanese Chicken Wings  ...   chicken wing egg lightly beaten allpurpose fl...\n",
            "573                           Fried Rice Restaurant Style  ...   enriched white rice water chopped baby carrot...\n",
            "...                                                   ...  ...                                                ...\n",
            "124371                             Teriyaki Salmon Strips  ...   teriyaki sauce divided water king salmon cut ...\n",
            "124380                                    Tempura Sashimi  ...   sushi rice rice wine vinegar ground toasted s...\n",
            "124545                                  Soba Noodle Salad  ...  kosher dried buckwheat soba noodle creamy almo...\n",
            "124563                         Hand Rolled Sushi (Temaki)  ...  sushi rice nori avocado carrot eggplant grille...\n",
            "124639  Coconut-Kaffir Leaf Poached Halibut with Saute...  ...   coconut milk short stalk lemon grass finely c...\n",
            "\n",
            "[1624 rows x 4 columns]\n"
          ]
        },
        {
          "output_type": "stream",
          "name": "stderr",
          "text": [
            "/usr/local/lib/python3.7/dist-packages/gensim/models/doc2vec.py:570: UserWarning: The parameter `size` is deprecated, will be removed in 4.0.0, use `vector_size` instead.\n",
            "  warnings.warn(\"The parameter `size` is deprecated, will be removed in 4.0.0, use `vector_size` instead.\")\n"
          ]
        },
        {
          "output_type": "stream",
          "name": "stdout",
          "text": [
            "iteration 0\n"
          ]
        },
        {
          "output_type": "stream",
          "name": "stderr",
          "text": [
            "/usr/local/lib/python3.7/dist-packages/ipykernel_launcher.py:22: DeprecationWarning: Call to deprecated `iter` (Attribute will be removed in 4.0.0, use self.epochs instead).\n"
          ]
        },
        {
          "output_type": "stream",
          "name": "stdout",
          "text": [
            "iteration 1\n",
            "iteration 2\n",
            "iteration 3\n",
            "iteration 4\n",
            "iteration 5\n",
            "iteration 6\n",
            "iteration 7\n",
            "iteration 8\n",
            "iteration 9\n",
            "iteration 10\n",
            "iteration 11\n",
            "iteration 12\n",
            "iteration 13\n",
            "iteration 14\n",
            "iteration 15\n",
            "iteration 16\n",
            "iteration 17\n",
            "iteration 18\n",
            "iteration 19\n",
            "                                                    title  ...                                  ingredients_query\n",
            "809                                           Sesame Beef  ...   round steak soy sauce white sugar vegetable o...\n",
            "1009                                         Beef Bulgogi  ...   flank steak thinly sliced soy sauce white sug...\n",
            "1578               Maple-Garlic Marinated Pork Tenderloin  ...   dijon mustard sesame oil clove garlic minced ...\n",
            "2515        Rib Eye Steaks with a Soy and Ginger Marinade  ...   soy sauce real maple syrup clove garlic mince...\n",
            "2663                         Candied Garlic Chicken Wings  ...   honey soy sauce clove garlic minced chicken wing\n",
            "...                                                   ...  ...                                                ...\n",
            "122327             Just-Add-Water Kimchi Beef Noodle Soup  ...   thin slice deli roast beef cut bitesize piece...\n",
            "123598        Korean Beef Bulgogi Tacos with Kimchee Slaw  ...  canola oil frying round wonton wrapper fine ju...\n",
            "123718                       Sesame Encrusted Seared Tuna  ...   fillet sushigrade yellowfin tuna asian marina...\n",
            "124288                        Beef Short Rib Lettuce Wrap  ...   steak seasoning spice brown sugar bonein beef...\n",
            "124635  Pork Shoulder Rajas with Quick Kimchi in Lettu...  ...  quick kimchi napa cabbage halved thinly shredd...\n",
            "\n",
            "[400 rows x 4 columns]\n"
          ]
        },
        {
          "output_type": "stream",
          "name": "stderr",
          "text": [
            "/usr/local/lib/python3.7/dist-packages/gensim/models/doc2vec.py:570: UserWarning: The parameter `size` is deprecated, will be removed in 4.0.0, use `vector_size` instead.\n",
            "  warnings.warn(\"The parameter `size` is deprecated, will be removed in 4.0.0, use `vector_size` instead.\")\n"
          ]
        },
        {
          "output_type": "stream",
          "name": "stdout",
          "text": [
            "iteration 0\n"
          ]
        },
        {
          "output_type": "stream",
          "name": "stderr",
          "text": [
            "/usr/local/lib/python3.7/dist-packages/ipykernel_launcher.py:22: DeprecationWarning: Call to deprecated `iter` (Attribute will be removed in 4.0.0, use self.epochs instead).\n"
          ]
        },
        {
          "output_type": "stream",
          "name": "stdout",
          "text": [
            "iteration 1\n",
            "iteration 2\n",
            "iteration 3\n",
            "iteration 4\n",
            "iteration 5\n",
            "iteration 6\n",
            "iteration 7\n",
            "iteration 8\n",
            "iteration 9\n",
            "iteration 10\n",
            "iteration 11\n",
            "iteration 12\n",
            "iteration 13\n",
            "iteration 14\n",
            "iteration 15\n",
            "iteration 16\n",
            "iteration 17\n",
            "iteration 18\n",
            "iteration 19\n",
            "                                      title  ...                                  ingredients_query\n",
            "33                                Guacamole  ...   avocado peeled pitted mashed lime juiced dice...\n",
            "34               Boilermaker Tailgate Chili  ...   ground beef chuck bulk italian sausage can ch...\n",
            "37            Slow Cooker Chicken Taco Soup  ...   onion chopped chili bean black bean whole ker...\n",
            "43                         Taco Seasoning I  ...   chili powder garlic powder onion powder crush...\n",
            "54                            Salsa Chicken  ...   skinless boneless chicken breast half taco se...\n",
            "...                                     ...  ...                                                ...\n",
            "124624  Tostadas de Tuetano Marrow Tostadas  ...   tomatillo husked washed cut inch dice green o...\n",
            "124628                   Matteo's BBQ Sauce  ...   dried ancho chile brewed coffee hot fresh blu...\n",
            "124637                     Spicy Agave Wave  ...  ice slice jalapeno seeded inch piece ounce fre...\n",
            "124638                   Apple Chimichangas  ...   butter sugar ground cinnamon large apple core...\n",
            "124642                    Summer Corn Salad  ...   ear fresh corn head belgian endive olive oil ...\n",
            "\n",
            "[13332 rows x 4 columns]\n"
          ]
        },
        {
          "output_type": "stream",
          "name": "stderr",
          "text": [
            "/usr/local/lib/python3.7/dist-packages/gensim/models/doc2vec.py:570: UserWarning: The parameter `size` is deprecated, will be removed in 4.0.0, use `vector_size` instead.\n",
            "  warnings.warn(\"The parameter `size` is deprecated, will be removed in 4.0.0, use `vector_size` instead.\")\n"
          ]
        },
        {
          "output_type": "stream",
          "name": "stdout",
          "text": [
            "iteration 0\n"
          ]
        },
        {
          "output_type": "stream",
          "name": "stderr",
          "text": [
            "/usr/local/lib/python3.7/dist-packages/ipykernel_launcher.py:22: DeprecationWarning: Call to deprecated `iter` (Attribute will be removed in 4.0.0, use self.epochs instead).\n"
          ]
        },
        {
          "output_type": "stream",
          "name": "stdout",
          "text": [
            "iteration 1\n",
            "iteration 2\n",
            "iteration 3\n",
            "iteration 4\n",
            "iteration 5\n",
            "iteration 6\n",
            "iteration 7\n",
            "iteration 8\n",
            "iteration 9\n",
            "iteration 10\n",
            "iteration 11\n",
            "iteration 12\n",
            "iteration 13\n",
            "iteration 14\n",
            "iteration 15\n",
            "iteration 16\n",
            "iteration 17\n",
            "iteration 18\n",
            "iteration 19\n",
            "                                                    title  ...                                  ingredients_query\n",
            "1874                     Spinach and Leek White Bean Soup  ...   olive oil leek bulb chopped clove garlic chop...\n",
            "1939                  Moroccan-Style Stuffed Acorn Squash  ...   brown sugar butter melted large acorn squash ...\n",
            "1940                                    Roasted Chickpeas  ...   chickpea garbanzo bean drained olive oil opti...\n",
            "2551                  Grilled Lamb with Brown Sugar Glaze  ...   brown sugar ground ginger dried tarragon grou...\n",
            "2674                                     Moroccan Chicken  ...   skinless boneless chicken breast meat cubed o...\n",
            "...                                                   ...  ...                                                ...\n",
            "124027                                 Inspired Trail Mix  ...   raw cashew maple syrup pinch ground cinnamon ...\n",
            "124203  Moroccan Spice Rubbed Leg of Lamb with Apricot...  ...   hungarian paprika light brown sugar ground cu...\n",
            "124262                            Fried Olives with Labne  ...   tomato paste cayenne ground caraway ground cu...\n",
            "124265                    Lemon Pearl Couscous with Dates  ...   extravirgin olive oil plus drizzling onion ch...\n",
            "124575             Moroccan Chicken with Preserved Lemons  ...   small whole chicken lb giblet reserved lemon ...\n",
            "\n",
            "[813 rows x 4 columns]\n"
          ]
        },
        {
          "output_type": "stream",
          "name": "stderr",
          "text": [
            "/usr/local/lib/python3.7/dist-packages/gensim/models/doc2vec.py:570: UserWarning: The parameter `size` is deprecated, will be removed in 4.0.0, use `vector_size` instead.\n",
            "  warnings.warn(\"The parameter `size` is deprecated, will be removed in 4.0.0, use `vector_size` instead.\")\n"
          ]
        },
        {
          "output_type": "stream",
          "name": "stdout",
          "text": [
            "iteration 0\n"
          ]
        },
        {
          "output_type": "stream",
          "name": "stderr",
          "text": [
            "/usr/local/lib/python3.7/dist-packages/ipykernel_launcher.py:22: DeprecationWarning: Call to deprecated `iter` (Attribute will be removed in 4.0.0, use self.epochs instead).\n"
          ]
        },
        {
          "output_type": "stream",
          "name": "stdout",
          "text": [
            "iteration 1\n",
            "iteration 2\n",
            "iteration 3\n",
            "iteration 4\n",
            "iteration 5\n",
            "iteration 6\n",
            "iteration 7\n",
            "iteration 8\n",
            "iteration 9\n",
            "iteration 10\n",
            "iteration 11\n",
            "iteration 12\n",
            "iteration 13\n",
            "iteration 14\n",
            "iteration 15\n",
            "iteration 16\n",
            "iteration 17\n",
            "iteration 18\n",
            "iteration 19\n",
            "                                        title  ...                                  ingredients_query\n",
            "40                  Janet's Rich Banana Bread  ...   butter melted white sugar egg vanilla extract...\n",
            "77            Jamie's Cranberry Spinach Salad  ...   butter almond blanched slivered spinach rinse...\n",
            "346                   Hungarian Mushroom Soup  ...   unsalted butter chopped onion fresh mushroom ...\n",
            "483                         Ranch Dressing II  ...   mayonnaise sour cream dried chive dried parsl...\n",
            "545                Day Before Mashed Potatoes  ...   potato peeled cubed cream cheese sour cream o...\n",
            "...                                       ...  ...                                                ...\n",
            "123973  Iceberg Lettuce with Russian Dressing  ...   large head iceberg lettuce cut wedge mayonnai...\n",
            "124145        Crisp Potato Slices with Caviar  ...   idaho potato sliced thin olive oil soft goat ...\n",
            "124188                  Sour Cream Cheesecake  ...   unsalted butter softened sugar large egg yolk...\n",
            "124397           Stuffed Portobello Mushrooms  ...   olive oil plus drizzling sauerkraut clove gar...\n",
            "124498               Fast Food Cheese Burgers  ...   ground beef percent lean freshly ground black...\n",
            "\n",
            "[990 rows x 4 columns]\n"
          ]
        },
        {
          "output_type": "stream",
          "name": "stderr",
          "text": [
            "/usr/local/lib/python3.7/dist-packages/gensim/models/doc2vec.py:570: UserWarning: The parameter `size` is deprecated, will be removed in 4.0.0, use `vector_size` instead.\n",
            "  warnings.warn(\"The parameter `size` is deprecated, will be removed in 4.0.0, use `vector_size` instead.\")\n"
          ]
        },
        {
          "output_type": "stream",
          "name": "stdout",
          "text": [
            "iteration 0\n"
          ]
        },
        {
          "output_type": "stream",
          "name": "stderr",
          "text": [
            "/usr/local/lib/python3.7/dist-packages/ipykernel_launcher.py:22: DeprecationWarning: Call to deprecated `iter` (Attribute will be removed in 4.0.0, use self.epochs instead).\n"
          ]
        },
        {
          "output_type": "stream",
          "name": "stdout",
          "text": [
            "iteration 1\n",
            "iteration 2\n",
            "iteration 3\n",
            "iteration 4\n",
            "iteration 5\n",
            "iteration 6\n",
            "iteration 7\n",
            "iteration 8\n",
            "iteration 9\n",
            "iteration 10\n",
            "iteration 11\n",
            "iteration 12\n",
            "iteration 13\n",
            "iteration 14\n",
            "iteration 15\n",
            "iteration 16\n",
            "iteration 17\n",
            "iteration 18\n",
            "iteration 19\n",
            "                                             title  ...                                  ingredients_query\n",
            "0                Slow Cooker Chicken and Dumplings  ...   skinless boneless chicken breast half butter ...\n",
            "2                             Brown Sugar Meatloaf  ...   packed brown sugar ketchup lean ground beef m...\n",
            "3                      Best Chocolate Chip Cookies  ...   butter softened white sugar packed brown suga...\n",
            "8                    The Best Rolled Sugar Cookies  ...   butter softened white sugar egg vanilla extra...\n",
            "10                    Downeast Maine Pumpkin Bread  ...   pumpkin puree egg vegetable oil water white s...\n",
            "...                                            ...  ...                                                ...\n",
            "124623          Baked Potatoes with All the Fixins  ...   baking potato canola oil grated cheddar sour ...\n",
            "124627                 Rhode Island Quahog Chowder  ...   red bliss potato cut inch dice water cover he...\n",
            "124630            Watermelon Granita Stuffed Limes  ...   lime water sugar watermelon piece seed remove...\n",
            "124632                  Eggnog-Chocolate Cake Roll  ...   vegetable oil plus pan allpurpose flour plus ...\n",
            "124634  Shrimp Noodles, Smoked Yogurt, Nori Powder  ...   peeled deveined shrimp activatg kind meat glu...\n",
            "\n",
            "[32671 rows x 4 columns]\n"
          ]
        },
        {
          "output_type": "stream",
          "name": "stderr",
          "text": [
            "/usr/local/lib/python3.7/dist-packages/gensim/models/doc2vec.py:570: UserWarning: The parameter `size` is deprecated, will be removed in 4.0.0, use `vector_size` instead.\n",
            "  warnings.warn(\"The parameter `size` is deprecated, will be removed in 4.0.0, use `vector_size` instead.\")\n"
          ]
        },
        {
          "output_type": "stream",
          "name": "stdout",
          "text": [
            "iteration 0\n"
          ]
        },
        {
          "output_type": "stream",
          "name": "stderr",
          "text": [
            "/usr/local/lib/python3.7/dist-packages/ipykernel_launcher.py:22: DeprecationWarning: Call to deprecated `iter` (Attribute will be removed in 4.0.0, use self.epochs instead).\n"
          ]
        },
        {
          "output_type": "stream",
          "name": "stdout",
          "text": [
            "iteration 1\n",
            "iteration 2\n",
            "iteration 3\n",
            "iteration 4\n",
            "iteration 5\n",
            "iteration 6\n",
            "iteration 7\n",
            "iteration 8\n",
            "iteration 9\n",
            "iteration 10\n",
            "iteration 11\n",
            "iteration 12\n",
            "iteration 13\n",
            "iteration 14\n",
            "iteration 15\n",
            "iteration 16\n",
            "iteration 17\n",
            "iteration 18\n",
            "iteration 19\n",
            "                                                    title  ...                                  ingredients_query\n",
            "263                            Turkey and Quinoa Meatloaf  ...   quinoa water olive oil small onion chopped la...\n",
            "379                                     Sangria! Sangria!  ...   brandy lemon juice frozen lemonade concentrat...\n",
            "535                             Oven Roasted Red Potatoes  ...   envelope dry onion soup mix red potato halved...\n",
            "831                               Classic Spanish Sangria  ...   lemon lime orange rum white sugar milliliter ...\n",
            "869                                      Quinoa Tabbouleh  ...   water quinoa pinch olive oil sea lemon juice ...\n",
            "...                                                   ...  ...                                                ...\n",
            "124173                                   Gazpacho Andaluz  ...   bread crumb water green bell pepper diced spa...\n",
            "124346                                   Pilaf-Style Rice  ...   extravirgin olive oil longgrain rice converte...\n",
            "124417  Marinated Calamari Salad with Ligurian Olives,...  ...   cleaned small squid pure olive oil clove garl...\n",
            "124481                                            Mojitos  ...   superfine sugar sprig fresh mint squeeze fres...\n",
            "124596                Spanish Style Chicken and Dumplings  ...   quart chicken stock pinch saffron extravirgin...\n",
            "\n",
            "[1354 rows x 4 columns]\n"
          ]
        },
        {
          "output_type": "stream",
          "name": "stderr",
          "text": [
            "/usr/local/lib/python3.7/dist-packages/gensim/models/doc2vec.py:570: UserWarning: The parameter `size` is deprecated, will be removed in 4.0.0, use `vector_size` instead.\n",
            "  warnings.warn(\"The parameter `size` is deprecated, will be removed in 4.0.0, use `vector_size` instead.\")\n"
          ]
        },
        {
          "output_type": "stream",
          "name": "stdout",
          "text": [
            "iteration 0\n"
          ]
        },
        {
          "output_type": "stream",
          "name": "stderr",
          "text": [
            "/usr/local/lib/python3.7/dist-packages/ipykernel_launcher.py:22: DeprecationWarning: Call to deprecated `iter` (Attribute will be removed in 4.0.0, use self.epochs instead).\n"
          ]
        },
        {
          "output_type": "stream",
          "name": "stdout",
          "text": [
            "iteration 1\n",
            "iteration 2\n",
            "iteration 3\n",
            "iteration 4\n",
            "iteration 5\n",
            "iteration 6\n",
            "iteration 7\n",
            "iteration 8\n",
            "iteration 9\n",
            "iteration 10\n",
            "iteration 11\n",
            "iteration 12\n",
            "iteration 13\n",
            "iteration 14\n",
            "iteration 15\n",
            "iteration 16\n",
            "iteration 17\n",
            "iteration 18\n",
            "iteration 19\n",
            "                                          title  ...                                  ingredients_query\n",
            "9                         Singapore Chili Crabs  ...  sauce ketchup chicken broth large egg soy sauc...\n",
            "315     Honey-Garlic Slow Cooker Chicken Thighs  ...   skinless boneless chicken thigh soy sauce ket...\n",
            "405                       Peanut Butter Noodles  ...   chicken broth minced fresh ginger root soy sa...\n",
            "961                  The Best Thai Coconut Soup  ...   vegetable oil grated fresh ginger stalk lemon...\n",
            "1152                             Asian Coleslaw  ...   rice wine vinegar vegetable oil creamy peanut...\n",
            "...                                         ...  ...                                                ...\n",
            "124137            Sweet-and-Sour Thai Fish Soup  ...   uncooked longgrain rice shallot peeled coarse...\n",
            "124178              Red Thai Curry Chicken Soup  ...   vegetable oil clove garlic chopped one inch p...\n",
            "124302  Stuffed Creole Flying Fish with Cou-Cou  ...  stuffed creole flying fish flying fish julienn...\n",
            "124496                            Tamarind Crab  ...   tamarind water fish sauce liquid palm sugar s...\n",
            "124513                Gai Yang: Grilled Chicken  ...   coriander root scraped chopped pinch garlic c...\n",
            "\n",
            "[1150 rows x 4 columns]\n"
          ]
        },
        {
          "output_type": "stream",
          "name": "stderr",
          "text": [
            "/usr/local/lib/python3.7/dist-packages/gensim/models/doc2vec.py:570: UserWarning: The parameter `size` is deprecated, will be removed in 4.0.0, use `vector_size` instead.\n",
            "  warnings.warn(\"The parameter `size` is deprecated, will be removed in 4.0.0, use `vector_size` instead.\")\n"
          ]
        },
        {
          "output_type": "stream",
          "name": "stdout",
          "text": [
            "iteration 0\n"
          ]
        },
        {
          "output_type": "stream",
          "name": "stderr",
          "text": [
            "/usr/local/lib/python3.7/dist-packages/ipykernel_launcher.py:22: DeprecationWarning: Call to deprecated `iter` (Attribute will be removed in 4.0.0, use self.epochs instead).\n"
          ]
        },
        {
          "output_type": "stream",
          "name": "stdout",
          "text": [
            "iteration 1\n",
            "iteration 2\n",
            "iteration 3\n",
            "iteration 4\n",
            "iteration 5\n",
            "iteration 6\n",
            "iteration 7\n",
            "iteration 8\n",
            "iteration 9\n",
            "iteration 10\n",
            "iteration 11\n",
            "iteration 12\n",
            "iteration 13\n",
            "iteration 14\n",
            "iteration 15\n",
            "iteration 16\n",
            "iteration 17\n",
            "iteration 18\n",
            "iteration 19\n",
            "                                                    title  ...                                  ingredients_query\n",
            "1393                        Vietnamese Fresh Spring Rolls  ...   rice vermicelli rice wrapper inch diameter la...\n",
            "1916                                  Thai Cucumber Salad  ...   large cucumber peeled halved lengthwise seede...\n",
            "4602                            Ten Clove Garlic Marinade  ...   vegetable oil worcestershire sauce soy sauce ...\n",
            "4649                               Roast Beef with Coffee  ...   chuck roast clove garlic minced prepared stro...\n",
            "6408                                             Beef Pho  ...   beef knuckle meat beef oxtail white daikon ra...\n",
            "...                                                   ...  ...                                                ...\n",
            "123466  Pippies Wok Tossed With Chile and Asian Basil:...  ...   lemongrass stalk bruised sliced cm length g p...\n",
            "123680                                     Bean Curd Soup  ...   vegetable stock fish sauce soy sauce preserve...\n",
            "123899                               FeasTO Pho Dumplings  ...   ground beef finely chopped napa cabbage finel...\n",
            "123934     Fried Whole Red Snapper with Spicy Chile Sauce  ...   fish sauce water chile garlic sauce lime juic...\n",
            "124122  Halong Mussels, Cooked In Lemongrass Scented C...  ...   g mussel cleaned debearded vegetable oil dice...\n",
            "\n",
            "[537 rows x 4 columns]\n"
          ]
        },
        {
          "output_type": "stream",
          "name": "stderr",
          "text": [
            "/usr/local/lib/python3.7/dist-packages/gensim/models/doc2vec.py:570: UserWarning: The parameter `size` is deprecated, will be removed in 4.0.0, use `vector_size` instead.\n",
            "  warnings.warn(\"The parameter `size` is deprecated, will be removed in 4.0.0, use `vector_size` instead.\")\n"
          ]
        },
        {
          "output_type": "stream",
          "name": "stdout",
          "text": [
            "iteration 0\n"
          ]
        },
        {
          "output_type": "stream",
          "name": "stderr",
          "text": [
            "/usr/local/lib/python3.7/dist-packages/ipykernel_launcher.py:22: DeprecationWarning: Call to deprecated `iter` (Attribute will be removed in 4.0.0, use self.epochs instead).\n"
          ]
        },
        {
          "output_type": "stream",
          "name": "stdout",
          "text": [
            "iteration 1\n",
            "iteration 2\n",
            "iteration 3\n",
            "iteration 4\n",
            "iteration 5\n",
            "iteration 6\n",
            "iteration 7\n",
            "iteration 8\n",
            "iteration 9\n",
            "iteration 10\n",
            "iteration 11\n",
            "iteration 12\n",
            "iteration 13\n",
            "iteration 14\n",
            "iteration 15\n",
            "iteration 16\n",
            "iteration 17\n",
            "iteration 18\n",
            "iteration 19\n"
          ]
        }
      ]
    },
    {
      "cell_type": "markdown",
      "metadata": {
        "id": "aORHUZjEb0Ie"
      },
      "source": [
        "#Prediction"
      ]
    },
    {
      "cell_type": "code",
      "metadata": {
        "id": "PDBEGYyIcGBP"
      },
      "source": [
        "def get_tokenize_text(input_text):\n",
        "    # list of stopwords\n",
        "    stop_word_list = nltk.corpus.stopwords.words(\"english\")\n",
        "\n",
        "    # Extend list of stop words\n",
        "    stop_word_list.extend(additional_stop_words)\n",
        "\n",
        "    return preprocess_text(input_text, flg_stemm=False, flg_lemm=True, lst_stopwords=stop_word_list)"
      ],
      "execution_count": null,
      "outputs": []
    },
    {
      "cell_type": "code",
      "metadata": {
        "id": "515KykAMRAfY"
      },
      "source": [
        "  def predict_cuisine(input_text):\n",
        "    top = 3\n",
        "    \n",
        "    # Tokenize text\n",
        "    tokenize_text = get_tokenize_text(input_text)\n",
        "    \n",
        "    # Get model\n",
        "    model_path = os.path.join(MODEL_PATH, 'pickle_model.pkl')\n",
        "    model = load_pkl(model_path)\n",
        "    \n",
        "    # Tokenize text\n",
        "    tokenize_text = get_tokenize_text(input_text)\n",
        "\n",
        "    # Get classes ordered by probability\n",
        "    proba = model.predict_proba([tokenize_text])[0]\n",
        "\n",
        "    # Sorted index list \n",
        "    indexes = sorted(range(len(proba)), key=lambda k: proba[k], reverse=True)\n",
        "\n",
        "    # Get cuisine\n",
        "    cuisine_labels = model.classes_.tolist()\n",
        "    cusine_ordered = [cuisine_labels[ind] for ind in indexes]\n",
        "\n",
        "    return cusine_ordered[:top]"
      ],
      "execution_count": null,
      "outputs": []
    },
    {
      "cell_type": "code",
      "metadata": {
        "id": "CU7YIBYvb4jH"
      },
      "source": [
        "ingredients_list = ['Chicken','Tomato','Onion','Salt']"
      ],
      "execution_count": null,
      "outputs": []
    },
    {
      "cell_type": "code",
      "metadata": {
        "id": "_JmnxvTL2Lv8"
      },
      "source": [
        "ingredients_list2 = ['coffee','sugar']"
      ],
      "execution_count": null,
      "outputs": []
    },
    {
      "cell_type": "code",
      "metadata": {
        "id": "SjIyZ5V0e5Sj"
      },
      "source": [
        " text = ' '.join(ingredients_list)"
      ],
      "execution_count": null,
      "outputs": []
    },
    {
      "cell_type": "code",
      "metadata": {
        "id": "3yexV2oW2dJt"
      },
      "source": [
        "text2 =  ' '.join(ingredients_list2)"
      ],
      "execution_count": null,
      "outputs": []
    },
    {
      "cell_type": "code",
      "metadata": {
        "id": "XQyfMixzfD--"
      },
      "source": [
        "cusines = predict_cuisine(text2)"
      ],
      "execution_count": null,
      "outputs": []
    },
    {
      "cell_type": "code",
      "metadata": {
        "colab": {
          "base_uri": "https://localhost:8080/"
        },
        "id": "Lc7GTGsffLB4",
        "outputId": "b4d620eb-336f-4974-c18b-cad2cb0c8e1f"
      },
      "source": [
        "cusines"
      ],
      "execution_count": null,
      "outputs": [
        {
          "output_type": "execute_result",
          "data": {
            "text/plain": [
              "['vietnamese', 'italian', 'french']"
            ]
          },
          "metadata": {},
          "execution_count": 404
        }
      ]
    },
    {
      "cell_type": "markdown",
      "metadata": {
        "id": "Q3kHsJQNg6Y7"
      },
      "source": [
        "##Finding similiar recipes"
      ]
    },
    {
      "cell_type": "code",
      "metadata": {
        "id": "-WacykJYg6E7"
      },
      "source": [
        " # Tokenize text\n",
        "tokenize_text = get_tokenize_text(text).split()\n",
        "    \n",
        "cuisine = 'indian'\n",
        "  # Load model from the selected cuisine\n",
        "d2v = load_pkl(os.path.join(MODEL_EMBEDDINGS_PATH, f'd2v_{cuisine}.pkl'))\n"
      ],
      "execution_count": null,
      "outputs": []
    },
    {
      "cell_type": "code",
      "metadata": {
        "id": "ydR84iByi2rK"
      },
      "source": [
        "# Get embeddings\n",
        "embeddings = d2v.infer_vector(tokenize_text)\n",
        "best_recipes = d2v.docvecs.most_similar([embeddings]) #gives you top 10 document tags and their cosine similarity\n",
        "\n",
        "# Get recipes\n",
        "best_recipes_index = [int(output[0]) for output in best_recipes]"
      ],
      "execution_count": null,
      "outputs": []
    },
    {
      "cell_type": "code",
      "metadata": {
        "id": "kXn57YWAkxd5"
      },
      "source": [
        "# Get recipes\n",
        "best_recipes_index = [int(output[0]) for output in best_recipes]"
      ],
      "execution_count": null,
      "outputs": []
    },
    {
      "cell_type": "code",
      "metadata": {
        "colab": {
          "base_uri": "https://localhost:8080/"
        },
        "id": "iToWC3EEk8z0",
        "outputId": "ef869f61-1ed3-4382-f877-f620d6cf7069"
      },
      "source": [
        "best_recipes_index"
      ],
      "execution_count": null,
      "outputs": [
        {
          "output_type": "execute_result",
          "data": {
            "text/plain": [
              "[1139, 3628, 1700, 1665, 3701, 1290, 1921, 2721, 2056, 2624]"
            ]
          },
          "metadata": {},
          "execution_count": 443
        }
      ]
    },
    {
      "cell_type": "code",
      "metadata": {
        "id": "_u8iR2JYk98t",
        "outputId": "71e42d85-1bd2-4c17-c1f1-c9f41cb44bc8",
        "colab": {
          "base_uri": "https://localhost:8080/",
          "height": 1000
        }
      },
      "source": [
        "data_recipes = data.iloc[:,0:4]\n",
        "recipes_data = data_recipes[data_recipes.index.isin(best_recipes_index)].head(5)"
      ],
      "execution_count": null,
      "outputs": [
        {
          "output_type": "error",
          "ename": "NameError",
          "evalue": "ignored",
          "traceback": [
            "\u001b[0;31m---------------------------------------------------------------------------\u001b[0m",
            "\u001b[0;31mNameError\u001b[0m                                 Traceback (most recent call last)",
            "\u001b[0;32m<ipython-input-1-abcece143180>\u001b[0m in \u001b[0;36m<module>\u001b[0;34m()\u001b[0m\n\u001b[0;32m----> 1\u001b[0;31m \u001b[0mdata_recipes\u001b[0m \u001b[0;34m=\u001b[0m \u001b[0mdata\u001b[0m\u001b[0;34m.\u001b[0m\u001b[0miloc\u001b[0m\u001b[0;34m[\u001b[0m\u001b[0;34m:\u001b[0m\u001b[0;34m,\u001b[0m\u001b[0;36m0\u001b[0m\u001b[0;34m:\u001b[0m\u001b[0;36m4\u001b[0m\u001b[0;34m]\u001b[0m\u001b[0;34m\u001b[0m\u001b[0;34m\u001b[0m\u001b[0m\n\u001b[0m\u001b[1;32m      2\u001b[0m \u001b[0mrecipes_data\u001b[0m \u001b[0;34m=\u001b[0m \u001b[0mdata_recipes\u001b[0m\u001b[0;34m[\u001b[0m\u001b[0mdata_recipes\u001b[0m\u001b[0;34m.\u001b[0m\u001b[0mindex\u001b[0m\u001b[0;34m.\u001b[0m\u001b[0misin\u001b[0m\u001b[0;34m(\u001b[0m\u001b[0mbest_recipes_index\u001b[0m\u001b[0;34m)\u001b[0m\u001b[0;34m]\u001b[0m\u001b[0;34m.\u001b[0m\u001b[0mhead\u001b[0m\u001b[0;34m(\u001b[0m\u001b[0;36m5\u001b[0m\u001b[0;34m)\u001b[0m\u001b[0;34m\u001b[0m\u001b[0;34m\u001b[0m\u001b[0m\n",
            "\u001b[0;31mNameError\u001b[0m: name 'data' is not defined"
          ]
        }
      ]
    },
    {
      "cell_type": "code",
      "metadata": {
        "colab": {
          "base_uri": "https://localhost:8080/",
          "height": 143
        },
        "id": "btORYQIimGs5",
        "outputId": "1a9abbca-f792-4932-efaa-1144b5a13e84"
      },
      "source": [
        "recipes_data"
      ],
      "execution_count": null,
      "outputs": [
        {
          "output_type": "execute_result",
          "data": {
            "text/html": [
              "<div>\n",
              "<style scoped>\n",
              "    .dataframe tbody tr th:only-of-type {\n",
              "        vertical-align: middle;\n",
              "    }\n",
              "\n",
              "    .dataframe tbody tr th {\n",
              "        vertical-align: top;\n",
              "    }\n",
              "\n",
              "    .dataframe thead th {\n",
              "        text-align: right;\n",
              "    }\n",
              "</style>\n",
              "<table border=\"1\" class=\"dataframe\">\n",
              "  <thead>\n",
              "    <tr style=\"text-align: right;\">\n",
              "      <th></th>\n",
              "      <th>title</th>\n",
              "      <th>ingredients</th>\n",
              "      <th>instructions</th>\n",
              "      <th>ingredients_query</th>\n",
              "    </tr>\n",
              "  </thead>\n",
              "  <tbody>\n",
              "    <tr>\n",
              "      <th>1139</th>\n",
              "      <td>Slow Cooker Lentil and Ham Soup</td>\n",
              "      <td>[1 cup dried lentils ADVERTISEMENT, 1 cup chop...</td>\n",
              "      <td>In a 3 1/2 quart or larger slow cooker combine...</td>\n",
              "      <td>dried lentil chopped celery chopped carrot ch...</td>\n",
              "    </tr>\n",
              "    <tr>\n",
              "      <th>1290</th>\n",
              "      <td>Irresistible Pecan Pie</td>\n",
              "      <td>[1 1/2 cups all-purpose flour ADVERTISEMENT, 1...</td>\n",
              "      <td>Preheat oven to 350 degrees F (175 degrees C)....</td>\n",
              "      <td>allpurpose flour white sugar butter chilled i...</td>\n",
              "    </tr>\n",
              "    <tr>\n",
              "      <th>1665</th>\n",
              "      <td>Jagerschnitzel</td>\n",
              "      <td>[1 cup bread crumbs ADVERTISEMENT, 1 tablespoo...</td>\n",
              "      <td>In a shallow dish, mix together the bread crum...</td>\n",
              "      <td>bread crumb allpurpose flour taste vegetable ...</td>\n",
              "    </tr>\n",
              "  </tbody>\n",
              "</table>\n",
              "</div>"
            ],
            "text/plain": [
              "                                title  ...                                  ingredients_query\n",
              "1139  Slow Cooker Lentil and Ham Soup  ...   dried lentil chopped celery chopped carrot ch...\n",
              "1290           Irresistible Pecan Pie  ...   allpurpose flour white sugar butter chilled i...\n",
              "1665                   Jagerschnitzel  ...   bread crumb allpurpose flour taste vegetable ...\n",
              "\n",
              "[3 rows x 4 columns]"
            ]
          },
          "metadata": {},
          "execution_count": 445
        }
      ]
    },
    {
      "cell_type": "code",
      "metadata": {
        "colab": {
          "base_uri": "https://localhost:8080/"
        },
        "id": "OsuzIYWZvfov",
        "outputId": "44661cf5-d91d-4c17-a574-97a26bd07c77"
      },
      "source": [
        "recipes_data['ingredients']"
      ],
      "execution_count": null,
      "outputs": [
        {
          "output_type": "execute_result",
          "data": {
            "text/plain": [
              "1139    [1 cup dried lentils ADVERTISEMENT, 1 cup chop...\n",
              "1290    [1 1/2 cups all-purpose flour ADVERTISEMENT, 1...\n",
              "1665    [1 cup bread crumbs ADVERTISEMENT, 1 tablespoo...\n",
              "Name: ingredients, dtype: object"
            ]
          },
          "metadata": {},
          "execution_count": 446
        }
      ]
    },
    {
      "cell_type": "code",
      "metadata": {
        "colab": {
          "base_uri": "https://localhost:8080/"
        },
        "id": "8i3c9ve0yM4i",
        "outputId": "a19cfdc7-b14e-4351-a071-1821c1ad2595"
      },
      "source": [
        "sep = '\\n\\n'\n",
        "for index, row in recipes_data.iterrows():\n",
        "  title = 'Title: ' + row['title'] \n",
        "  ingredients=''\n",
        "  list_ing = str(row['ingredients']).replace('ADVERTISEMENT', '').strip('][').split(', ')\n",
        "  for ingredient in list_ing:\n",
        "      ingredients += ingredient.replace(\"'\", \"\") + '\\n'\n",
        "  ingredients = 'Ingredients: ' + '\\n' + ingredients\n",
        "  instructions = 'Instruction: '+ '\\n' + row['instructions']\n",
        "\n",
        "  txt = title + sep + ingredients + sep + instructions\n",
        "  print(txt)\n",
        "\n"
      ],
      "execution_count": null,
      "outputs": [
        {
          "output_type": "stream",
          "name": "stdout",
          "text": [
            "Title: Slow Cooker Lentil and Ham Soup\n",
            "\n",
            "Ingredients: \n",
            "1 cup dried lentils \n",
            "1 cup chopped celery \n",
            "1 cup chopped carrots \n",
            "1 cup chopped onion \n",
            "2 cloves garlic\n",
            "minced \n",
            "1 1/2 cups diced cooked ham \n",
            "1/2 teaspoon dried basil \n",
            "1/4 teaspoon dried thyme \n",
            "1/2 teaspoon dried oregano \n",
            "1 bay leaf \n",
            "1/4 teaspoon black pepper \n",
            "32 ounces chicken broth \n",
            "1 cup water \n",
            "8 teaspoons tomato sauce \n",
            "\n",
            "\n",
            "\n",
            "Instruction: \n",
            "In a 3 1/2 quart or larger slow cooker combine the lentils, celery, carrots, onion, garlic and ham. Season with basil, thyme, oregano, the bay leaf and pepper. Stir in the chicken broth, water and tomato sauce. Cover and cook on Low for 11 hours. Discard the bay leaf before serving.\n",
            "\n",
            "Title: Irresistible Pecan Pie\n",
            "\n",
            "Ingredients: \n",
            "1 1/2 cups all-purpose flour \n",
            "1/2 teaspoon salt \n",
            "2 tablespoons white sugar \n",
            "1/2 cup butter\n",
            "chilled \n",
            "4 tablespoons ice water \n",
            "3 eggs\n",
            "beaten \n",
            "3/4 cup light corn syrup \n",
            "2 tablespoons dark corn syrup \n",
            "3/4 cup light brown sugar \n",
            "3 tablespoons butter\n",
            "melted \n",
            "1 pinch salt \n",
            "1/2 cup pecans\n",
            "finely crushed \n",
            "1 cup pecans\n",
            "quartered \n",
            "1 cup pecan halves \n",
            "\n",
            "\n",
            "\n",
            "Instruction: \n",
            "Preheat oven to 350 degrees F (175 degrees C).\n",
            "To Make Crust: In a medium bowl, combine flour, salt and white sugar. Cut butter into flour mixture until it resembles coarse crumbs. Gradually sprinkle the water over the dry mixture, stirring until dough comes together enough to form a ball.\n",
            "On a floured surface flatten dough ball with rolling pin. Roll out into a circle that is one inch larger than pie dish. Place pie shell into dish and refrigerate until pie filling is complete.\n",
            "To Make Pie Filling: In a medium bowl, mix together eggs, light and dark corn syrups, brown sugar, butter, salt and finely crushed pecans. Spread quartered pecans over bottom of refrigerated pie crust. Pour syrup mixture over top of pecans, then arrange pecan halves on top of pie.\n",
            "Bake in a preheated 350 degrees F (175 degrees C) oven for one hour or until firm; let cool for one hour before serving.\n",
            "\n",
            "Title: Jagerschnitzel\n",
            "\n",
            "Ingredients: \n",
            "1 cup bread crumbs \n",
            "1 tablespoon all-purpose flour \n",
            "salt and pepper to taste \n",
            "2 tablespoons vegetable oil \n",
            "4 pork steaks or cutlets\n",
            "pounded thin \n",
            "1 egg\n",
            "beaten \n",
            "1 medium onion\n",
            "diced \n",
            "1 (8 ounce) can sliced mushrooms \n",
            "1 1/2 cups water \n",
            "1 cube beef bouillon \n",
            "1 tablespoon cornstarch \n",
            "1/2 cup sour cream \n",
            "\n",
            "\n",
            "\n",
            "Instruction: \n",
            "In a shallow dish, mix together the bread crumbs and flour. Season with salt and pepper. Place the egg in a separate dish. Heat oil in a large skillet over medium-high heat. Dip pork steaks in egg, then coat with the bread crumb mixture. Fry in the hot oil until browned on both sides and cooked through, about 5 minutes per side.\n",
            "Remove the pork to a platter and keep warm. Add onion and mushrooms to the skillet and cook until lightly browned. Pour in water and dissolve the bouillon cube. Simmer for about 20 minutes. Stir together the cornstarch and sour cream; stir into the skillet. Cook over low heat until thickened but do not boil. Spoon over the pork cutlets and serve immediately.\n",
            "\n"
          ]
        }
      ]
    }
  ]
}